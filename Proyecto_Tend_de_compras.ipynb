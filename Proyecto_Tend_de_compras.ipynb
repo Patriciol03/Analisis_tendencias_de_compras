{
  "nbformat": 4,
  "nbformat_minor": 0,
  "metadata": {
    "colab": {
      "provenance": [],
      "authorship_tag": "ABX9TyNcQmISRvJVJM2QkQyJQtUe",
      "include_colab_link": true
    },
    "kernelspec": {
      "name": "python3",
      "display_name": "Python 3"
    },
    "language_info": {
      "name": "python"
    }
  },
  "cells": [
    {
      "cell_type": "markdown",
      "metadata": {
        "id": "view-in-github",
        "colab_type": "text"
      },
      "source": [
        "<a href=\"https://colab.research.google.com/github/Patriciol03/Reporte_tendencias_de_compras/blob/main/Proyecto_Tend_de_compras.ipynb\" target=\"_parent\"><img src=\"https://colab.research.google.com/assets/colab-badge.svg\" alt=\"Open In Colab\"/></a>"
      ]
    },
    {
      "cell_type": "code",
      "execution_count": null,
      "metadata": {
        "id": "51JkAqNOM7Ii"
      },
      "outputs": [],
      "source": []
    },
    {
      "cell_type": "markdown",
      "source": [
        "# Tendencias de compras en usuarios a traves del Ecommerce\n",
        "## Introduccion al Proyecto"
      ],
      "metadata": {
        "id": "qBixz2sHNI13"
      }
    },
    {
      "cell_type": "markdown",
      "source": [
        "**Descripcion:** El proyecto busca explorar y analizar los datos de una base de clientes de un ecommerce para identificar patrones de comportamiento y tendencias en sus compras. La información del dataset incluye aspectos demográficos, preferencias de compra, calificaciones y métodos de pago, entre otros. Los resultados del análisis podrán ser utilizados para optimizar estrategias de marketing, personalización de ofertas y mejora en la experiencia de usuario.\n",
        "\n",
        "**Objetivo:** Detectar patrones de comportamiento de compra y tendencias relevantes en los clientes para proponer estrategias que incrementen la efectividad del negocio, como segmentación de mercado, personalización de promociones y optimización de la logística.\n",
        "\n",
        "**Hipotesis:**\n",
        "\n",
        "1) El género y la edad influyen significativamente en las categorías de productos más comprados y los métodos de pago preferidos.\n",
        "\n",
        "*Por ejemplo:* Las mujeres jóvenes podrían preferir ropa y accesorios específicos, mientras que los hombres mayores podrían inclinarse por compras de calzado.\n",
        "\n",
        "2) Los clientes con suscripción tienen una mayor frecuencia de compras y generan un mayor monto promedio por transacción que los clientes no suscritos.\n",
        "\n",
        "Por ejemplo: La fidelidad del cliente suscrito podría estar asociada a promociones exclusivas o envío gratuito.\n"
      ],
      "metadata": {
        "id": "3EKFfWgUNjGW"
      }
    },
    {
      "cell_type": "markdown",
      "source": [
        "A partir de las 2 hipotesis, se plantearan las siguientes preguntas de interes que ayudaran a explorar el dataset de una forma complementaria y generar insights más profundos.\n",
        "\n",
        "1- ¿Cuál es la relación entre la edad de los clientes y las categorías de productos comprados?\n",
        "\n",
        "2- ¿Qué método de envío es más utilizado por clientes según su ciudad y categoría de producto?\n",
        "\n",
        "3- ¿Qué ciudades generan mayores ingresos para el ecommerce, y qué categorías son las más compradas en cada ciudad?\n",
        "\n",
        "4- ¿Cuántas compras anteriores tienen en promedio los clientes que utilizan códigos promocionales frente a los que no los usan?\n",
        "\n",
        "5 - ¿Cual fue el color mas vendido de una categoria y un talle determinado?\n"
      ],
      "metadata": {
        "id": "KJL8gxhKSimT"
      }
    },
    {
      "cell_type": "markdown",
      "source": [
        "**Algunas de las variables mas interesantes del data set para generar insigths utiles son:**\n",
        "\n",
        "* Edad: Permite segmentar a los clientes por grupos generacionales y analizar patrones asociados a etapas de la vida.\n",
        "* Género: Útil para identificar diferencias de comportamiento en compras entre hombres y mujeres.\n",
        "* Categoría (ropa, calzado, accesorios, etc.): Clave para entender las preferencias generales del cliente y qué sectores tienen mayor demanda.\n",
        "* Frecuencia de compras: Ayuda a clasificar clientes en grupos como frecuentes, ocasionales o inactivos.\n",
        "* Código promocional usado (sí o no): Puede revelar la efectividad de campañas promocionales.\n",
        "* Suscripción (sí o no): Permite analizar cómo la suscripción afecta la lealtad, frecuencia y el monto de compra.\n",
        "* Calificación (0-5): Indicador directo de satisfacción del cliente con el producto o el servicio."
      ],
      "metadata": {
        "id": "NTnMYtAiAJ09"
      }
    },
    {
      "cell_type": "markdown",
      "source": [
        "## Descripcion de columnas"
      ],
      "metadata": {
        "id": "sXx6b63q1si6"
      }
    },
    {
      "cell_type": "markdown",
      "source": [
        "En total son 16 columnas con informacion relevante de las compras realizadas por diferentes clientes en la tienda online."
      ],
      "metadata": {
        "id": "6KQf7-pu1wLq"
      }
    },
    {
      "cell_type": "markdown",
      "source": [
        "* **Cliente id:** Identificador unico de cada cliente.\n",
        "* **Edad:** Edad del cliente.\n",
        "* **Genero:** Genero del cliente, segmentado unicamente en Hombre y Mujer.\n",
        "* **Articulo comprado:** Tipo de articulo de la compra, puede variar entre blusa, sueter, camisa, etc.\n",
        "* **Categoría:** Segmentacion de los articulos, por ejemplo: ropa,\n",
        "calzado,accesorios,etc.\n",
        "* **Monto de compra en USD:** Monto expresado en numeros decimales.\n",
        "* **Ciudad:** Ciudad correspondiente al cliente.\n",
        "* **Tamaño:** Hace referencia al arituculo comprado, puede ser l, s, xl, etc.\n",
        "* **Color:** Hace referencia al articulo comprado.\n",
        "* **Calificación:** Calificacion del articulo brindada por el cliente, puede ir desde 0 a 5 (incluye decimales)\n",
        "* **Suscripción:** Indica si el cliente esta suscripto al plan de clientes o no.\n",
        "* **Envio:** Tipo de envio usado por el cliente, por ejemplo: Expres, estándar, gratis, etc.\n",
        "* **Descuento aplicado:** Indica si hubo o no un descuento aplicado en la compra del cliente.\n",
        "* **Codigo promocional usado:** Indica si el cliente utilizo o no un codigo promocional al momento de la compra.\n",
        "* **Compras anteriores:** Refleja la cantidad de compras realizadas con anterioridad por el mismo cliente.\n",
        "* **Método de pago:** Metodo de pago utilizado por el cliente en la compra.\n",
        "* **Frecuencia de compras:** Hace referencia a la frecuencia de compra del cliente, pudiendo ser quincenal, mensual, anual,etc."
      ],
      "metadata": {
        "id": "MeN41aRM2POq"
      }
    },
    {
      "cell_type": "markdown",
      "source": [
        "# Exploracion y manipulacion del dataset"
      ],
      "metadata": {
        "id": "Dg4a9fHCc7lh"
      }
    },
    {
      "cell_type": "markdown",
      "source": [
        "##Carga de archivo e importacion de librerias"
      ],
      "metadata": {
        "id": "-rfZPWj28TQS"
      }
    },
    {
      "cell_type": "code",
      "source": [
        "#importacion de librerias\n",
        "import pandas as pd\n",
        "import numpy as np\n",
        "import matplotlib.pyplot as plt\n",
        "import matplotlib as mpl\n",
        "import seaborn as sns"
      ],
      "metadata": {
        "id": "FThQR1ZJbQN_"
      },
      "execution_count": 1,
      "outputs": []
    },
    {
      "cell_type": "code",
      "source": [
        "#importacion de dataset en formato SCV.\n",
        "\n",
        "url = 'https://raw.githubusercontent.com/Patriciol03/Reporte_tendencias_de_compras/refs/heads/main/Tendencias-de-compras.csv'\n",
        "df_tend_de_compras = pd.read_csv(url, index_col=0, delimiter = \",\")"
      ],
      "metadata": {
        "id": "32h-YOtubiFn"
      },
      "execution_count": 4,
      "outputs": []
    },
    {
      "cell_type": "markdown",
      "source": [
        "## Analisis/Exploracion de calidad en los datos\n"
      ],
      "metadata": {
        "id": "KiGtBn2zcoSO"
      }
    },
    {
      "cell_type": "markdown",
      "source": [
        "1) vista previa del data set, primeros 5 registros"
      ],
      "metadata": {
        "id": "VH1dWdZ-mf6u"
      }
    },
    {
      "cell_type": "code",
      "source": [
        "df_tend_de_compras.head()"
      ],
      "metadata": {
        "colab": {
          "base_uri": "https://localhost:8080/",
          "height": 376
        },
        "id": "bIzNxc5XcswV",
        "outputId": "0f3aa1f6-e43b-41f8-bef9-61c96ab8e0a6"
      },
      "execution_count": 10,
      "outputs": [
        {
          "output_type": "execute_result",
          "data": {
            "text/plain": [
              "            Edad  Genero Articulo Comprado Categoria  Monto de compra (USD)  \\\n",
              "Cliente_ID                                                                    \n",
              "1             55  Hombre             Blusa      Ropa                     53   \n",
              "2             19  Hombre            Suéter      Ropa                     64   \n",
              "3             50  Hombre          Vaqueros      Ropa                     73   \n",
              "4             21  Hombre         Sandalias   Calzado                     90   \n",
              "5             45  Hombre             Blusa      Ropa                     49   \n",
              "\n",
              "                   Ciudad Tamaño     Color  Calificacion_cliente Suscripcion  \\\n",
              "Cliente_ID                                                                     \n",
              "1                Kentucky      L      Gris                   3.1          Si   \n",
              "2                   Maine      L    Marrón                   3.1          Si   \n",
              "3           Massachusetts      S    Marrón                   3.1          Si   \n",
              "4            Rhode Island      M    Marrón                   3.5          Si   \n",
              "5                  Oregón      M  Turquesa                   2.7          Si   \n",
              "\n",
              "                            Envio Descuento aplicado Codigo promocional usado  \\\n",
              "Cliente_ID                                                                      \n",
              "1                          Expres                 Si                       Si   \n",
              "2                          Expres                 Si                       Si   \n",
              "3                    Envío Gratis                 Si                       Si   \n",
              "4           Aire al día siguiente                 Si                       Si   \n",
              "5                    Envío Gratis                 Si                       Si   \n",
              "\n",
              "            Compas anteriores      Metodo de pago Frecuencia de compras  \n",
              "Cliente_ID                                                               \n",
              "1                          14               Venmo             Quincenal  \n",
              "2                           2            Efectivo             Quincenal  \n",
              "3                          23  Tarjeta de crédito               Semanal  \n",
              "4                          49              PayPal               Semanal  \n",
              "5                          31              PayPal            Anualmente  "
            ],
            "text/html": [
              "\n",
              "  <div id=\"df-ae1a439a-7213-493b-ba59-8ff0cdb2b034\" class=\"colab-df-container\">\n",
              "    <div>\n",
              "<style scoped>\n",
              "    .dataframe tbody tr th:only-of-type {\n",
              "        vertical-align: middle;\n",
              "    }\n",
              "\n",
              "    .dataframe tbody tr th {\n",
              "        vertical-align: top;\n",
              "    }\n",
              "\n",
              "    .dataframe thead th {\n",
              "        text-align: right;\n",
              "    }\n",
              "</style>\n",
              "<table border=\"1\" class=\"dataframe\">\n",
              "  <thead>\n",
              "    <tr style=\"text-align: right;\">\n",
              "      <th></th>\n",
              "      <th>Edad</th>\n",
              "      <th>Genero</th>\n",
              "      <th>Articulo Comprado</th>\n",
              "      <th>Categoria</th>\n",
              "      <th>Monto de compra (USD)</th>\n",
              "      <th>Ciudad</th>\n",
              "      <th>Tamaño</th>\n",
              "      <th>Color</th>\n",
              "      <th>Calificacion_cliente</th>\n",
              "      <th>Suscripcion</th>\n",
              "      <th>Envio</th>\n",
              "      <th>Descuento aplicado</th>\n",
              "      <th>Codigo promocional usado</th>\n",
              "      <th>Compas anteriores</th>\n",
              "      <th>Metodo de pago</th>\n",
              "      <th>Frecuencia de compras</th>\n",
              "    </tr>\n",
              "    <tr>\n",
              "      <th>Cliente_ID</th>\n",
              "      <th></th>\n",
              "      <th></th>\n",
              "      <th></th>\n",
              "      <th></th>\n",
              "      <th></th>\n",
              "      <th></th>\n",
              "      <th></th>\n",
              "      <th></th>\n",
              "      <th></th>\n",
              "      <th></th>\n",
              "      <th></th>\n",
              "      <th></th>\n",
              "      <th></th>\n",
              "      <th></th>\n",
              "      <th></th>\n",
              "      <th></th>\n",
              "    </tr>\n",
              "  </thead>\n",
              "  <tbody>\n",
              "    <tr>\n",
              "      <th>1</th>\n",
              "      <td>55</td>\n",
              "      <td>Hombre</td>\n",
              "      <td>Blusa</td>\n",
              "      <td>Ropa</td>\n",
              "      <td>53</td>\n",
              "      <td>Kentucky</td>\n",
              "      <td>L</td>\n",
              "      <td>Gris</td>\n",
              "      <td>3.1</td>\n",
              "      <td>Si</td>\n",
              "      <td>Expres</td>\n",
              "      <td>Si</td>\n",
              "      <td>Si</td>\n",
              "      <td>14</td>\n",
              "      <td>Venmo</td>\n",
              "      <td>Quincenal</td>\n",
              "    </tr>\n",
              "    <tr>\n",
              "      <th>2</th>\n",
              "      <td>19</td>\n",
              "      <td>Hombre</td>\n",
              "      <td>Suéter</td>\n",
              "      <td>Ropa</td>\n",
              "      <td>64</td>\n",
              "      <td>Maine</td>\n",
              "      <td>L</td>\n",
              "      <td>Marrón</td>\n",
              "      <td>3.1</td>\n",
              "      <td>Si</td>\n",
              "      <td>Expres</td>\n",
              "      <td>Si</td>\n",
              "      <td>Si</td>\n",
              "      <td>2</td>\n",
              "      <td>Efectivo</td>\n",
              "      <td>Quincenal</td>\n",
              "    </tr>\n",
              "    <tr>\n",
              "      <th>3</th>\n",
              "      <td>50</td>\n",
              "      <td>Hombre</td>\n",
              "      <td>Vaqueros</td>\n",
              "      <td>Ropa</td>\n",
              "      <td>73</td>\n",
              "      <td>Massachusetts</td>\n",
              "      <td>S</td>\n",
              "      <td>Marrón</td>\n",
              "      <td>3.1</td>\n",
              "      <td>Si</td>\n",
              "      <td>Envío Gratis</td>\n",
              "      <td>Si</td>\n",
              "      <td>Si</td>\n",
              "      <td>23</td>\n",
              "      <td>Tarjeta de crédito</td>\n",
              "      <td>Semanal</td>\n",
              "    </tr>\n",
              "    <tr>\n",
              "      <th>4</th>\n",
              "      <td>21</td>\n",
              "      <td>Hombre</td>\n",
              "      <td>Sandalias</td>\n",
              "      <td>Calzado</td>\n",
              "      <td>90</td>\n",
              "      <td>Rhode Island</td>\n",
              "      <td>M</td>\n",
              "      <td>Marrón</td>\n",
              "      <td>3.5</td>\n",
              "      <td>Si</td>\n",
              "      <td>Aire al día siguiente</td>\n",
              "      <td>Si</td>\n",
              "      <td>Si</td>\n",
              "      <td>49</td>\n",
              "      <td>PayPal</td>\n",
              "      <td>Semanal</td>\n",
              "    </tr>\n",
              "    <tr>\n",
              "      <th>5</th>\n",
              "      <td>45</td>\n",
              "      <td>Hombre</td>\n",
              "      <td>Blusa</td>\n",
              "      <td>Ropa</td>\n",
              "      <td>49</td>\n",
              "      <td>Oregón</td>\n",
              "      <td>M</td>\n",
              "      <td>Turquesa</td>\n",
              "      <td>2.7</td>\n",
              "      <td>Si</td>\n",
              "      <td>Envío Gratis</td>\n",
              "      <td>Si</td>\n",
              "      <td>Si</td>\n",
              "      <td>31</td>\n",
              "      <td>PayPal</td>\n",
              "      <td>Anualmente</td>\n",
              "    </tr>\n",
              "  </tbody>\n",
              "</table>\n",
              "</div>\n",
              "    <div class=\"colab-df-buttons\">\n",
              "\n",
              "  <div class=\"colab-df-container\">\n",
              "    <button class=\"colab-df-convert\" onclick=\"convertToInteractive('df-ae1a439a-7213-493b-ba59-8ff0cdb2b034')\"\n",
              "            title=\"Convert this dataframe to an interactive table.\"\n",
              "            style=\"display:none;\">\n",
              "\n",
              "  <svg xmlns=\"http://www.w3.org/2000/svg\" height=\"24px\" viewBox=\"0 -960 960 960\">\n",
              "    <path d=\"M120-120v-720h720v720H120Zm60-500h600v-160H180v160Zm220 220h160v-160H400v160Zm0 220h160v-160H400v160ZM180-400h160v-160H180v160Zm440 0h160v-160H620v160ZM180-180h160v-160H180v160Zm440 0h160v-160H620v160Z\"/>\n",
              "  </svg>\n",
              "    </button>\n",
              "\n",
              "  <style>\n",
              "    .colab-df-container {\n",
              "      display:flex;\n",
              "      gap: 12px;\n",
              "    }\n",
              "\n",
              "    .colab-df-convert {\n",
              "      background-color: #E8F0FE;\n",
              "      border: none;\n",
              "      border-radius: 50%;\n",
              "      cursor: pointer;\n",
              "      display: none;\n",
              "      fill: #1967D2;\n",
              "      height: 32px;\n",
              "      padding: 0 0 0 0;\n",
              "      width: 32px;\n",
              "    }\n",
              "\n",
              "    .colab-df-convert:hover {\n",
              "      background-color: #E2EBFA;\n",
              "      box-shadow: 0px 1px 2px rgba(60, 64, 67, 0.3), 0px 1px 3px 1px rgba(60, 64, 67, 0.15);\n",
              "      fill: #174EA6;\n",
              "    }\n",
              "\n",
              "    .colab-df-buttons div {\n",
              "      margin-bottom: 4px;\n",
              "    }\n",
              "\n",
              "    [theme=dark] .colab-df-convert {\n",
              "      background-color: #3B4455;\n",
              "      fill: #D2E3FC;\n",
              "    }\n",
              "\n",
              "    [theme=dark] .colab-df-convert:hover {\n",
              "      background-color: #434B5C;\n",
              "      box-shadow: 0px 1px 3px 1px rgba(0, 0, 0, 0.15);\n",
              "      filter: drop-shadow(0px 1px 2px rgba(0, 0, 0, 0.3));\n",
              "      fill: #FFFFFF;\n",
              "    }\n",
              "  </style>\n",
              "\n",
              "    <script>\n",
              "      const buttonEl =\n",
              "        document.querySelector('#df-ae1a439a-7213-493b-ba59-8ff0cdb2b034 button.colab-df-convert');\n",
              "      buttonEl.style.display =\n",
              "        google.colab.kernel.accessAllowed ? 'block' : 'none';\n",
              "\n",
              "      async function convertToInteractive(key) {\n",
              "        const element = document.querySelector('#df-ae1a439a-7213-493b-ba59-8ff0cdb2b034');\n",
              "        const dataTable =\n",
              "          await google.colab.kernel.invokeFunction('convertToInteractive',\n",
              "                                                    [key], {});\n",
              "        if (!dataTable) return;\n",
              "\n",
              "        const docLinkHtml = 'Like what you see? Visit the ' +\n",
              "          '<a target=\"_blank\" href=https://colab.research.google.com/notebooks/data_table.ipynb>data table notebook</a>'\n",
              "          + ' to learn more about interactive tables.';\n",
              "        element.innerHTML = '';\n",
              "        dataTable['output_type'] = 'display_data';\n",
              "        await google.colab.output.renderOutput(dataTable, element);\n",
              "        const docLink = document.createElement('div');\n",
              "        docLink.innerHTML = docLinkHtml;\n",
              "        element.appendChild(docLink);\n",
              "      }\n",
              "    </script>\n",
              "  </div>\n",
              "\n",
              "\n",
              "<div id=\"df-cdbce719-b25c-4997-87ba-b0922fa74b2f\">\n",
              "  <button class=\"colab-df-quickchart\" onclick=\"quickchart('df-cdbce719-b25c-4997-87ba-b0922fa74b2f')\"\n",
              "            title=\"Suggest charts\"\n",
              "            style=\"display:none;\">\n",
              "\n",
              "<svg xmlns=\"http://www.w3.org/2000/svg\" height=\"24px\"viewBox=\"0 0 24 24\"\n",
              "     width=\"24px\">\n",
              "    <g>\n",
              "        <path d=\"M19 3H5c-1.1 0-2 .9-2 2v14c0 1.1.9 2 2 2h14c1.1 0 2-.9 2-2V5c0-1.1-.9-2-2-2zM9 17H7v-7h2v7zm4 0h-2V7h2v10zm4 0h-2v-4h2v4z\"/>\n",
              "    </g>\n",
              "</svg>\n",
              "  </button>\n",
              "\n",
              "<style>\n",
              "  .colab-df-quickchart {\n",
              "      --bg-color: #E8F0FE;\n",
              "      --fill-color: #1967D2;\n",
              "      --hover-bg-color: #E2EBFA;\n",
              "      --hover-fill-color: #174EA6;\n",
              "      --disabled-fill-color: #AAA;\n",
              "      --disabled-bg-color: #DDD;\n",
              "  }\n",
              "\n",
              "  [theme=dark] .colab-df-quickchart {\n",
              "      --bg-color: #3B4455;\n",
              "      --fill-color: #D2E3FC;\n",
              "      --hover-bg-color: #434B5C;\n",
              "      --hover-fill-color: #FFFFFF;\n",
              "      --disabled-bg-color: #3B4455;\n",
              "      --disabled-fill-color: #666;\n",
              "  }\n",
              "\n",
              "  .colab-df-quickchart {\n",
              "    background-color: var(--bg-color);\n",
              "    border: none;\n",
              "    border-radius: 50%;\n",
              "    cursor: pointer;\n",
              "    display: none;\n",
              "    fill: var(--fill-color);\n",
              "    height: 32px;\n",
              "    padding: 0;\n",
              "    width: 32px;\n",
              "  }\n",
              "\n",
              "  .colab-df-quickchart:hover {\n",
              "    background-color: var(--hover-bg-color);\n",
              "    box-shadow: 0 1px 2px rgba(60, 64, 67, 0.3), 0 1px 3px 1px rgba(60, 64, 67, 0.15);\n",
              "    fill: var(--button-hover-fill-color);\n",
              "  }\n",
              "\n",
              "  .colab-df-quickchart-complete:disabled,\n",
              "  .colab-df-quickchart-complete:disabled:hover {\n",
              "    background-color: var(--disabled-bg-color);\n",
              "    fill: var(--disabled-fill-color);\n",
              "    box-shadow: none;\n",
              "  }\n",
              "\n",
              "  .colab-df-spinner {\n",
              "    border: 2px solid var(--fill-color);\n",
              "    border-color: transparent;\n",
              "    border-bottom-color: var(--fill-color);\n",
              "    animation:\n",
              "      spin 1s steps(1) infinite;\n",
              "  }\n",
              "\n",
              "  @keyframes spin {\n",
              "    0% {\n",
              "      border-color: transparent;\n",
              "      border-bottom-color: var(--fill-color);\n",
              "      border-left-color: var(--fill-color);\n",
              "    }\n",
              "    20% {\n",
              "      border-color: transparent;\n",
              "      border-left-color: var(--fill-color);\n",
              "      border-top-color: var(--fill-color);\n",
              "    }\n",
              "    30% {\n",
              "      border-color: transparent;\n",
              "      border-left-color: var(--fill-color);\n",
              "      border-top-color: var(--fill-color);\n",
              "      border-right-color: var(--fill-color);\n",
              "    }\n",
              "    40% {\n",
              "      border-color: transparent;\n",
              "      border-right-color: var(--fill-color);\n",
              "      border-top-color: var(--fill-color);\n",
              "    }\n",
              "    60% {\n",
              "      border-color: transparent;\n",
              "      border-right-color: var(--fill-color);\n",
              "    }\n",
              "    80% {\n",
              "      border-color: transparent;\n",
              "      border-right-color: var(--fill-color);\n",
              "      border-bottom-color: var(--fill-color);\n",
              "    }\n",
              "    90% {\n",
              "      border-color: transparent;\n",
              "      border-bottom-color: var(--fill-color);\n",
              "    }\n",
              "  }\n",
              "</style>\n",
              "\n",
              "  <script>\n",
              "    async function quickchart(key) {\n",
              "      const quickchartButtonEl =\n",
              "        document.querySelector('#' + key + ' button');\n",
              "      quickchartButtonEl.disabled = true;  // To prevent multiple clicks.\n",
              "      quickchartButtonEl.classList.add('colab-df-spinner');\n",
              "      try {\n",
              "        const charts = await google.colab.kernel.invokeFunction(\n",
              "            'suggestCharts', [key], {});\n",
              "      } catch (error) {\n",
              "        console.error('Error during call to suggestCharts:', error);\n",
              "      }\n",
              "      quickchartButtonEl.classList.remove('colab-df-spinner');\n",
              "      quickchartButtonEl.classList.add('colab-df-quickchart-complete');\n",
              "    }\n",
              "    (() => {\n",
              "      let quickchartButtonEl =\n",
              "        document.querySelector('#df-cdbce719-b25c-4997-87ba-b0922fa74b2f button');\n",
              "      quickchartButtonEl.style.display =\n",
              "        google.colab.kernel.accessAllowed ? 'block' : 'none';\n",
              "    })();\n",
              "  </script>\n",
              "</div>\n",
              "\n",
              "    </div>\n",
              "  </div>\n"
            ],
            "application/vnd.google.colaboratory.intrinsic+json": {
              "type": "dataframe",
              "variable_name": "df_tend_de_compras",
              "summary": "{\n  \"name\": \"df_tend_de_compras\",\n  \"rows\": 3900,\n  \"fields\": [\n    {\n      \"column\": \"Cliente_ID\",\n      \"properties\": {\n        \"dtype\": \"number\",\n        \"std\": 1125,\n        \"min\": 1,\n        \"max\": 3900,\n        \"num_unique_values\": 3900,\n        \"samples\": [\n          840,\n          1718,\n          322\n        ],\n        \"semantic_type\": \"\",\n        \"description\": \"\"\n      }\n    },\n    {\n      \"column\": \"Edad\",\n      \"properties\": {\n        \"dtype\": \"number\",\n        \"std\": 15,\n        \"min\": 18,\n        \"max\": 70,\n        \"num_unique_values\": 53,\n        \"samples\": [\n          56,\n          24,\n          51\n        ],\n        \"semantic_type\": \"\",\n        \"description\": \"\"\n      }\n    },\n    {\n      \"column\": \"Genero\",\n      \"properties\": {\n        \"dtype\": \"category\",\n        \"num_unique_values\": 2,\n        \"samples\": [\n          \"Mujer\",\n          \"Hombre\"\n        ],\n        \"semantic_type\": \"\",\n        \"description\": \"\"\n      }\n    },\n    {\n      \"column\": \"Articulo Comprado\",\n      \"properties\": {\n        \"dtype\": \"category\",\n        \"num_unique_values\": 25,\n        \"samples\": [\n          \"Bolso\",\n          \"Joyer\\u00eda\"\n        ],\n        \"semantic_type\": \"\",\n        \"description\": \"\"\n      }\n    },\n    {\n      \"column\": \"Categoria\",\n      \"properties\": {\n        \"dtype\": \"category\",\n        \"num_unique_values\": 4,\n        \"samples\": [\n          \"Calzado\",\n          \"Accesorios\"\n        ],\n        \"semantic_type\": \"\",\n        \"description\": \"\"\n      }\n    },\n    {\n      \"column\": \"Monto de compra (USD)\",\n      \"properties\": {\n        \"dtype\": \"number\",\n        \"std\": 23,\n        \"min\": 20,\n        \"max\": 100,\n        \"num_unique_values\": 81,\n        \"samples\": [\n          60,\n          53\n        ],\n        \"semantic_type\": \"\",\n        \"description\": \"\"\n      }\n    },\n    {\n      \"column\": \"Ciudad\",\n      \"properties\": {\n        \"dtype\": \"category\",\n        \"num_unique_values\": 50,\n        \"samples\": [\n          \"Nuevo Hampshire\",\n          \"Connecticut\"\n        ],\n        \"semantic_type\": \"\",\n        \"description\": \"\"\n      }\n    },\n    {\n      \"column\": \"Tama\\u00f1o\",\n      \"properties\": {\n        \"dtype\": \"category\",\n        \"num_unique_values\": 4,\n        \"samples\": [\n          \"S\",\n          \"XL\"\n        ],\n        \"semantic_type\": \"\",\n        \"description\": \"\"\n      }\n    },\n    {\n      \"column\": \"Color\",\n      \"properties\": {\n        \"dtype\": \"category\",\n        \"num_unique_values\": 24,\n        \"samples\": [\n          \"Aceituna\",\n          \"Rojo\"\n        ],\n        \"semantic_type\": \"\",\n        \"description\": \"\"\n      }\n    },\n    {\n      \"column\": \"Calificacion_cliente\",\n      \"properties\": {\n        \"dtype\": \"number\",\n        \"std\": 0.7162228139312449,\n        \"min\": 2.5,\n        \"max\": 5.0,\n        \"num_unique_values\": 26,\n        \"samples\": [\n          4.9,\n          5.0\n        ],\n        \"semantic_type\": \"\",\n        \"description\": \"\"\n      }\n    },\n    {\n      \"column\": \"Suscripcion\",\n      \"properties\": {\n        \"dtype\": \"category\",\n        \"num_unique_values\": 2,\n        \"samples\": [\n          \"No\",\n          \"Si\"\n        ],\n        \"semantic_type\": \"\",\n        \"description\": \"\"\n      }\n    },\n    {\n      \"column\": \"Envio\",\n      \"properties\": {\n        \"dtype\": \"category\",\n        \"num_unique_values\": 6,\n        \"samples\": [\n          \"Expres\",\n          \"Env\\u00edo Gratis\"\n        ],\n        \"semantic_type\": \"\",\n        \"description\": \"\"\n      }\n    },\n    {\n      \"column\": \"Descuento aplicado\",\n      \"properties\": {\n        \"dtype\": \"category\",\n        \"num_unique_values\": 2,\n        \"samples\": [\n          \"No\",\n          \"Si\"\n        ],\n        \"semantic_type\": \"\",\n        \"description\": \"\"\n      }\n    },\n    {\n      \"column\": \"Codigo promocional usado\",\n      \"properties\": {\n        \"dtype\": \"category\",\n        \"num_unique_values\": 2,\n        \"samples\": [\n          \"No\",\n          \"Si\"\n        ],\n        \"semantic_type\": \"\",\n        \"description\": \"\"\n      }\n    },\n    {\n      \"column\": \"Compas anteriores\",\n      \"properties\": {\n        \"dtype\": \"number\",\n        \"std\": 14,\n        \"min\": 1,\n        \"max\": 50,\n        \"num_unique_values\": 50,\n        \"samples\": [\n          36,\n          47\n        ],\n        \"semantic_type\": \"\",\n        \"description\": \"\"\n      }\n    },\n    {\n      \"column\": \"Metodo de pago\",\n      \"properties\": {\n        \"dtype\": \"category\",\n        \"num_unique_values\": 6,\n        \"samples\": [\n          \"Venmo\",\n          \"Efectivo\"\n        ],\n        \"semantic_type\": \"\",\n        \"description\": \"\"\n      }\n    },\n    {\n      \"column\": \"Frecuencia de compras\",\n      \"properties\": {\n        \"dtype\": \"category\",\n        \"num_unique_values\": 5,\n        \"samples\": [\n          \"Semanal\",\n          \"Mensual\"\n        ],\n        \"semantic_type\": \"\",\n        \"description\": \"\"\n      }\n    }\n  ]\n}"
            }
          },
          "metadata": {},
          "execution_count": 10
        }
      ]
    },
    {
      "cell_type": "markdown",
      "source": [
        "2) Cantidad de registros y cantidad de columnas"
      ],
      "metadata": {
        "id": "hCoDSwi4moU-"
      }
    },
    {
      "cell_type": "code",
      "source": [
        "df_tend_de_compras.shape"
      ],
      "metadata": {
        "colab": {
          "base_uri": "https://localhost:8080/"
        },
        "id": "be4LYNaOdB4u",
        "outputId": "5852efdc-54c5-4296-80a4-4d4bcaf40d1e"
      },
      "execution_count": 8,
      "outputs": [
        {
          "output_type": "execute_result",
          "data": {
            "text/plain": [
              "(3900, 16)"
            ]
          },
          "metadata": {},
          "execution_count": 8
        }
      ]
    },
    {
      "cell_type": "markdown",
      "source": [
        "3) Tipos de datos en cada columna"
      ],
      "metadata": {
        "id": "C2lFK2NtmnOG"
      }
    },
    {
      "cell_type": "code",
      "source": [
        "# Tipos de datos de las columnas\n",
        "print(df_tend_de_compras.dtypes)"
      ],
      "metadata": {
        "colab": {
          "base_uri": "https://localhost:8080/"
        },
        "id": "bTmGK5D2davd",
        "outputId": "9cf607c9-27a1-4342-d6d9-89247e37a544"
      },
      "execution_count": 11,
      "outputs": [
        {
          "output_type": "stream",
          "name": "stdout",
          "text": [
            "Edad                          int64\n",
            "Genero                       object\n",
            "Articulo Comprado            object\n",
            "Categoria                    object\n",
            "Monto de compra (USD)         int64\n",
            "Ciudad                       object\n",
            "Tamaño                       object\n",
            "Color                        object\n",
            "Calificacion_cliente        float64\n",
            "Suscripcion                  object\n",
            "Envio                        object\n",
            "Descuento aplicado           object\n",
            "Codigo promocional usado     object\n",
            "Compas anteriores             int64\n",
            "Metodo de pago               object\n",
            "Frecuencia de compras        object\n",
            "dtype: object\n"
          ]
        }
      ]
    },
    {
      "cell_type": "markdown",
      "source": [
        "4) Verificar si hay datos nulos"
      ],
      "metadata": {
        "id": "F2sVatKsnQ0G"
      }
    },
    {
      "cell_type": "code",
      "source": [
        "df_tend_de_compras.isnull().sum()"
      ],
      "metadata": {
        "colab": {
          "base_uri": "https://localhost:8080/",
          "height": 586
        },
        "id": "v5MbRVT_lbnQ",
        "outputId": "1abf15c7-ceb6-4422-f811-bb8c46b2765e"
      },
      "execution_count": 12,
      "outputs": [
        {
          "output_type": "execute_result",
          "data": {
            "text/plain": [
              "Edad                        0\n",
              "Genero                      0\n",
              "Articulo Comprado           0\n",
              "Categoria                   0\n",
              "Monto de compra (USD)       0\n",
              "Ciudad                      0\n",
              "Tamaño                      0\n",
              "Color                       0\n",
              "Calificacion_cliente        0\n",
              "Suscripcion                 0\n",
              "Envio                       0\n",
              "Descuento aplicado          0\n",
              "Codigo promocional usado    0\n",
              "Compas anteriores           0\n",
              "Metodo de pago              0\n",
              "Frecuencia de compras       0\n",
              "dtype: int64"
            ],
            "text/html": [
              "<div>\n",
              "<style scoped>\n",
              "    .dataframe tbody tr th:only-of-type {\n",
              "        vertical-align: middle;\n",
              "    }\n",
              "\n",
              "    .dataframe tbody tr th {\n",
              "        vertical-align: top;\n",
              "    }\n",
              "\n",
              "    .dataframe thead th {\n",
              "        text-align: right;\n",
              "    }\n",
              "</style>\n",
              "<table border=\"1\" class=\"dataframe\">\n",
              "  <thead>\n",
              "    <tr style=\"text-align: right;\">\n",
              "      <th></th>\n",
              "      <th>0</th>\n",
              "    </tr>\n",
              "  </thead>\n",
              "  <tbody>\n",
              "    <tr>\n",
              "      <th>Edad</th>\n",
              "      <td>0</td>\n",
              "    </tr>\n",
              "    <tr>\n",
              "      <th>Genero</th>\n",
              "      <td>0</td>\n",
              "    </tr>\n",
              "    <tr>\n",
              "      <th>Articulo Comprado</th>\n",
              "      <td>0</td>\n",
              "    </tr>\n",
              "    <tr>\n",
              "      <th>Categoria</th>\n",
              "      <td>0</td>\n",
              "    </tr>\n",
              "    <tr>\n",
              "      <th>Monto de compra (USD)</th>\n",
              "      <td>0</td>\n",
              "    </tr>\n",
              "    <tr>\n",
              "      <th>Ciudad</th>\n",
              "      <td>0</td>\n",
              "    </tr>\n",
              "    <tr>\n",
              "      <th>Tamaño</th>\n",
              "      <td>0</td>\n",
              "    </tr>\n",
              "    <tr>\n",
              "      <th>Color</th>\n",
              "      <td>0</td>\n",
              "    </tr>\n",
              "    <tr>\n",
              "      <th>Calificacion_cliente</th>\n",
              "      <td>0</td>\n",
              "    </tr>\n",
              "    <tr>\n",
              "      <th>Suscripcion</th>\n",
              "      <td>0</td>\n",
              "    </tr>\n",
              "    <tr>\n",
              "      <th>Envio</th>\n",
              "      <td>0</td>\n",
              "    </tr>\n",
              "    <tr>\n",
              "      <th>Descuento aplicado</th>\n",
              "      <td>0</td>\n",
              "    </tr>\n",
              "    <tr>\n",
              "      <th>Codigo promocional usado</th>\n",
              "      <td>0</td>\n",
              "    </tr>\n",
              "    <tr>\n",
              "      <th>Compas anteriores</th>\n",
              "      <td>0</td>\n",
              "    </tr>\n",
              "    <tr>\n",
              "      <th>Metodo de pago</th>\n",
              "      <td>0</td>\n",
              "    </tr>\n",
              "    <tr>\n",
              "      <th>Frecuencia de compras</th>\n",
              "      <td>0</td>\n",
              "    </tr>\n",
              "  </tbody>\n",
              "</table>\n",
              "</div><br><label><b>dtype:</b> int64</label>"
            ]
          },
          "metadata": {},
          "execution_count": 12
        }
      ]
    },
    {
      "cell_type": "markdown",
      "source": [
        "5) Verificar si hay datos duplicados"
      ],
      "metadata": {
        "id": "IEJQrg7prP8E"
      }
    },
    {
      "cell_type": "code",
      "source": [
        "df_tend_de_compras.duplicated().sum()"
      ],
      "metadata": {
        "colab": {
          "base_uri": "https://localhost:8080/"
        },
        "id": "4N-w26I8nbOO",
        "outputId": "a80458a0-6d93-4245-cbe7-f9150e773f5e"
      },
      "execution_count": 13,
      "outputs": [
        {
          "output_type": "execute_result",
          "data": {
            "text/plain": [
              "0"
            ]
          },
          "metadata": {},
          "execution_count": 13
        }
      ]
    },
    {
      "cell_type": "markdown",
      "source": [
        "6) Analisis estadistico:\n",
        "\n",
        "**Count** (El número de valores no nulos en la columna)\n",
        "\n",
        "**Mean** (La media aritmética de la columna)\n",
        "\n",
        "**Std** (La desviación estándar de la columna)\n",
        "\n",
        "**Min** (El valor mínimo en la columna)\n",
        "\n",
        "**25%** (El primer cuartil (percentil 25) de la columna)\n",
        "\n",
        "**50%** (La mediana (percentil 50) de la columna)\n",
        "\n",
        "**75%** (El tercer cuartil (percentil 75) de la columna)\n",
        "\n",
        "**Max** (El valor máximo en la columna)"
      ],
      "metadata": {
        "id": "7St5mc0orU7b"
      }
    },
    {
      "cell_type": "code",
      "source": [
        "df_tend_de_compras.describe().T"
      ],
      "metadata": {
        "colab": {
          "base_uri": "https://localhost:8080/",
          "height": 175
        },
        "id": "kpGfZE5rr0zj",
        "outputId": "2b684400-a743-47be-e5d2-cfc5bf019adc"
      },
      "execution_count": 16,
      "outputs": [
        {
          "output_type": "execute_result",
          "data": {
            "text/plain": [
              "                        count       mean        std   min   25%   50%   75%  \\\n",
              "Edad                   3900.0  44.068462  15.207589  18.0  31.0  44.0  57.0   \n",
              "Monto de compra (USD)  3900.0  59.764359  23.685392  20.0  39.0  60.0  81.0   \n",
              "Calificacion_cliente   3900.0   3.749949   0.716223   2.5   3.1   3.7   4.4   \n",
              "Compas anteriores      3900.0  25.351538  14.447125   1.0  13.0  25.0  38.0   \n",
              "\n",
              "                         max  \n",
              "Edad                    70.0  \n",
              "Monto de compra (USD)  100.0  \n",
              "Calificacion_cliente     5.0  \n",
              "Compas anteriores       50.0  "
            ],
            "text/html": [
              "\n",
              "  <div id=\"df-9592f756-4d2d-45d0-ba0a-25c39ae40ace\" class=\"colab-df-container\">\n",
              "    <div>\n",
              "<style scoped>\n",
              "    .dataframe tbody tr th:only-of-type {\n",
              "        vertical-align: middle;\n",
              "    }\n",
              "\n",
              "    .dataframe tbody tr th {\n",
              "        vertical-align: top;\n",
              "    }\n",
              "\n",
              "    .dataframe thead th {\n",
              "        text-align: right;\n",
              "    }\n",
              "</style>\n",
              "<table border=\"1\" class=\"dataframe\">\n",
              "  <thead>\n",
              "    <tr style=\"text-align: right;\">\n",
              "      <th></th>\n",
              "      <th>count</th>\n",
              "      <th>mean</th>\n",
              "      <th>std</th>\n",
              "      <th>min</th>\n",
              "      <th>25%</th>\n",
              "      <th>50%</th>\n",
              "      <th>75%</th>\n",
              "      <th>max</th>\n",
              "    </tr>\n",
              "  </thead>\n",
              "  <tbody>\n",
              "    <tr>\n",
              "      <th>Edad</th>\n",
              "      <td>3900.0</td>\n",
              "      <td>44.068462</td>\n",
              "      <td>15.207589</td>\n",
              "      <td>18.0</td>\n",
              "      <td>31.0</td>\n",
              "      <td>44.0</td>\n",
              "      <td>57.0</td>\n",
              "      <td>70.0</td>\n",
              "    </tr>\n",
              "    <tr>\n",
              "      <th>Monto de compra (USD)</th>\n",
              "      <td>3900.0</td>\n",
              "      <td>59.764359</td>\n",
              "      <td>23.685392</td>\n",
              "      <td>20.0</td>\n",
              "      <td>39.0</td>\n",
              "      <td>60.0</td>\n",
              "      <td>81.0</td>\n",
              "      <td>100.0</td>\n",
              "    </tr>\n",
              "    <tr>\n",
              "      <th>Calificacion_cliente</th>\n",
              "      <td>3900.0</td>\n",
              "      <td>3.749949</td>\n",
              "      <td>0.716223</td>\n",
              "      <td>2.5</td>\n",
              "      <td>3.1</td>\n",
              "      <td>3.7</td>\n",
              "      <td>4.4</td>\n",
              "      <td>5.0</td>\n",
              "    </tr>\n",
              "    <tr>\n",
              "      <th>Compas anteriores</th>\n",
              "      <td>3900.0</td>\n",
              "      <td>25.351538</td>\n",
              "      <td>14.447125</td>\n",
              "      <td>1.0</td>\n",
              "      <td>13.0</td>\n",
              "      <td>25.0</td>\n",
              "      <td>38.0</td>\n",
              "      <td>50.0</td>\n",
              "    </tr>\n",
              "  </tbody>\n",
              "</table>\n",
              "</div>\n",
              "    <div class=\"colab-df-buttons\">\n",
              "\n",
              "  <div class=\"colab-df-container\">\n",
              "    <button class=\"colab-df-convert\" onclick=\"convertToInteractive('df-9592f756-4d2d-45d0-ba0a-25c39ae40ace')\"\n",
              "            title=\"Convert this dataframe to an interactive table.\"\n",
              "            style=\"display:none;\">\n",
              "\n",
              "  <svg xmlns=\"http://www.w3.org/2000/svg\" height=\"24px\" viewBox=\"0 -960 960 960\">\n",
              "    <path d=\"M120-120v-720h720v720H120Zm60-500h600v-160H180v160Zm220 220h160v-160H400v160Zm0 220h160v-160H400v160ZM180-400h160v-160H180v160Zm440 0h160v-160H620v160ZM180-180h160v-160H180v160Zm440 0h160v-160H620v160Z\"/>\n",
              "  </svg>\n",
              "    </button>\n",
              "\n",
              "  <style>\n",
              "    .colab-df-container {\n",
              "      display:flex;\n",
              "      gap: 12px;\n",
              "    }\n",
              "\n",
              "    .colab-df-convert {\n",
              "      background-color: #E8F0FE;\n",
              "      border: none;\n",
              "      border-radius: 50%;\n",
              "      cursor: pointer;\n",
              "      display: none;\n",
              "      fill: #1967D2;\n",
              "      height: 32px;\n",
              "      padding: 0 0 0 0;\n",
              "      width: 32px;\n",
              "    }\n",
              "\n",
              "    .colab-df-convert:hover {\n",
              "      background-color: #E2EBFA;\n",
              "      box-shadow: 0px 1px 2px rgba(60, 64, 67, 0.3), 0px 1px 3px 1px rgba(60, 64, 67, 0.15);\n",
              "      fill: #174EA6;\n",
              "    }\n",
              "\n",
              "    .colab-df-buttons div {\n",
              "      margin-bottom: 4px;\n",
              "    }\n",
              "\n",
              "    [theme=dark] .colab-df-convert {\n",
              "      background-color: #3B4455;\n",
              "      fill: #D2E3FC;\n",
              "    }\n",
              "\n",
              "    [theme=dark] .colab-df-convert:hover {\n",
              "      background-color: #434B5C;\n",
              "      box-shadow: 0px 1px 3px 1px rgba(0, 0, 0, 0.15);\n",
              "      filter: drop-shadow(0px 1px 2px rgba(0, 0, 0, 0.3));\n",
              "      fill: #FFFFFF;\n",
              "    }\n",
              "  </style>\n",
              "\n",
              "    <script>\n",
              "      const buttonEl =\n",
              "        document.querySelector('#df-9592f756-4d2d-45d0-ba0a-25c39ae40ace button.colab-df-convert');\n",
              "      buttonEl.style.display =\n",
              "        google.colab.kernel.accessAllowed ? 'block' : 'none';\n",
              "\n",
              "      async function convertToInteractive(key) {\n",
              "        const element = document.querySelector('#df-9592f756-4d2d-45d0-ba0a-25c39ae40ace');\n",
              "        const dataTable =\n",
              "          await google.colab.kernel.invokeFunction('convertToInteractive',\n",
              "                                                    [key], {});\n",
              "        if (!dataTable) return;\n",
              "\n",
              "        const docLinkHtml = 'Like what you see? Visit the ' +\n",
              "          '<a target=\"_blank\" href=https://colab.research.google.com/notebooks/data_table.ipynb>data table notebook</a>'\n",
              "          + ' to learn more about interactive tables.';\n",
              "        element.innerHTML = '';\n",
              "        dataTable['output_type'] = 'display_data';\n",
              "        await google.colab.output.renderOutput(dataTable, element);\n",
              "        const docLink = document.createElement('div');\n",
              "        docLink.innerHTML = docLinkHtml;\n",
              "        element.appendChild(docLink);\n",
              "      }\n",
              "    </script>\n",
              "  </div>\n",
              "\n",
              "\n",
              "<div id=\"df-2a0a8ed1-3f8a-4fb9-b2d2-9c8862eb2716\">\n",
              "  <button class=\"colab-df-quickchart\" onclick=\"quickchart('df-2a0a8ed1-3f8a-4fb9-b2d2-9c8862eb2716')\"\n",
              "            title=\"Suggest charts\"\n",
              "            style=\"display:none;\">\n",
              "\n",
              "<svg xmlns=\"http://www.w3.org/2000/svg\" height=\"24px\"viewBox=\"0 0 24 24\"\n",
              "     width=\"24px\">\n",
              "    <g>\n",
              "        <path d=\"M19 3H5c-1.1 0-2 .9-2 2v14c0 1.1.9 2 2 2h14c1.1 0 2-.9 2-2V5c0-1.1-.9-2-2-2zM9 17H7v-7h2v7zm4 0h-2V7h2v10zm4 0h-2v-4h2v4z\"/>\n",
              "    </g>\n",
              "</svg>\n",
              "  </button>\n",
              "\n",
              "<style>\n",
              "  .colab-df-quickchart {\n",
              "      --bg-color: #E8F0FE;\n",
              "      --fill-color: #1967D2;\n",
              "      --hover-bg-color: #E2EBFA;\n",
              "      --hover-fill-color: #174EA6;\n",
              "      --disabled-fill-color: #AAA;\n",
              "      --disabled-bg-color: #DDD;\n",
              "  }\n",
              "\n",
              "  [theme=dark] .colab-df-quickchart {\n",
              "      --bg-color: #3B4455;\n",
              "      --fill-color: #D2E3FC;\n",
              "      --hover-bg-color: #434B5C;\n",
              "      --hover-fill-color: #FFFFFF;\n",
              "      --disabled-bg-color: #3B4455;\n",
              "      --disabled-fill-color: #666;\n",
              "  }\n",
              "\n",
              "  .colab-df-quickchart {\n",
              "    background-color: var(--bg-color);\n",
              "    border: none;\n",
              "    border-radius: 50%;\n",
              "    cursor: pointer;\n",
              "    display: none;\n",
              "    fill: var(--fill-color);\n",
              "    height: 32px;\n",
              "    padding: 0;\n",
              "    width: 32px;\n",
              "  }\n",
              "\n",
              "  .colab-df-quickchart:hover {\n",
              "    background-color: var(--hover-bg-color);\n",
              "    box-shadow: 0 1px 2px rgba(60, 64, 67, 0.3), 0 1px 3px 1px rgba(60, 64, 67, 0.15);\n",
              "    fill: var(--button-hover-fill-color);\n",
              "  }\n",
              "\n",
              "  .colab-df-quickchart-complete:disabled,\n",
              "  .colab-df-quickchart-complete:disabled:hover {\n",
              "    background-color: var(--disabled-bg-color);\n",
              "    fill: var(--disabled-fill-color);\n",
              "    box-shadow: none;\n",
              "  }\n",
              "\n",
              "  .colab-df-spinner {\n",
              "    border: 2px solid var(--fill-color);\n",
              "    border-color: transparent;\n",
              "    border-bottom-color: var(--fill-color);\n",
              "    animation:\n",
              "      spin 1s steps(1) infinite;\n",
              "  }\n",
              "\n",
              "  @keyframes spin {\n",
              "    0% {\n",
              "      border-color: transparent;\n",
              "      border-bottom-color: var(--fill-color);\n",
              "      border-left-color: var(--fill-color);\n",
              "    }\n",
              "    20% {\n",
              "      border-color: transparent;\n",
              "      border-left-color: var(--fill-color);\n",
              "      border-top-color: var(--fill-color);\n",
              "    }\n",
              "    30% {\n",
              "      border-color: transparent;\n",
              "      border-left-color: var(--fill-color);\n",
              "      border-top-color: var(--fill-color);\n",
              "      border-right-color: var(--fill-color);\n",
              "    }\n",
              "    40% {\n",
              "      border-color: transparent;\n",
              "      border-right-color: var(--fill-color);\n",
              "      border-top-color: var(--fill-color);\n",
              "    }\n",
              "    60% {\n",
              "      border-color: transparent;\n",
              "      border-right-color: var(--fill-color);\n",
              "    }\n",
              "    80% {\n",
              "      border-color: transparent;\n",
              "      border-right-color: var(--fill-color);\n",
              "      border-bottom-color: var(--fill-color);\n",
              "    }\n",
              "    90% {\n",
              "      border-color: transparent;\n",
              "      border-bottom-color: var(--fill-color);\n",
              "    }\n",
              "  }\n",
              "</style>\n",
              "\n",
              "  <script>\n",
              "    async function quickchart(key) {\n",
              "      const quickchartButtonEl =\n",
              "        document.querySelector('#' + key + ' button');\n",
              "      quickchartButtonEl.disabled = true;  // To prevent multiple clicks.\n",
              "      quickchartButtonEl.classList.add('colab-df-spinner');\n",
              "      try {\n",
              "        const charts = await google.colab.kernel.invokeFunction(\n",
              "            'suggestCharts', [key], {});\n",
              "      } catch (error) {\n",
              "        console.error('Error during call to suggestCharts:', error);\n",
              "      }\n",
              "      quickchartButtonEl.classList.remove('colab-df-spinner');\n",
              "      quickchartButtonEl.classList.add('colab-df-quickchart-complete');\n",
              "    }\n",
              "    (() => {\n",
              "      let quickchartButtonEl =\n",
              "        document.querySelector('#df-2a0a8ed1-3f8a-4fb9-b2d2-9c8862eb2716 button');\n",
              "      quickchartButtonEl.style.display =\n",
              "        google.colab.kernel.accessAllowed ? 'block' : 'none';\n",
              "    })();\n",
              "  </script>\n",
              "</div>\n",
              "\n",
              "    </div>\n",
              "  </div>\n"
            ],
            "application/vnd.google.colaboratory.intrinsic+json": {
              "type": "dataframe",
              "summary": "{\n  \"name\": \"df_tend_de_compras\",\n  \"rows\": 4,\n  \"fields\": [\n    {\n      \"column\": \"count\",\n      \"properties\": {\n        \"dtype\": \"number\",\n        \"std\": 0.0,\n        \"min\": 3900.0,\n        \"max\": 3900.0,\n        \"num_unique_values\": 1,\n        \"samples\": [\n          3900.0\n        ],\n        \"semantic_type\": \"\",\n        \"description\": \"\"\n      }\n    },\n    {\n      \"column\": \"mean\",\n      \"properties\": {\n        \"dtype\": \"number\",\n        \"std\": 24.170836306926653,\n        \"min\": 3.7499487179487176,\n        \"max\": 59.76435897435898,\n        \"num_unique_values\": 4,\n        \"samples\": [\n          59.76435897435898\n        ],\n        \"semantic_type\": \"\",\n        \"description\": \"\"\n      }\n    },\n    {\n      \"column\": \"std\",\n      \"properties\": {\n        \"dtype\": \"number\",\n        \"std\": 9.504021743691833,\n        \"min\": 0.7162228139312449,\n        \"max\": 23.685392250875307,\n        \"num_unique_values\": 4,\n        \"samples\": [\n          23.685392250875307\n        ],\n        \"semantic_type\": \"\",\n        \"description\": \"\"\n      }\n    },\n    {\n      \"column\": \"min\",\n      \"properties\": {\n        \"dtype\": \"number\",\n        \"std\": 10.011451776174455,\n        \"min\": 1.0,\n        \"max\": 20.0,\n        \"num_unique_values\": 4,\n        \"samples\": [\n          20.0\n        ],\n        \"semantic_type\": \"\",\n        \"description\": \"\"\n      }\n    },\n    {\n      \"column\": \"25%\",\n      \"properties\": {\n        \"dtype\": \"number\",\n        \"std\": 16.404343936896716,\n        \"min\": 3.1,\n        \"max\": 39.0,\n        \"num_unique_values\": 4,\n        \"samples\": [\n          39.0\n        ],\n        \"semantic_type\": \"\",\n        \"description\": \"\"\n      }\n    },\n    {\n      \"column\": \"50%\",\n      \"properties\": {\n        \"dtype\": \"number\",\n        \"std\": 24.306154913245056,\n        \"min\": 3.7,\n        \"max\": 60.0,\n        \"num_unique_values\": 4,\n        \"samples\": [\n          60.0\n        ],\n        \"semantic_type\": \"\",\n        \"description\": \"\"\n      }\n    },\n    {\n      \"column\": \"75%\",\n      \"properties\": {\n        \"dtype\": \"number\",\n        \"std\": 32.33841884405194,\n        \"min\": 4.4,\n        \"max\": 81.0,\n        \"num_unique_values\": 4,\n        \"samples\": [\n          81.0\n        ],\n        \"semantic_type\": \"\",\n        \"description\": \"\"\n      }\n    },\n    {\n      \"column\": \"max\",\n      \"properties\": {\n        \"dtype\": \"number\",\n        \"std\": 39.869579046352285,\n        \"min\": 5.0,\n        \"max\": 100.0,\n        \"num_unique_values\": 4,\n        \"samples\": [\n          100.0\n        ],\n        \"semantic_type\": \"\",\n        \"description\": \"\"\n      }\n    }\n  ]\n}"
            }
          },
          "metadata": {},
          "execution_count": 16
        }
      ]
    },
    {
      "cell_type": "markdown",
      "source": [
        "7) Exploración detallada de las columnas no numéricas\n",
        "\n",
        "**Contar la cantidad de valores únicos:** Identifica la diversidad de valores dentro de cada columna\n",
        "\n",
        "**Analizar la frecuencia de cada valor:** Permite detectar valores atípicos o patrones recurrentes"
      ],
      "metadata": {
        "id": "wWD38HeH09TH"
      }
    },
    {
      "cell_type": "markdown",
      "source": [
        "*a) Articulos comprados*\n",
        "\n",
        "\n"
      ],
      "metadata": {
        "id": "DkxsUhRr2x_e"
      }
    },
    {
      "cell_type": "code",
      "source": [
        "print(f\"Cantidad de articulos diferentes: {df_tend_de_compras['Articulo Comprado'].nunique()}\")\n"
      ],
      "metadata": {
        "colab": {
          "base_uri": "https://localhost:8080/"
        },
        "id": "HmW7ia10r8Rz",
        "outputId": "b209c9dc-75be-4e4d-a289-ef1c15d49aac"
      },
      "execution_count": 24,
      "outputs": [
        {
          "output_type": "stream",
          "name": "stdout",
          "text": [
            "Cantidad de articulos diferentes: 25\n"
          ]
        }
      ]
    },
    {
      "cell_type": "code",
      "source": [
        "print(f\"Cantidad de valores por articulo: {df_tend_de_compras['Articulo Comprado'].value_counts()}\")"
      ],
      "metadata": {
        "colab": {
          "base_uri": "https://localhost:8080/"
        },
        "id": "KJMPh9yp1xjG",
        "outputId": "5c465558-b513-4f0b-c26c-93a4e9fd95bc"
      },
      "execution_count": 25,
      "outputs": [
        {
          "output_type": "stream",
          "name": "stdout",
          "text": [
            "Cantidad de valores por articulo: Articulo Comprado\n",
            "Blusa                   171\n",
            "Joyería                 171\n",
            "Pantalón                171\n",
            "Camisa                  169\n",
            "Vestido                 166\n",
            "Suéter                  164\n",
            "Chaqueta                163\n",
            "Cinturón                161\n",
            "Gafas de sol            161\n",
            "Abrigo                  161\n",
            "Sandalias               160\n",
            "Calcetines              159\n",
            "Falda                   158\n",
            "Shorts                  157\n",
            "Bufanda                 157\n",
            "Tiene                   154\n",
            "Bolso                   153\n",
            "Sudadera con capucha    151\n",
            "Calzado                 150\n",
            "Camiseta                147\n",
            "Zapatos deportivos      145\n",
            "Botas                   144\n",
            "Mochila                 143\n",
            "Guantes                 140\n",
            "Vaqueros                124\n",
            "Name: count, dtype: int64\n"
          ]
        }
      ]
    },
    {
      "cell_type": "markdown",
      "source": [
        "*b) Categoria*"
      ],
      "metadata": {
        "id": "JZ3TXFLc3Lc-"
      }
    },
    {
      "cell_type": "code",
      "source": [
        "print(f\"Cantidad de categorias diferentes: {df_tend_de_compras['Categoria'].nunique()}\")"
      ],
      "metadata": {
        "colab": {
          "base_uri": "https://localhost:8080/"
        },
        "id": "AVbwghVZ3QoN",
        "outputId": "d56842cd-89be-45b4-fdc9-171903860b8f"
      },
      "execution_count": 26,
      "outputs": [
        {
          "output_type": "stream",
          "name": "stdout",
          "text": [
            "Cantidad de categorias diferentes: 4\n"
          ]
        }
      ]
    },
    {
      "cell_type": "code",
      "source": [
        "print(f\"Cantidad de valores por categoria: {df_tend_de_compras['Categoria'].value_counts()}\")"
      ],
      "metadata": {
        "colab": {
          "base_uri": "https://localhost:8080/"
        },
        "id": "BDjmxG953bTO",
        "outputId": "1b9601b2-854e-4396-fe66-a32554347747"
      },
      "execution_count": 27,
      "outputs": [
        {
          "output_type": "stream",
          "name": "stdout",
          "text": [
            "Cantidad de valores por categoria: Categoria\n",
            "Ropa          1737\n",
            "Accesorios    1240\n",
            "Calzado        599\n",
            "Abrigos        324\n",
            "Name: count, dtype: int64\n"
          ]
        }
      ]
    },
    {
      "cell_type": "markdown",
      "source": [
        "*c) Ciudad*"
      ],
      "metadata": {
        "id": "UJqDfPpW3qpO"
      }
    },
    {
      "cell_type": "code",
      "source": [
        "print(f\"Cantidad de ciudades diferentes: {df_tend_de_compras['Ciudad'].nunique()}\")"
      ],
      "metadata": {
        "colab": {
          "base_uri": "https://localhost:8080/"
        },
        "id": "E9Y4WA-R3k2W",
        "outputId": "a94e15a4-7a35-4b6f-f631-f8033a474d6b"
      },
      "execution_count": 28,
      "outputs": [
        {
          "output_type": "stream",
          "name": "stdout",
          "text": [
            "Cantidad de ciudades diferentes: 50\n"
          ]
        }
      ]
    },
    {
      "cell_type": "code",
      "source": [
        "print(f\"Cantidad de valores por ciudad: {df_tend_de_compras['Ciudad'].value_counts()}\")"
      ],
      "metadata": {
        "colab": {
          "base_uri": "https://localhost:8080/"
        },
        "id": "WcmRDnfd36B1",
        "outputId": "2e920729-5411-406d-86c1-97ffd7b66a87"
      },
      "execution_count": 29,
      "outputs": [
        {
          "output_type": "stream",
          "name": "stdout",
          "text": [
            "Cantidad de valores por ciudad: Ciudad\n",
            "Montana                96\n",
            "California             95\n",
            "Idaho                  93\n",
            "Illinois               92\n",
            "Alabama                89\n",
            "Minnesota              88\n",
            "Nebraska               87\n",
            "Nueva York             87\n",
            "Nevada                 87\n",
            "Maryland               86\n",
            "Delaware               86\n",
            "Vermont                85\n",
            "Luisiana               84\n",
            "Dakota del Norte       83\n",
            "Misuri                 81\n",
            "Virginia Occidental    81\n",
            "Nuevo México           81\n",
            "Misisipi               80\n",
            "Indiana                79\n",
            "Georgia                79\n",
            "Kentucky               79\n",
            "Arkansas               79\n",
            "Carolina del Norte     78\n",
            "Connecticut            78\n",
            "Virginia               77\n",
            "Ohio                   77\n",
            "Tennessee              77\n",
            "Texas                  77\n",
            "Maine                  77\n",
            "Carolina del Sur       76\n",
            "Colorado               75\n",
            "Oklahoma               75\n",
            "Wisconsin              75\n",
            "Oregón                 74\n",
            "Pensilvania            74\n",
            "Washington             73\n",
            "Míchigan               73\n",
            "Alaska                 72\n",
            "Massachusetts          72\n",
            "Wyoming                71\n",
            "Utah                   71\n",
            "Nuevo Hampshire        71\n",
            "Dakota del Sur         70\n",
            "Iowa                   69\n",
            "Florida                68\n",
            "New Jersey             67\n",
            "Hawai                  65\n",
            "Arizona                65\n",
            "Kansas                 63\n",
            "Rhode Island           63\n",
            "Name: count, dtype: int64\n"
          ]
        }
      ]
    },
    {
      "cell_type": "markdown",
      "source": [
        "*d) Tamaño*"
      ],
      "metadata": {
        "id": "LZHs_8a74IxO"
      }
    },
    {
      "cell_type": "code",
      "source": [
        "print(f\"Cantidad de tamaños diferentes de cada articulo: {df_tend_de_compras['Tamaño'].nunique()}\")"
      ],
      "metadata": {
        "colab": {
          "base_uri": "https://localhost:8080/"
        },
        "id": "nocYOrgX4AxF",
        "outputId": "fd0afed8-4d61-49b5-897f-27f63d5ccd29"
      },
      "execution_count": 30,
      "outputs": [
        {
          "output_type": "stream",
          "name": "stdout",
          "text": [
            "Cantidad de tamaños diferentes de cada articulo: 4\n"
          ]
        }
      ]
    },
    {
      "cell_type": "code",
      "source": [
        "print(f\"Cantidad de valores por tamaño: {df_tend_de_compras['Tamaño'].value_counts()}\")"
      ],
      "metadata": {
        "colab": {
          "base_uri": "https://localhost:8080/"
        },
        "id": "Nl4hl4J24mcO",
        "outputId": "961120b4-e23e-41b5-9f4a-68b1f29e07f1"
      },
      "execution_count": 31,
      "outputs": [
        {
          "output_type": "stream",
          "name": "stdout",
          "text": [
            "Cantidad de valores por tamaño: Tamaño\n",
            "M     1755\n",
            "L     1053\n",
            "S      663\n",
            "XL     429\n",
            "Name: count, dtype: int64\n"
          ]
        }
      ]
    },
    {
      "cell_type": "markdown",
      "source": [
        "*e) Color*"
      ],
      "metadata": {
        "id": "tKqzH91Y4xal"
      }
    },
    {
      "cell_type": "code",
      "source": [
        "print(f\"Cantidad de colores difernetes: {df_tend_de_compras['Color'].nunique()}\")"
      ],
      "metadata": {
        "colab": {
          "base_uri": "https://localhost:8080/"
        },
        "id": "rti7VyfE4rD8",
        "outputId": "fa9bf54c-b94f-42b8-d71e-da44bb36d096"
      },
      "execution_count": 32,
      "outputs": [
        {
          "output_type": "stream",
          "name": "stdout",
          "text": [
            "Cantidad de colores difernetes: 24\n"
          ]
        }
      ]
    },
    {
      "cell_type": "code",
      "source": [
        "print(f\"Cantidad de valores por color: {df_tend_de_compras['Color'].value_counts()}\")"
      ],
      "metadata": {
        "colab": {
          "base_uri": "https://localhost:8080/"
        },
        "id": "PKEhwm-T452M",
        "outputId": "73019431-7686-4c2e-9c08-582b722bd001"
      },
      "execution_count": 34,
      "outputs": [
        {
          "output_type": "stream",
          "name": "stdout",
          "text": [
            "Cantidad de valores por color: Color\n",
            "Marrón       299\n",
            "Aceituna     177\n",
            "Amarillo     174\n",
            "Plata        173\n",
            "Cerceta      172\n",
            "Verde        169\n",
            "Negro        167\n",
            "Cian         166\n",
            "Violeta      166\n",
            "Gris         159\n",
            "Naranja      154\n",
            "Carbón       153\n",
            "Rosado       153\n",
            "Magenta      152\n",
            "Azul         152\n",
            "Morado       151\n",
            "Melocotón    149\n",
            "Rojo         148\n",
            "Beige        147\n",
            "Añil         147\n",
            "Lavanda      147\n",
            "Turquesa     145\n",
            "Blanco       142\n",
            "Oro          138\n",
            "Name: count, dtype: int64\n"
          ]
        }
      ]
    },
    {
      "cell_type": "markdown",
      "source": [
        "*f) Envio*"
      ],
      "metadata": {
        "id": "ehWUbQTN5iGF"
      }
    },
    {
      "cell_type": "code",
      "source": [
        "print(f\"Tipos de envios difernetes: {df_tend_de_compras['Envio'].nunique()}\")"
      ],
      "metadata": {
        "colab": {
          "base_uri": "https://localhost:8080/"
        },
        "id": "j-3oN1rO49As",
        "outputId": "f27d8e9d-037a-4959-c2f2-07eb893b3484"
      },
      "execution_count": 35,
      "outputs": [
        {
          "output_type": "stream",
          "name": "stdout",
          "text": [
            "Tipos de envios difernetes: 6\n"
          ]
        }
      ]
    },
    {
      "cell_type": "code",
      "source": [
        "print(f\"Cantidad de valores por envios: {df_tend_de_compras['Envio'].value_counts()}\")"
      ],
      "metadata": {
        "colab": {
          "base_uri": "https://localhost:8080/"
        },
        "id": "yiypU_1X59-M",
        "outputId": "f39cc18d-67d7-4d7d-da98-d32e9a529f74"
      },
      "execution_count": 36,
      "outputs": [
        {
          "output_type": "stream",
          "name": "stdout",
          "text": [
            "Cantidad de valores por envios: Envio\n",
            "Envío Gratis             675\n",
            "Estándar                 654\n",
            "Recogida en tienda       650\n",
            "Aire al día siguiente    648\n",
            "Expres                   646\n",
            "Envío en 2 días          627\n",
            "Name: count, dtype: int64\n"
          ]
        }
      ]
    },
    {
      "cell_type": "markdown",
      "source": [
        "*g) Metodo de pago*"
      ],
      "metadata": {
        "id": "aDmxsF_46SYk"
      }
    },
    {
      "cell_type": "code",
      "source": [
        "print(f\"Tipos de metodos de pago diferentes: {df_tend_de_compras['Metodo de pago'].nunique()}\")"
      ],
      "metadata": {
        "colab": {
          "base_uri": "https://localhost:8080/"
        },
        "id": "IEDRqxZw6fVr",
        "outputId": "88910b99-cc60-40a4-9ddd-c0c3bc666476"
      },
      "execution_count": 37,
      "outputs": [
        {
          "output_type": "stream",
          "name": "stdout",
          "text": [
            "Tipos de metodos de pago diferentes: 6\n"
          ]
        }
      ]
    },
    {
      "cell_type": "code",
      "source": [
        "print(f\"Cantidad de valores por meotodo de pago: {df_tend_de_compras['Metodo de pago'].value_counts()}\")"
      ],
      "metadata": {
        "colab": {
          "base_uri": "https://localhost:8080/"
        },
        "id": "MpvfsV6Q6nrb",
        "outputId": "2ed20578-9009-47dc-ae20-eb6a28d2ad3a"
      },
      "execution_count": 38,
      "outputs": [
        {
          "output_type": "stream",
          "name": "stdout",
          "text": [
            "Cantidad de valores por meotodo de pago: Metodo de pago\n",
            "PayPal                    677\n",
            "Tarjeta de crédito        671\n",
            "Efectivo                  670\n",
            "Tarjeta de débito         636\n",
            "Venmo                     634\n",
            "Transferencia bancaria    612\n",
            "Name: count, dtype: int64\n"
          ]
        }
      ]
    },
    {
      "cell_type": "markdown",
      "source": [
        "*h) Frecuencia de compras*"
      ],
      "metadata": {
        "id": "TqeT6yB166wb"
      }
    },
    {
      "cell_type": "code",
      "source": [
        "print(f\"Tipos de frecuencia de compras diferentes: {df_tend_de_compras['Frecuencia de compras'].nunique()}\")"
      ],
      "metadata": {
        "colab": {
          "base_uri": "https://localhost:8080/"
        },
        "id": "dlySfcMF7UdD",
        "outputId": "34887edc-435d-4fa7-879e-e62ebbbd9fec"
      },
      "execution_count": 40,
      "outputs": [
        {
          "output_type": "stream",
          "name": "stdout",
          "text": [
            "Tipos de frecuencia de compras diferentes: 5\n"
          ]
        }
      ]
    },
    {
      "cell_type": "code",
      "source": [
        "print(f\"Cantidad de valores por frecuencia de compras: {df_tend_de_compras['Frecuencia de compras'].value_counts()}\")"
      ],
      "metadata": {
        "colab": {
          "base_uri": "https://localhost:8080/"
        },
        "id": "Ofkf-hZJ6sNT",
        "outputId": "203d88c8-85fd-47f5-be82-64cde5a2028d"
      },
      "execution_count": 39,
      "outputs": [
        {
          "output_type": "stream",
          "name": "stdout",
          "text": [
            "Cantidad de valores por frecuencia de compras: Frecuencia de compras\n",
            "Trimestral    1147\n",
            "Quincenal     1089\n",
            "Anualmente     572\n",
            "Mensual        553\n",
            "Semanal        539\n",
            "Name: count, dtype: int64\n"
          ]
        }
      ]
    },
    {
      "cell_type": "markdown",
      "source": [
        "## Manipulacion del data set"
      ],
      "metadata": {
        "id": "_HU3pbo38HPb"
      }
    },
    {
      "cell_type": "markdown",
      "source": [
        "Luego de la exploracion del data set, no se hallaron datos nulos, ni duplicados, tampoco se detectaron valores atipicos o 0 que podrian afectar el desarrollo del proyecto.\n",
        "\n",
        "Sin embargo, hay nombres en las columnas que contienen espacios y otras que contienen \"_\" entre cada palabra. Para poder corregir esto, se realizara una copia del archivo CSV y posteriormente se modificaran los nombres de las columnas que contengan espacios.\n",
        "\n",
        "Finalmente el desarrollo del proyecto se realizara con este nuevo archivo corregido."
      ],
      "metadata": {
        "id": "Hbx_ZN2lE9km"
      }
    },
    {
      "cell_type": "markdown",
      "source": [
        "Creacion de copia del archivo original"
      ],
      "metadata": {
        "id": "9mNSkuCzGESl"
      }
    },
    {
      "cell_type": "code",
      "source": [
        "df_tend_de_compras_corregido = df_tend_de_compras.copy()"
      ],
      "metadata": {
        "id": "Pb47rhWJ7OEb"
      },
      "execution_count": 45,
      "outputs": []
    },
    {
      "cell_type": "markdown",
      "source": [
        "Modificacion de los nombres de las columnas sobre el nuevo archivo"
      ],
      "metadata": {
        "id": "XRDjbP27GHF9"
      }
    },
    {
      "cell_type": "code",
      "source": [
        "df_tend_de_compras_corregido.columns = df_tend_de_compras_corregido.columns.str.replace(' ', '_')"
      ],
      "metadata": {
        "id": "aE05pHfLGCA1"
      },
      "execution_count": 46,
      "outputs": []
    },
    {
      "cell_type": "markdown",
      "source": [
        "Vista previa del nuevo dara set con los nombres corregidos."
      ],
      "metadata": {
        "id": "NSocU6OWLDVU"
      }
    },
    {
      "cell_type": "code",
      "source": [
        "df_tend_de_compras_corregido.head()"
      ],
      "metadata": {
        "colab": {
          "base_uri": "https://localhost:8080/",
          "height": 327
        },
        "id": "E28IbMpKGdh0",
        "outputId": "fa78df90-3530-4037-f3b3-a8f249b38a9c"
      },
      "execution_count": 48,
      "outputs": [
        {
          "output_type": "execute_result",
          "data": {
            "text/plain": [
              "            Edad  Genero Articulo_Comprado Categoria  Monto_de_compra_(USD)  \\\n",
              "Cliente_ID                                                                    \n",
              "1             55  Hombre             Blusa      Ropa                     53   \n",
              "2             19  Hombre            Suéter      Ropa                     64   \n",
              "3             50  Hombre          Vaqueros      Ropa                     73   \n",
              "4             21  Hombre         Sandalias   Calzado                     90   \n",
              "5             45  Hombre             Blusa      Ropa                     49   \n",
              "\n",
              "                   Ciudad Tamaño     Color  Calificacion_cliente Suscripcion  \\\n",
              "Cliente_ID                                                                     \n",
              "1                Kentucky      L      Gris                   3.1          Si   \n",
              "2                   Maine      L    Marrón                   3.1          Si   \n",
              "3           Massachusetts      S    Marrón                   3.1          Si   \n",
              "4            Rhode Island      M    Marrón                   3.5          Si   \n",
              "5                  Oregón      M  Turquesa                   2.7          Si   \n",
              "\n",
              "                            Envio Descuento_aplicado Codigo_promocional_usado  \\\n",
              "Cliente_ID                                                                      \n",
              "1                          Expres                 Si                       Si   \n",
              "2                          Expres                 Si                       Si   \n",
              "3                    Envío Gratis                 Si                       Si   \n",
              "4           Aire al día siguiente                 Si                       Si   \n",
              "5                    Envío Gratis                 Si                       Si   \n",
              "\n",
              "            Compas_anteriores      Metodo_de_pago Frecuencia_de_compras  \n",
              "Cliente_ID                                                               \n",
              "1                          14               Venmo             Quincenal  \n",
              "2                           2            Efectivo             Quincenal  \n",
              "3                          23  Tarjeta de crédito               Semanal  \n",
              "4                          49              PayPal               Semanal  \n",
              "5                          31              PayPal            Anualmente  "
            ],
            "text/html": [
              "\n",
              "  <div id=\"df-ad2901bf-79ab-4cd9-a1e8-feb0d32e6ba1\" class=\"colab-df-container\">\n",
              "    <div>\n",
              "<style scoped>\n",
              "    .dataframe tbody tr th:only-of-type {\n",
              "        vertical-align: middle;\n",
              "    }\n",
              "\n",
              "    .dataframe tbody tr th {\n",
              "        vertical-align: top;\n",
              "    }\n",
              "\n",
              "    .dataframe thead th {\n",
              "        text-align: right;\n",
              "    }\n",
              "</style>\n",
              "<table border=\"1\" class=\"dataframe\">\n",
              "  <thead>\n",
              "    <tr style=\"text-align: right;\">\n",
              "      <th></th>\n",
              "      <th>Edad</th>\n",
              "      <th>Genero</th>\n",
              "      <th>Articulo_Comprado</th>\n",
              "      <th>Categoria</th>\n",
              "      <th>Monto_de_compra_(USD)</th>\n",
              "      <th>Ciudad</th>\n",
              "      <th>Tamaño</th>\n",
              "      <th>Color</th>\n",
              "      <th>Calificacion_cliente</th>\n",
              "      <th>Suscripcion</th>\n",
              "      <th>Envio</th>\n",
              "      <th>Descuento_aplicado</th>\n",
              "      <th>Codigo_promocional_usado</th>\n",
              "      <th>Compas_anteriores</th>\n",
              "      <th>Metodo_de_pago</th>\n",
              "      <th>Frecuencia_de_compras</th>\n",
              "    </tr>\n",
              "    <tr>\n",
              "      <th>Cliente_ID</th>\n",
              "      <th></th>\n",
              "      <th></th>\n",
              "      <th></th>\n",
              "      <th></th>\n",
              "      <th></th>\n",
              "      <th></th>\n",
              "      <th></th>\n",
              "      <th></th>\n",
              "      <th></th>\n",
              "      <th></th>\n",
              "      <th></th>\n",
              "      <th></th>\n",
              "      <th></th>\n",
              "      <th></th>\n",
              "      <th></th>\n",
              "      <th></th>\n",
              "    </tr>\n",
              "  </thead>\n",
              "  <tbody>\n",
              "    <tr>\n",
              "      <th>1</th>\n",
              "      <td>55</td>\n",
              "      <td>Hombre</td>\n",
              "      <td>Blusa</td>\n",
              "      <td>Ropa</td>\n",
              "      <td>53</td>\n",
              "      <td>Kentucky</td>\n",
              "      <td>L</td>\n",
              "      <td>Gris</td>\n",
              "      <td>3.1</td>\n",
              "      <td>Si</td>\n",
              "      <td>Expres</td>\n",
              "      <td>Si</td>\n",
              "      <td>Si</td>\n",
              "      <td>14</td>\n",
              "      <td>Venmo</td>\n",
              "      <td>Quincenal</td>\n",
              "    </tr>\n",
              "    <tr>\n",
              "      <th>2</th>\n",
              "      <td>19</td>\n",
              "      <td>Hombre</td>\n",
              "      <td>Suéter</td>\n",
              "      <td>Ropa</td>\n",
              "      <td>64</td>\n",
              "      <td>Maine</td>\n",
              "      <td>L</td>\n",
              "      <td>Marrón</td>\n",
              "      <td>3.1</td>\n",
              "      <td>Si</td>\n",
              "      <td>Expres</td>\n",
              "      <td>Si</td>\n",
              "      <td>Si</td>\n",
              "      <td>2</td>\n",
              "      <td>Efectivo</td>\n",
              "      <td>Quincenal</td>\n",
              "    </tr>\n",
              "    <tr>\n",
              "      <th>3</th>\n",
              "      <td>50</td>\n",
              "      <td>Hombre</td>\n",
              "      <td>Vaqueros</td>\n",
              "      <td>Ropa</td>\n",
              "      <td>73</td>\n",
              "      <td>Massachusetts</td>\n",
              "      <td>S</td>\n",
              "      <td>Marrón</td>\n",
              "      <td>3.1</td>\n",
              "      <td>Si</td>\n",
              "      <td>Envío Gratis</td>\n",
              "      <td>Si</td>\n",
              "      <td>Si</td>\n",
              "      <td>23</td>\n",
              "      <td>Tarjeta de crédito</td>\n",
              "      <td>Semanal</td>\n",
              "    </tr>\n",
              "    <tr>\n",
              "      <th>4</th>\n",
              "      <td>21</td>\n",
              "      <td>Hombre</td>\n",
              "      <td>Sandalias</td>\n",
              "      <td>Calzado</td>\n",
              "      <td>90</td>\n",
              "      <td>Rhode Island</td>\n",
              "      <td>M</td>\n",
              "      <td>Marrón</td>\n",
              "      <td>3.5</td>\n",
              "      <td>Si</td>\n",
              "      <td>Aire al día siguiente</td>\n",
              "      <td>Si</td>\n",
              "      <td>Si</td>\n",
              "      <td>49</td>\n",
              "      <td>PayPal</td>\n",
              "      <td>Semanal</td>\n",
              "    </tr>\n",
              "    <tr>\n",
              "      <th>5</th>\n",
              "      <td>45</td>\n",
              "      <td>Hombre</td>\n",
              "      <td>Blusa</td>\n",
              "      <td>Ropa</td>\n",
              "      <td>49</td>\n",
              "      <td>Oregón</td>\n",
              "      <td>M</td>\n",
              "      <td>Turquesa</td>\n",
              "      <td>2.7</td>\n",
              "      <td>Si</td>\n",
              "      <td>Envío Gratis</td>\n",
              "      <td>Si</td>\n",
              "      <td>Si</td>\n",
              "      <td>31</td>\n",
              "      <td>PayPal</td>\n",
              "      <td>Anualmente</td>\n",
              "    </tr>\n",
              "  </tbody>\n",
              "</table>\n",
              "</div>\n",
              "    <div class=\"colab-df-buttons\">\n",
              "\n",
              "  <div class=\"colab-df-container\">\n",
              "    <button class=\"colab-df-convert\" onclick=\"convertToInteractive('df-ad2901bf-79ab-4cd9-a1e8-feb0d32e6ba1')\"\n",
              "            title=\"Convert this dataframe to an interactive table.\"\n",
              "            style=\"display:none;\">\n",
              "\n",
              "  <svg xmlns=\"http://www.w3.org/2000/svg\" height=\"24px\" viewBox=\"0 -960 960 960\">\n",
              "    <path d=\"M120-120v-720h720v720H120Zm60-500h600v-160H180v160Zm220 220h160v-160H400v160Zm0 220h160v-160H400v160ZM180-400h160v-160H180v160Zm440 0h160v-160H620v160ZM180-180h160v-160H180v160Zm440 0h160v-160H620v160Z\"/>\n",
              "  </svg>\n",
              "    </button>\n",
              "\n",
              "  <style>\n",
              "    .colab-df-container {\n",
              "      display:flex;\n",
              "      gap: 12px;\n",
              "    }\n",
              "\n",
              "    .colab-df-convert {\n",
              "      background-color: #E8F0FE;\n",
              "      border: none;\n",
              "      border-radius: 50%;\n",
              "      cursor: pointer;\n",
              "      display: none;\n",
              "      fill: #1967D2;\n",
              "      height: 32px;\n",
              "      padding: 0 0 0 0;\n",
              "      width: 32px;\n",
              "    }\n",
              "\n",
              "    .colab-df-convert:hover {\n",
              "      background-color: #E2EBFA;\n",
              "      box-shadow: 0px 1px 2px rgba(60, 64, 67, 0.3), 0px 1px 3px 1px rgba(60, 64, 67, 0.15);\n",
              "      fill: #174EA6;\n",
              "    }\n",
              "\n",
              "    .colab-df-buttons div {\n",
              "      margin-bottom: 4px;\n",
              "    }\n",
              "\n",
              "    [theme=dark] .colab-df-convert {\n",
              "      background-color: #3B4455;\n",
              "      fill: #D2E3FC;\n",
              "    }\n",
              "\n",
              "    [theme=dark] .colab-df-convert:hover {\n",
              "      background-color: #434B5C;\n",
              "      box-shadow: 0px 1px 3px 1px rgba(0, 0, 0, 0.15);\n",
              "      filter: drop-shadow(0px 1px 2px rgba(0, 0, 0, 0.3));\n",
              "      fill: #FFFFFF;\n",
              "    }\n",
              "  </style>\n",
              "\n",
              "    <script>\n",
              "      const buttonEl =\n",
              "        document.querySelector('#df-ad2901bf-79ab-4cd9-a1e8-feb0d32e6ba1 button.colab-df-convert');\n",
              "      buttonEl.style.display =\n",
              "        google.colab.kernel.accessAllowed ? 'block' : 'none';\n",
              "\n",
              "      async function convertToInteractive(key) {\n",
              "        const element = document.querySelector('#df-ad2901bf-79ab-4cd9-a1e8-feb0d32e6ba1');\n",
              "        const dataTable =\n",
              "          await google.colab.kernel.invokeFunction('convertToInteractive',\n",
              "                                                    [key], {});\n",
              "        if (!dataTable) return;\n",
              "\n",
              "        const docLinkHtml = 'Like what you see? Visit the ' +\n",
              "          '<a target=\"_blank\" href=https://colab.research.google.com/notebooks/data_table.ipynb>data table notebook</a>'\n",
              "          + ' to learn more about interactive tables.';\n",
              "        element.innerHTML = '';\n",
              "        dataTable['output_type'] = 'display_data';\n",
              "        await google.colab.output.renderOutput(dataTable, element);\n",
              "        const docLink = document.createElement('div');\n",
              "        docLink.innerHTML = docLinkHtml;\n",
              "        element.appendChild(docLink);\n",
              "      }\n",
              "    </script>\n",
              "  </div>\n",
              "\n",
              "\n",
              "<div id=\"df-d08af3fd-b76a-44c4-85cb-d625fc1ce03c\">\n",
              "  <button class=\"colab-df-quickchart\" onclick=\"quickchart('df-d08af3fd-b76a-44c4-85cb-d625fc1ce03c')\"\n",
              "            title=\"Suggest charts\"\n",
              "            style=\"display:none;\">\n",
              "\n",
              "<svg xmlns=\"http://www.w3.org/2000/svg\" height=\"24px\"viewBox=\"0 0 24 24\"\n",
              "     width=\"24px\">\n",
              "    <g>\n",
              "        <path d=\"M19 3H5c-1.1 0-2 .9-2 2v14c0 1.1.9 2 2 2h14c1.1 0 2-.9 2-2V5c0-1.1-.9-2-2-2zM9 17H7v-7h2v7zm4 0h-2V7h2v10zm4 0h-2v-4h2v4z\"/>\n",
              "    </g>\n",
              "</svg>\n",
              "  </button>\n",
              "\n",
              "<style>\n",
              "  .colab-df-quickchart {\n",
              "      --bg-color: #E8F0FE;\n",
              "      --fill-color: #1967D2;\n",
              "      --hover-bg-color: #E2EBFA;\n",
              "      --hover-fill-color: #174EA6;\n",
              "      --disabled-fill-color: #AAA;\n",
              "      --disabled-bg-color: #DDD;\n",
              "  }\n",
              "\n",
              "  [theme=dark] .colab-df-quickchart {\n",
              "      --bg-color: #3B4455;\n",
              "      --fill-color: #D2E3FC;\n",
              "      --hover-bg-color: #434B5C;\n",
              "      --hover-fill-color: #FFFFFF;\n",
              "      --disabled-bg-color: #3B4455;\n",
              "      --disabled-fill-color: #666;\n",
              "  }\n",
              "\n",
              "  .colab-df-quickchart {\n",
              "    background-color: var(--bg-color);\n",
              "    border: none;\n",
              "    border-radius: 50%;\n",
              "    cursor: pointer;\n",
              "    display: none;\n",
              "    fill: var(--fill-color);\n",
              "    height: 32px;\n",
              "    padding: 0;\n",
              "    width: 32px;\n",
              "  }\n",
              "\n",
              "  .colab-df-quickchart:hover {\n",
              "    background-color: var(--hover-bg-color);\n",
              "    box-shadow: 0 1px 2px rgba(60, 64, 67, 0.3), 0 1px 3px 1px rgba(60, 64, 67, 0.15);\n",
              "    fill: var(--button-hover-fill-color);\n",
              "  }\n",
              "\n",
              "  .colab-df-quickchart-complete:disabled,\n",
              "  .colab-df-quickchart-complete:disabled:hover {\n",
              "    background-color: var(--disabled-bg-color);\n",
              "    fill: var(--disabled-fill-color);\n",
              "    box-shadow: none;\n",
              "  }\n",
              "\n",
              "  .colab-df-spinner {\n",
              "    border: 2px solid var(--fill-color);\n",
              "    border-color: transparent;\n",
              "    border-bottom-color: var(--fill-color);\n",
              "    animation:\n",
              "      spin 1s steps(1) infinite;\n",
              "  }\n",
              "\n",
              "  @keyframes spin {\n",
              "    0% {\n",
              "      border-color: transparent;\n",
              "      border-bottom-color: var(--fill-color);\n",
              "      border-left-color: var(--fill-color);\n",
              "    }\n",
              "    20% {\n",
              "      border-color: transparent;\n",
              "      border-left-color: var(--fill-color);\n",
              "      border-top-color: var(--fill-color);\n",
              "    }\n",
              "    30% {\n",
              "      border-color: transparent;\n",
              "      border-left-color: var(--fill-color);\n",
              "      border-top-color: var(--fill-color);\n",
              "      border-right-color: var(--fill-color);\n",
              "    }\n",
              "    40% {\n",
              "      border-color: transparent;\n",
              "      border-right-color: var(--fill-color);\n",
              "      border-top-color: var(--fill-color);\n",
              "    }\n",
              "    60% {\n",
              "      border-color: transparent;\n",
              "      border-right-color: var(--fill-color);\n",
              "    }\n",
              "    80% {\n",
              "      border-color: transparent;\n",
              "      border-right-color: var(--fill-color);\n",
              "      border-bottom-color: var(--fill-color);\n",
              "    }\n",
              "    90% {\n",
              "      border-color: transparent;\n",
              "      border-bottom-color: var(--fill-color);\n",
              "    }\n",
              "  }\n",
              "</style>\n",
              "\n",
              "  <script>\n",
              "    async function quickchart(key) {\n",
              "      const quickchartButtonEl =\n",
              "        document.querySelector('#' + key + ' button');\n",
              "      quickchartButtonEl.disabled = true;  // To prevent multiple clicks.\n",
              "      quickchartButtonEl.classList.add('colab-df-spinner');\n",
              "      try {\n",
              "        const charts = await google.colab.kernel.invokeFunction(\n",
              "            'suggestCharts', [key], {});\n",
              "      } catch (error) {\n",
              "        console.error('Error during call to suggestCharts:', error);\n",
              "      }\n",
              "      quickchartButtonEl.classList.remove('colab-df-spinner');\n",
              "      quickchartButtonEl.classList.add('colab-df-quickchart-complete');\n",
              "    }\n",
              "    (() => {\n",
              "      let quickchartButtonEl =\n",
              "        document.querySelector('#df-d08af3fd-b76a-44c4-85cb-d625fc1ce03c button');\n",
              "      quickchartButtonEl.style.display =\n",
              "        google.colab.kernel.accessAllowed ? 'block' : 'none';\n",
              "    })();\n",
              "  </script>\n",
              "</div>\n",
              "\n",
              "    </div>\n",
              "  </div>\n"
            ],
            "application/vnd.google.colaboratory.intrinsic+json": {
              "type": "dataframe",
              "variable_name": "df_tend_de_compras_corregido",
              "summary": "{\n  \"name\": \"df_tend_de_compras_corregido\",\n  \"rows\": 3900,\n  \"fields\": [\n    {\n      \"column\": \"Cliente_ID\",\n      \"properties\": {\n        \"dtype\": \"number\",\n        \"std\": 1125,\n        \"min\": 1,\n        \"max\": 3900,\n        \"num_unique_values\": 3900,\n        \"samples\": [\n          840,\n          1718,\n          322\n        ],\n        \"semantic_type\": \"\",\n        \"description\": \"\"\n      }\n    },\n    {\n      \"column\": \"Edad\",\n      \"properties\": {\n        \"dtype\": \"number\",\n        \"std\": 15,\n        \"min\": 18,\n        \"max\": 70,\n        \"num_unique_values\": 53,\n        \"samples\": [\n          56,\n          24,\n          51\n        ],\n        \"semantic_type\": \"\",\n        \"description\": \"\"\n      }\n    },\n    {\n      \"column\": \"Genero\",\n      \"properties\": {\n        \"dtype\": \"category\",\n        \"num_unique_values\": 2,\n        \"samples\": [\n          \"Mujer\",\n          \"Hombre\"\n        ],\n        \"semantic_type\": \"\",\n        \"description\": \"\"\n      }\n    },\n    {\n      \"column\": \"Articulo_Comprado\",\n      \"properties\": {\n        \"dtype\": \"category\",\n        \"num_unique_values\": 25,\n        \"samples\": [\n          \"Bolso\",\n          \"Joyer\\u00eda\"\n        ],\n        \"semantic_type\": \"\",\n        \"description\": \"\"\n      }\n    },\n    {\n      \"column\": \"Categoria\",\n      \"properties\": {\n        \"dtype\": \"category\",\n        \"num_unique_values\": 4,\n        \"samples\": [\n          \"Calzado\",\n          \"Accesorios\"\n        ],\n        \"semantic_type\": \"\",\n        \"description\": \"\"\n      }\n    },\n    {\n      \"column\": \"Monto_de_compra_(USD)\",\n      \"properties\": {\n        \"dtype\": \"number\",\n        \"std\": 23,\n        \"min\": 20,\n        \"max\": 100,\n        \"num_unique_values\": 81,\n        \"samples\": [\n          60,\n          53\n        ],\n        \"semantic_type\": \"\",\n        \"description\": \"\"\n      }\n    },\n    {\n      \"column\": \"Ciudad\",\n      \"properties\": {\n        \"dtype\": \"category\",\n        \"num_unique_values\": 50,\n        \"samples\": [\n          \"Nuevo Hampshire\",\n          \"Connecticut\"\n        ],\n        \"semantic_type\": \"\",\n        \"description\": \"\"\n      }\n    },\n    {\n      \"column\": \"Tama\\u00f1o\",\n      \"properties\": {\n        \"dtype\": \"category\",\n        \"num_unique_values\": 4,\n        \"samples\": [\n          \"S\",\n          \"XL\"\n        ],\n        \"semantic_type\": \"\",\n        \"description\": \"\"\n      }\n    },\n    {\n      \"column\": \"Color\",\n      \"properties\": {\n        \"dtype\": \"category\",\n        \"num_unique_values\": 24,\n        \"samples\": [\n          \"Aceituna\",\n          \"Rojo\"\n        ],\n        \"semantic_type\": \"\",\n        \"description\": \"\"\n      }\n    },\n    {\n      \"column\": \"Calificacion_cliente\",\n      \"properties\": {\n        \"dtype\": \"number\",\n        \"std\": 0.7162228139312449,\n        \"min\": 2.5,\n        \"max\": 5.0,\n        \"num_unique_values\": 26,\n        \"samples\": [\n          4.9,\n          5.0\n        ],\n        \"semantic_type\": \"\",\n        \"description\": \"\"\n      }\n    },\n    {\n      \"column\": \"Suscripcion\",\n      \"properties\": {\n        \"dtype\": \"category\",\n        \"num_unique_values\": 2,\n        \"samples\": [\n          \"No\",\n          \"Si\"\n        ],\n        \"semantic_type\": \"\",\n        \"description\": \"\"\n      }\n    },\n    {\n      \"column\": \"Envio\",\n      \"properties\": {\n        \"dtype\": \"category\",\n        \"num_unique_values\": 6,\n        \"samples\": [\n          \"Expres\",\n          \"Env\\u00edo Gratis\"\n        ],\n        \"semantic_type\": \"\",\n        \"description\": \"\"\n      }\n    },\n    {\n      \"column\": \"Descuento_aplicado\",\n      \"properties\": {\n        \"dtype\": \"category\",\n        \"num_unique_values\": 2,\n        \"samples\": [\n          \"No\",\n          \"Si\"\n        ],\n        \"semantic_type\": \"\",\n        \"description\": \"\"\n      }\n    },\n    {\n      \"column\": \"Codigo_promocional_usado\",\n      \"properties\": {\n        \"dtype\": \"category\",\n        \"num_unique_values\": 2,\n        \"samples\": [\n          \"No\",\n          \"Si\"\n        ],\n        \"semantic_type\": \"\",\n        \"description\": \"\"\n      }\n    },\n    {\n      \"column\": \"Compas_anteriores\",\n      \"properties\": {\n        \"dtype\": \"number\",\n        \"std\": 14,\n        \"min\": 1,\n        \"max\": 50,\n        \"num_unique_values\": 50,\n        \"samples\": [\n          36,\n          47\n        ],\n        \"semantic_type\": \"\",\n        \"description\": \"\"\n      }\n    },\n    {\n      \"column\": \"Metodo_de_pago\",\n      \"properties\": {\n        \"dtype\": \"category\",\n        \"num_unique_values\": 6,\n        \"samples\": [\n          \"Venmo\",\n          \"Efectivo\"\n        ],\n        \"semantic_type\": \"\",\n        \"description\": \"\"\n      }\n    },\n    {\n      \"column\": \"Frecuencia_de_compras\",\n      \"properties\": {\n        \"dtype\": \"category\",\n        \"num_unique_values\": 5,\n        \"samples\": [\n          \"Semanal\",\n          \"Mensual\"\n        ],\n        \"semantic_type\": \"\",\n        \"description\": \"\"\n      }\n    }\n  ]\n}"
            }
          },
          "metadata": {},
          "execution_count": 48
        }
      ]
    },
    {
      "cell_type": "code",
      "source": [],
      "metadata": {
        "id": "Vz285JlpHGu7"
      },
      "execution_count": null,
      "outputs": []
    }
  ]
}
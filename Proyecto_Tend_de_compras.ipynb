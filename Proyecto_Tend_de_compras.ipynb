{
  "nbformat": 4,
  "nbformat_minor": 0,
  "metadata": {
    "colab": {
      "provenance": [],
      "authorship_tag": "ABX9TyNAEMmxlwdsSaFdc+pfZ3Lm",
      "include_colab_link": true
    },
    "kernelspec": {
      "name": "python3",
      "display_name": "Python 3"
    },
    "language_info": {
      "name": "python"
    }
  },
  "cells": [
    {
      "cell_type": "markdown",
      "metadata": {
        "id": "view-in-github",
        "colab_type": "text"
      },
      "source": [
        "<a href=\"https://colab.research.google.com/github/Patriciol03/Reporte_tendencias_de_compras/blob/main/Proyecto_Tend_de_compras.ipynb\" target=\"_parent\"><img src=\"https://colab.research.google.com/assets/colab-badge.svg\" alt=\"Open In Colab\"/></a>"
      ]
    },
    {
      "cell_type": "markdown",
      "source": [
        "# Tendencias de compras en usuarios de Ecommerce (Introduccion al proyecto)"
      ],
      "metadata": {
        "id": "qBixz2sHNI13"
      }
    },
    {
      "cell_type": "markdown",
      "source": [
        "**Descripcion:** El proyecto busca explorar y analizar los datos de una base de clientes de un ecommerce para identificar patrones de comportamiento y tendencias en sus compras. La información del dataset incluye aspectos demográficos, preferencias de compra, calificaciones y métodos de pago, entre otros. Los resultados del análisis podrán ser utilizados para optimizar estrategias de marketing, personalización de ofertas y mejora en la experiencia de usuario.\n",
        "\n",
        "**Objetivo:** Detectar patrones de comportamiento de compra y tendencias relevantes en los clientes para proponer estrategias que incrementen la efectividad del negocio, como segmentación de mercado, personalización de promociones y optimización de la logística.\n",
        "\n",
        "**Hipotesis:**\n",
        "\n",
        "1) El género y la edad influyen significativamente en las categorías de productos más comprados y los métodos de pago preferidos.\n",
        "\n",
        "*Por ejemplo:* Las mujeres jóvenes podrían preferir ropa y accesorios específicos, mientras que los hombres mayores podrían inclinarse por compras de calzado.\n",
        "\n",
        "2) Los clientes con suscripción tienen una mayor frecuencia de compras y generan un mayor monto promedio por transacción que los clientes no suscritos.\n",
        "\n",
        "Por ejemplo: La fidelidad del cliente suscrito podría estar asociada a promociones exclusivas o envío gratuito.\n"
      ],
      "metadata": {
        "id": "3EKFfWgUNjGW"
      }
    },
    {
      "cell_type": "markdown",
      "source": [
        "**Algunas de las variables mas interesantes del data set para generar insigths utiles son:**\n",
        "\n",
        "* Edad: Permite segmentar a los clientes por grupos generacionales y analizar patrones asociados a etapas de la vida.\n",
        "* Género: Útil para identificar diferencias de comportamiento en compras entre hombres y mujeres.\n",
        "* Categoría (ropa, calzado, accesorios, etc.): Clave para entender las preferencias generales del cliente y qué sectores tienen mayor demanda.\n",
        "* Frecuencia de compras: Ayuda a clasificar clientes en grupos como frecuentes, ocasionales o inactivos.\n",
        "* Código promocional usado (sí o no): Puede revelar la efectividad de campañas promocionales.\n",
        "* Suscripción (sí o no): Permite analizar cómo la suscripción afecta la lealtad, frecuencia y el monto de compra.\n",
        "* Calificación (0-5): Indicador directo de satisfacción del cliente con el producto o el servicio."
      ],
      "metadata": {
        "id": "NTnMYtAiAJ09"
      }
    },
    {
      "cell_type": "markdown",
      "source": [
        "## Descripcion de columnas"
      ],
      "metadata": {
        "id": "sXx6b63q1si6"
      }
    },
    {
      "cell_type": "markdown",
      "source": [
        "En total son 16 columnas con informacion relevante de las compras realizadas por diferentes clientes en la tienda online."
      ],
      "metadata": {
        "id": "6KQf7-pu1wLq"
      }
    },
    {
      "cell_type": "markdown",
      "source": [
        "* **Cliente id:** Identificador unico de cada cliente.\n",
        "* **Edad:** Edad del cliente.\n",
        "* **Genero:** Genero del cliente, segmentado unicamente en Hombre y Mujer.\n",
        "* **Articulo comprado:** Tipo de articulo de la compra, puede variar entre blusa, sueter, camisa, etc.\n",
        "* **Categoría:** Segmentacion de los articulos, por ejemplo: ropa,\n",
        "calzado,accesorios,etc.\n",
        "* **Monto de compra en USD:** Monto expresado en numeros decimales.\n",
        "* **Ciudad:** Ciudad correspondiente al cliente.\n",
        "* **Tamaño:** Hace referencia al arituculo comprado, puede ser l, s, xl, etc.\n",
        "* **Color:** Hace referencia al articulo comprado.\n",
        "* **Calificación:** Calificacion del articulo brindada por el cliente, puede ir desde 0 a 5 (incluye decimales)\n",
        "* **Suscripción:** Indica si el cliente esta suscripto al plan de clientes o no.\n",
        "* **Envio:** Tipo de envio usado por el cliente, por ejemplo: Expres, estándar, gratis, etc.\n",
        "* **Descuento aplicado:** Indica si hubo o no un descuento aplicado en la compra del cliente.\n",
        "* **Codigo promocional usado:** Indica si el cliente utilizo o no un codigo promocional al momento de la compra.\n",
        "* **Compras anteriores:** Refleja la cantidad de compras realizadas con anterioridad por el mismo cliente.\n",
        "* **Método de pago:** Metodo de pago utilizado por el cliente en la compra.\n",
        "* **Frecuencia de compras:** Hace referencia a la frecuencia de compra del cliente, pudiendo ser quincenal, mensual, anual,etc."
      ],
      "metadata": {
        "id": "MeN41aRM2POq"
      }
    },
    {
      "cell_type": "markdown",
      "source": [
        "# Exploracion y manipulacion del dataset"
      ],
      "metadata": {
        "id": "Dg4a9fHCc7lh"
      }
    },
    {
      "cell_type": "markdown",
      "source": [
        "##Carga de archivo e importacion de librerias"
      ],
      "metadata": {
        "id": "-rfZPWj28TQS"
      }
    },
    {
      "cell_type": "code",
      "source": [
        "#importacion de librerias\n",
        "import pandas as pd\n",
        "import numpy as np\n",
        "import matplotlib.pyplot as plt\n",
        "import matplotlib as mpl\n",
        "import seaborn as sns"
      ],
      "metadata": {
        "id": "FThQR1ZJbQN_"
      },
      "execution_count": 2,
      "outputs": []
    },
    {
      "cell_type": "code",
      "source": [
        "#importacion de dataset en formato SCV.\n",
        "\n",
        "url = 'https://raw.githubusercontent.com/Patriciol03/Reporte_tendencias_de_compras/refs/heads/main/Tendencias-de-compras.csv'\n",
        "df_tend_de_compras = pd.read_csv(url, index_col=0, delimiter = \",\")"
      ],
      "metadata": {
        "id": "32h-YOtubiFn"
      },
      "execution_count": 3,
      "outputs": []
    },
    {
      "cell_type": "markdown",
      "source": [
        "## Analisis/Exploracion de calidad en los datos\n"
      ],
      "metadata": {
        "id": "KiGtBn2zcoSO"
      }
    },
    {
      "cell_type": "markdown",
      "source": [
        "1) vista previa del data set, primeros 5 registros"
      ],
      "metadata": {
        "id": "VH1dWdZ-mf6u"
      }
    },
    {
      "cell_type": "code",
      "source": [
        "df_tend_de_compras.head()"
      ],
      "metadata": {
        "colab": {
          "base_uri": "https://localhost:8080/",
          "height": 376
        },
        "id": "bIzNxc5XcswV",
        "outputId": "13b0f36a-8876-41bc-cd0f-0d35dad3e3a5"
      },
      "execution_count": 4,
      "outputs": [
        {
          "output_type": "execute_result",
          "data": {
            "text/plain": [
              "            Edad  Genero Articulo Comprado Categoria  Monto de compra (USD)  \\\n",
              "Cliente_ID                                                                    \n",
              "1             55  Hombre             Blusa      Ropa                     53   \n",
              "2             19  Hombre            Suéter      Ropa                     64   \n",
              "3             50  Hombre          Vaqueros      Ropa                     73   \n",
              "4             21  Hombre         Sandalias   Calzado                     90   \n",
              "5             45  Hombre             Blusa      Ropa                     49   \n",
              "\n",
              "                   Ciudad Tamaño     Color  Calificacion_cliente Suscripcion  \\\n",
              "Cliente_ID                                                                     \n",
              "1                Kentucky      L      Gris                   3.1          Si   \n",
              "2                   Maine      L    Marrón                   3.1          Si   \n",
              "3           Massachusetts      S    Marrón                   3.1          Si   \n",
              "4            Rhode Island      M    Marrón                   3.5          Si   \n",
              "5                  Oregón      M  Turquesa                   2.7          Si   \n",
              "\n",
              "                            Envio Descuento aplicado Codigo promocional usado  \\\n",
              "Cliente_ID                                                                      \n",
              "1                          Expres                 Si                       Si   \n",
              "2                          Expres                 Si                       Si   \n",
              "3                    Envío Gratis                 Si                       Si   \n",
              "4           Aire al día siguiente                 Si                       Si   \n",
              "5                    Envío Gratis                 Si                       Si   \n",
              "\n",
              "            Compas anteriores      Metodo de pago Frecuencia de compras  \n",
              "Cliente_ID                                                               \n",
              "1                          14               Venmo             Quincenal  \n",
              "2                           2            Efectivo             Quincenal  \n",
              "3                          23  Tarjeta de crédito               Semanal  \n",
              "4                          49              PayPal               Semanal  \n",
              "5                          31              PayPal            Anualmente  "
            ],
            "text/html": [
              "\n",
              "  <div id=\"df-f4c3e72b-184e-4e59-a345-ade23b7828f5\" class=\"colab-df-container\">\n",
              "    <div>\n",
              "<style scoped>\n",
              "    .dataframe tbody tr th:only-of-type {\n",
              "        vertical-align: middle;\n",
              "    }\n",
              "\n",
              "    .dataframe tbody tr th {\n",
              "        vertical-align: top;\n",
              "    }\n",
              "\n",
              "    .dataframe thead th {\n",
              "        text-align: right;\n",
              "    }\n",
              "</style>\n",
              "<table border=\"1\" class=\"dataframe\">\n",
              "  <thead>\n",
              "    <tr style=\"text-align: right;\">\n",
              "      <th></th>\n",
              "      <th>Edad</th>\n",
              "      <th>Genero</th>\n",
              "      <th>Articulo Comprado</th>\n",
              "      <th>Categoria</th>\n",
              "      <th>Monto de compra (USD)</th>\n",
              "      <th>Ciudad</th>\n",
              "      <th>Tamaño</th>\n",
              "      <th>Color</th>\n",
              "      <th>Calificacion_cliente</th>\n",
              "      <th>Suscripcion</th>\n",
              "      <th>Envio</th>\n",
              "      <th>Descuento aplicado</th>\n",
              "      <th>Codigo promocional usado</th>\n",
              "      <th>Compas anteriores</th>\n",
              "      <th>Metodo de pago</th>\n",
              "      <th>Frecuencia de compras</th>\n",
              "    </tr>\n",
              "    <tr>\n",
              "      <th>Cliente_ID</th>\n",
              "      <th></th>\n",
              "      <th></th>\n",
              "      <th></th>\n",
              "      <th></th>\n",
              "      <th></th>\n",
              "      <th></th>\n",
              "      <th></th>\n",
              "      <th></th>\n",
              "      <th></th>\n",
              "      <th></th>\n",
              "      <th></th>\n",
              "      <th></th>\n",
              "      <th></th>\n",
              "      <th></th>\n",
              "      <th></th>\n",
              "      <th></th>\n",
              "    </tr>\n",
              "  </thead>\n",
              "  <tbody>\n",
              "    <tr>\n",
              "      <th>1</th>\n",
              "      <td>55</td>\n",
              "      <td>Hombre</td>\n",
              "      <td>Blusa</td>\n",
              "      <td>Ropa</td>\n",
              "      <td>53</td>\n",
              "      <td>Kentucky</td>\n",
              "      <td>L</td>\n",
              "      <td>Gris</td>\n",
              "      <td>3.1</td>\n",
              "      <td>Si</td>\n",
              "      <td>Expres</td>\n",
              "      <td>Si</td>\n",
              "      <td>Si</td>\n",
              "      <td>14</td>\n",
              "      <td>Venmo</td>\n",
              "      <td>Quincenal</td>\n",
              "    </tr>\n",
              "    <tr>\n",
              "      <th>2</th>\n",
              "      <td>19</td>\n",
              "      <td>Hombre</td>\n",
              "      <td>Suéter</td>\n",
              "      <td>Ropa</td>\n",
              "      <td>64</td>\n",
              "      <td>Maine</td>\n",
              "      <td>L</td>\n",
              "      <td>Marrón</td>\n",
              "      <td>3.1</td>\n",
              "      <td>Si</td>\n",
              "      <td>Expres</td>\n",
              "      <td>Si</td>\n",
              "      <td>Si</td>\n",
              "      <td>2</td>\n",
              "      <td>Efectivo</td>\n",
              "      <td>Quincenal</td>\n",
              "    </tr>\n",
              "    <tr>\n",
              "      <th>3</th>\n",
              "      <td>50</td>\n",
              "      <td>Hombre</td>\n",
              "      <td>Vaqueros</td>\n",
              "      <td>Ropa</td>\n",
              "      <td>73</td>\n",
              "      <td>Massachusetts</td>\n",
              "      <td>S</td>\n",
              "      <td>Marrón</td>\n",
              "      <td>3.1</td>\n",
              "      <td>Si</td>\n",
              "      <td>Envío Gratis</td>\n",
              "      <td>Si</td>\n",
              "      <td>Si</td>\n",
              "      <td>23</td>\n",
              "      <td>Tarjeta de crédito</td>\n",
              "      <td>Semanal</td>\n",
              "    </tr>\n",
              "    <tr>\n",
              "      <th>4</th>\n",
              "      <td>21</td>\n",
              "      <td>Hombre</td>\n",
              "      <td>Sandalias</td>\n",
              "      <td>Calzado</td>\n",
              "      <td>90</td>\n",
              "      <td>Rhode Island</td>\n",
              "      <td>M</td>\n",
              "      <td>Marrón</td>\n",
              "      <td>3.5</td>\n",
              "      <td>Si</td>\n",
              "      <td>Aire al día siguiente</td>\n",
              "      <td>Si</td>\n",
              "      <td>Si</td>\n",
              "      <td>49</td>\n",
              "      <td>PayPal</td>\n",
              "      <td>Semanal</td>\n",
              "    </tr>\n",
              "    <tr>\n",
              "      <th>5</th>\n",
              "      <td>45</td>\n",
              "      <td>Hombre</td>\n",
              "      <td>Blusa</td>\n",
              "      <td>Ropa</td>\n",
              "      <td>49</td>\n",
              "      <td>Oregón</td>\n",
              "      <td>M</td>\n",
              "      <td>Turquesa</td>\n",
              "      <td>2.7</td>\n",
              "      <td>Si</td>\n",
              "      <td>Envío Gratis</td>\n",
              "      <td>Si</td>\n",
              "      <td>Si</td>\n",
              "      <td>31</td>\n",
              "      <td>PayPal</td>\n",
              "      <td>Anualmente</td>\n",
              "    </tr>\n",
              "  </tbody>\n",
              "</table>\n",
              "</div>\n",
              "    <div class=\"colab-df-buttons\">\n",
              "\n",
              "  <div class=\"colab-df-container\">\n",
              "    <button class=\"colab-df-convert\" onclick=\"convertToInteractive('df-f4c3e72b-184e-4e59-a345-ade23b7828f5')\"\n",
              "            title=\"Convert this dataframe to an interactive table.\"\n",
              "            style=\"display:none;\">\n",
              "\n",
              "  <svg xmlns=\"http://www.w3.org/2000/svg\" height=\"24px\" viewBox=\"0 -960 960 960\">\n",
              "    <path d=\"M120-120v-720h720v720H120Zm60-500h600v-160H180v160Zm220 220h160v-160H400v160Zm0 220h160v-160H400v160ZM180-400h160v-160H180v160Zm440 0h160v-160H620v160ZM180-180h160v-160H180v160Zm440 0h160v-160H620v160Z\"/>\n",
              "  </svg>\n",
              "    </button>\n",
              "\n",
              "  <style>\n",
              "    .colab-df-container {\n",
              "      display:flex;\n",
              "      gap: 12px;\n",
              "    }\n",
              "\n",
              "    .colab-df-convert {\n",
              "      background-color: #E8F0FE;\n",
              "      border: none;\n",
              "      border-radius: 50%;\n",
              "      cursor: pointer;\n",
              "      display: none;\n",
              "      fill: #1967D2;\n",
              "      height: 32px;\n",
              "      padding: 0 0 0 0;\n",
              "      width: 32px;\n",
              "    }\n",
              "\n",
              "    .colab-df-convert:hover {\n",
              "      background-color: #E2EBFA;\n",
              "      box-shadow: 0px 1px 2px rgba(60, 64, 67, 0.3), 0px 1px 3px 1px rgba(60, 64, 67, 0.15);\n",
              "      fill: #174EA6;\n",
              "    }\n",
              "\n",
              "    .colab-df-buttons div {\n",
              "      margin-bottom: 4px;\n",
              "    }\n",
              "\n",
              "    [theme=dark] .colab-df-convert {\n",
              "      background-color: #3B4455;\n",
              "      fill: #D2E3FC;\n",
              "    }\n",
              "\n",
              "    [theme=dark] .colab-df-convert:hover {\n",
              "      background-color: #434B5C;\n",
              "      box-shadow: 0px 1px 3px 1px rgba(0, 0, 0, 0.15);\n",
              "      filter: drop-shadow(0px 1px 2px rgba(0, 0, 0, 0.3));\n",
              "      fill: #FFFFFF;\n",
              "    }\n",
              "  </style>\n",
              "\n",
              "    <script>\n",
              "      const buttonEl =\n",
              "        document.querySelector('#df-f4c3e72b-184e-4e59-a345-ade23b7828f5 button.colab-df-convert');\n",
              "      buttonEl.style.display =\n",
              "        google.colab.kernel.accessAllowed ? 'block' : 'none';\n",
              "\n",
              "      async function convertToInteractive(key) {\n",
              "        const element = document.querySelector('#df-f4c3e72b-184e-4e59-a345-ade23b7828f5');\n",
              "        const dataTable =\n",
              "          await google.colab.kernel.invokeFunction('convertToInteractive',\n",
              "                                                    [key], {});\n",
              "        if (!dataTable) return;\n",
              "\n",
              "        const docLinkHtml = 'Like what you see? Visit the ' +\n",
              "          '<a target=\"_blank\" href=https://colab.research.google.com/notebooks/data_table.ipynb>data table notebook</a>'\n",
              "          + ' to learn more about interactive tables.';\n",
              "        element.innerHTML = '';\n",
              "        dataTable['output_type'] = 'display_data';\n",
              "        await google.colab.output.renderOutput(dataTable, element);\n",
              "        const docLink = document.createElement('div');\n",
              "        docLink.innerHTML = docLinkHtml;\n",
              "        element.appendChild(docLink);\n",
              "      }\n",
              "    </script>\n",
              "  </div>\n",
              "\n",
              "\n",
              "<div id=\"df-e1482b34-b994-456b-8bcd-4bff9ee53407\">\n",
              "  <button class=\"colab-df-quickchart\" onclick=\"quickchart('df-e1482b34-b994-456b-8bcd-4bff9ee53407')\"\n",
              "            title=\"Suggest charts\"\n",
              "            style=\"display:none;\">\n",
              "\n",
              "<svg xmlns=\"http://www.w3.org/2000/svg\" height=\"24px\"viewBox=\"0 0 24 24\"\n",
              "     width=\"24px\">\n",
              "    <g>\n",
              "        <path d=\"M19 3H5c-1.1 0-2 .9-2 2v14c0 1.1.9 2 2 2h14c1.1 0 2-.9 2-2V5c0-1.1-.9-2-2-2zM9 17H7v-7h2v7zm4 0h-2V7h2v10zm4 0h-2v-4h2v4z\"/>\n",
              "    </g>\n",
              "</svg>\n",
              "  </button>\n",
              "\n",
              "<style>\n",
              "  .colab-df-quickchart {\n",
              "      --bg-color: #E8F0FE;\n",
              "      --fill-color: #1967D2;\n",
              "      --hover-bg-color: #E2EBFA;\n",
              "      --hover-fill-color: #174EA6;\n",
              "      --disabled-fill-color: #AAA;\n",
              "      --disabled-bg-color: #DDD;\n",
              "  }\n",
              "\n",
              "  [theme=dark] .colab-df-quickchart {\n",
              "      --bg-color: #3B4455;\n",
              "      --fill-color: #D2E3FC;\n",
              "      --hover-bg-color: #434B5C;\n",
              "      --hover-fill-color: #FFFFFF;\n",
              "      --disabled-bg-color: #3B4455;\n",
              "      --disabled-fill-color: #666;\n",
              "  }\n",
              "\n",
              "  .colab-df-quickchart {\n",
              "    background-color: var(--bg-color);\n",
              "    border: none;\n",
              "    border-radius: 50%;\n",
              "    cursor: pointer;\n",
              "    display: none;\n",
              "    fill: var(--fill-color);\n",
              "    height: 32px;\n",
              "    padding: 0;\n",
              "    width: 32px;\n",
              "  }\n",
              "\n",
              "  .colab-df-quickchart:hover {\n",
              "    background-color: var(--hover-bg-color);\n",
              "    box-shadow: 0 1px 2px rgba(60, 64, 67, 0.3), 0 1px 3px 1px rgba(60, 64, 67, 0.15);\n",
              "    fill: var(--button-hover-fill-color);\n",
              "  }\n",
              "\n",
              "  .colab-df-quickchart-complete:disabled,\n",
              "  .colab-df-quickchart-complete:disabled:hover {\n",
              "    background-color: var(--disabled-bg-color);\n",
              "    fill: var(--disabled-fill-color);\n",
              "    box-shadow: none;\n",
              "  }\n",
              "\n",
              "  .colab-df-spinner {\n",
              "    border: 2px solid var(--fill-color);\n",
              "    border-color: transparent;\n",
              "    border-bottom-color: var(--fill-color);\n",
              "    animation:\n",
              "      spin 1s steps(1) infinite;\n",
              "  }\n",
              "\n",
              "  @keyframes spin {\n",
              "    0% {\n",
              "      border-color: transparent;\n",
              "      border-bottom-color: var(--fill-color);\n",
              "      border-left-color: var(--fill-color);\n",
              "    }\n",
              "    20% {\n",
              "      border-color: transparent;\n",
              "      border-left-color: var(--fill-color);\n",
              "      border-top-color: var(--fill-color);\n",
              "    }\n",
              "    30% {\n",
              "      border-color: transparent;\n",
              "      border-left-color: var(--fill-color);\n",
              "      border-top-color: var(--fill-color);\n",
              "      border-right-color: var(--fill-color);\n",
              "    }\n",
              "    40% {\n",
              "      border-color: transparent;\n",
              "      border-right-color: var(--fill-color);\n",
              "      border-top-color: var(--fill-color);\n",
              "    }\n",
              "    60% {\n",
              "      border-color: transparent;\n",
              "      border-right-color: var(--fill-color);\n",
              "    }\n",
              "    80% {\n",
              "      border-color: transparent;\n",
              "      border-right-color: var(--fill-color);\n",
              "      border-bottom-color: var(--fill-color);\n",
              "    }\n",
              "    90% {\n",
              "      border-color: transparent;\n",
              "      border-bottom-color: var(--fill-color);\n",
              "    }\n",
              "  }\n",
              "</style>\n",
              "\n",
              "  <script>\n",
              "    async function quickchart(key) {\n",
              "      const quickchartButtonEl =\n",
              "        document.querySelector('#' + key + ' button');\n",
              "      quickchartButtonEl.disabled = true;  // To prevent multiple clicks.\n",
              "      quickchartButtonEl.classList.add('colab-df-spinner');\n",
              "      try {\n",
              "        const charts = await google.colab.kernel.invokeFunction(\n",
              "            'suggestCharts', [key], {});\n",
              "      } catch (error) {\n",
              "        console.error('Error during call to suggestCharts:', error);\n",
              "      }\n",
              "      quickchartButtonEl.classList.remove('colab-df-spinner');\n",
              "      quickchartButtonEl.classList.add('colab-df-quickchart-complete');\n",
              "    }\n",
              "    (() => {\n",
              "      let quickchartButtonEl =\n",
              "        document.querySelector('#df-e1482b34-b994-456b-8bcd-4bff9ee53407 button');\n",
              "      quickchartButtonEl.style.display =\n",
              "        google.colab.kernel.accessAllowed ? 'block' : 'none';\n",
              "    })();\n",
              "  </script>\n",
              "</div>\n",
              "\n",
              "    </div>\n",
              "  </div>\n"
            ],
            "application/vnd.google.colaboratory.intrinsic+json": {
              "type": "dataframe",
              "variable_name": "df_tend_de_compras",
              "summary": "{\n  \"name\": \"df_tend_de_compras\",\n  \"rows\": 3900,\n  \"fields\": [\n    {\n      \"column\": \"Cliente_ID\",\n      \"properties\": {\n        \"dtype\": \"number\",\n        \"std\": 1125,\n        \"min\": 1,\n        \"max\": 3900,\n        \"num_unique_values\": 3900,\n        \"samples\": [\n          840,\n          1718,\n          322\n        ],\n        \"semantic_type\": \"\",\n        \"description\": \"\"\n      }\n    },\n    {\n      \"column\": \"Edad\",\n      \"properties\": {\n        \"dtype\": \"number\",\n        \"std\": 15,\n        \"min\": 18,\n        \"max\": 70,\n        \"num_unique_values\": 53,\n        \"samples\": [\n          56,\n          24,\n          51\n        ],\n        \"semantic_type\": \"\",\n        \"description\": \"\"\n      }\n    },\n    {\n      \"column\": \"Genero\",\n      \"properties\": {\n        \"dtype\": \"category\",\n        \"num_unique_values\": 2,\n        \"samples\": [\n          \"Mujer\",\n          \"Hombre\"\n        ],\n        \"semantic_type\": \"\",\n        \"description\": \"\"\n      }\n    },\n    {\n      \"column\": \"Articulo Comprado\",\n      \"properties\": {\n        \"dtype\": \"category\",\n        \"num_unique_values\": 25,\n        \"samples\": [\n          \"Bolso\",\n          \"Joyer\\u00eda\"\n        ],\n        \"semantic_type\": \"\",\n        \"description\": \"\"\n      }\n    },\n    {\n      \"column\": \"Categoria\",\n      \"properties\": {\n        \"dtype\": \"category\",\n        \"num_unique_values\": 4,\n        \"samples\": [\n          \"Calzado\",\n          \"Accesorios\"\n        ],\n        \"semantic_type\": \"\",\n        \"description\": \"\"\n      }\n    },\n    {\n      \"column\": \"Monto de compra (USD)\",\n      \"properties\": {\n        \"dtype\": \"number\",\n        \"std\": 23,\n        \"min\": 20,\n        \"max\": 100,\n        \"num_unique_values\": 81,\n        \"samples\": [\n          60,\n          53\n        ],\n        \"semantic_type\": \"\",\n        \"description\": \"\"\n      }\n    },\n    {\n      \"column\": \"Ciudad\",\n      \"properties\": {\n        \"dtype\": \"category\",\n        \"num_unique_values\": 50,\n        \"samples\": [\n          \"Nuevo Hampshire\",\n          \"Connecticut\"\n        ],\n        \"semantic_type\": \"\",\n        \"description\": \"\"\n      }\n    },\n    {\n      \"column\": \"Tama\\u00f1o\",\n      \"properties\": {\n        \"dtype\": \"category\",\n        \"num_unique_values\": 4,\n        \"samples\": [\n          \"S\",\n          \"XL\"\n        ],\n        \"semantic_type\": \"\",\n        \"description\": \"\"\n      }\n    },\n    {\n      \"column\": \"Color\",\n      \"properties\": {\n        \"dtype\": \"category\",\n        \"num_unique_values\": 24,\n        \"samples\": [\n          \"Aceituna\",\n          \"Rojo\"\n        ],\n        \"semantic_type\": \"\",\n        \"description\": \"\"\n      }\n    },\n    {\n      \"column\": \"Calificacion_cliente\",\n      \"properties\": {\n        \"dtype\": \"number\",\n        \"std\": 0.7162228139312449,\n        \"min\": 2.5,\n        \"max\": 5.0,\n        \"num_unique_values\": 26,\n        \"samples\": [\n          4.9,\n          5.0\n        ],\n        \"semantic_type\": \"\",\n        \"description\": \"\"\n      }\n    },\n    {\n      \"column\": \"Suscripcion\",\n      \"properties\": {\n        \"dtype\": \"category\",\n        \"num_unique_values\": 2,\n        \"samples\": [\n          \"No\",\n          \"Si\"\n        ],\n        \"semantic_type\": \"\",\n        \"description\": \"\"\n      }\n    },\n    {\n      \"column\": \"Envio\",\n      \"properties\": {\n        \"dtype\": \"category\",\n        \"num_unique_values\": 6,\n        \"samples\": [\n          \"Expres\",\n          \"Env\\u00edo Gratis\"\n        ],\n        \"semantic_type\": \"\",\n        \"description\": \"\"\n      }\n    },\n    {\n      \"column\": \"Descuento aplicado\",\n      \"properties\": {\n        \"dtype\": \"category\",\n        \"num_unique_values\": 2,\n        \"samples\": [\n          \"No\",\n          \"Si\"\n        ],\n        \"semantic_type\": \"\",\n        \"description\": \"\"\n      }\n    },\n    {\n      \"column\": \"Codigo promocional usado\",\n      \"properties\": {\n        \"dtype\": \"category\",\n        \"num_unique_values\": 2,\n        \"samples\": [\n          \"No\",\n          \"Si\"\n        ],\n        \"semantic_type\": \"\",\n        \"description\": \"\"\n      }\n    },\n    {\n      \"column\": \"Compas anteriores\",\n      \"properties\": {\n        \"dtype\": \"number\",\n        \"std\": 14,\n        \"min\": 1,\n        \"max\": 50,\n        \"num_unique_values\": 50,\n        \"samples\": [\n          36,\n          47\n        ],\n        \"semantic_type\": \"\",\n        \"description\": \"\"\n      }\n    },\n    {\n      \"column\": \"Metodo de pago\",\n      \"properties\": {\n        \"dtype\": \"category\",\n        \"num_unique_values\": 6,\n        \"samples\": [\n          \"Venmo\",\n          \"Efectivo\"\n        ],\n        \"semantic_type\": \"\",\n        \"description\": \"\"\n      }\n    },\n    {\n      \"column\": \"Frecuencia de compras\",\n      \"properties\": {\n        \"dtype\": \"category\",\n        \"num_unique_values\": 5,\n        \"samples\": [\n          \"Semanal\",\n          \"Mensual\"\n        ],\n        \"semantic_type\": \"\",\n        \"description\": \"\"\n      }\n    }\n  ]\n}"
            }
          },
          "metadata": {},
          "execution_count": 4
        }
      ]
    },
    {
      "cell_type": "markdown",
      "source": [
        "2) Cantidad de registros y cantidad de columnas"
      ],
      "metadata": {
        "id": "hCoDSwi4moU-"
      }
    },
    {
      "cell_type": "code",
      "source": [
        "df_tend_de_compras.shape"
      ],
      "metadata": {
        "colab": {
          "base_uri": "https://localhost:8080/"
        },
        "id": "be4LYNaOdB4u",
        "outputId": "0cf2c150-2600-4038-b4b5-948d9d9377d2"
      },
      "execution_count": 5,
      "outputs": [
        {
          "output_type": "execute_result",
          "data": {
            "text/plain": [
              "(3900, 16)"
            ]
          },
          "metadata": {},
          "execution_count": 5
        }
      ]
    },
    {
      "cell_type": "markdown",
      "source": [
        "3) Tipos de datos en cada columna"
      ],
      "metadata": {
        "id": "C2lFK2NtmnOG"
      }
    },
    {
      "cell_type": "code",
      "source": [
        "# Tipos de datos de las columnas\n",
        "print(df_tend_de_compras.dtypes)"
      ],
      "metadata": {
        "colab": {
          "base_uri": "https://localhost:8080/"
        },
        "id": "bTmGK5D2davd",
        "outputId": "fa16b2ac-6f3a-49b3-806e-37d8e8fed699"
      },
      "execution_count": 6,
      "outputs": [
        {
          "output_type": "stream",
          "name": "stdout",
          "text": [
            "Edad                          int64\n",
            "Genero                       object\n",
            "Articulo Comprado            object\n",
            "Categoria                    object\n",
            "Monto de compra (USD)         int64\n",
            "Ciudad                       object\n",
            "Tamaño                       object\n",
            "Color                        object\n",
            "Calificacion_cliente        float64\n",
            "Suscripcion                  object\n",
            "Envio                        object\n",
            "Descuento aplicado           object\n",
            "Codigo promocional usado     object\n",
            "Compas anteriores             int64\n",
            "Metodo de pago               object\n",
            "Frecuencia de compras        object\n",
            "dtype: object\n"
          ]
        }
      ]
    },
    {
      "cell_type": "markdown",
      "source": [
        "4) Verificar si hay datos nulos"
      ],
      "metadata": {
        "id": "F2sVatKsnQ0G"
      }
    },
    {
      "cell_type": "code",
      "source": [
        "df_tend_de_compras.isnull().sum()"
      ],
      "metadata": {
        "colab": {
          "base_uri": "https://localhost:8080/",
          "height": 586
        },
        "id": "v5MbRVT_lbnQ",
        "outputId": "7d6c9fd0-709e-42b3-f3ec-ba84415c8d9c"
      },
      "execution_count": 7,
      "outputs": [
        {
          "output_type": "execute_result",
          "data": {
            "text/plain": [
              "Edad                        0\n",
              "Genero                      0\n",
              "Articulo Comprado           0\n",
              "Categoria                   0\n",
              "Monto de compra (USD)       0\n",
              "Ciudad                      0\n",
              "Tamaño                      0\n",
              "Color                       0\n",
              "Calificacion_cliente        0\n",
              "Suscripcion                 0\n",
              "Envio                       0\n",
              "Descuento aplicado          0\n",
              "Codigo promocional usado    0\n",
              "Compas anteriores           0\n",
              "Metodo de pago              0\n",
              "Frecuencia de compras       0\n",
              "dtype: int64"
            ],
            "text/html": [
              "<div>\n",
              "<style scoped>\n",
              "    .dataframe tbody tr th:only-of-type {\n",
              "        vertical-align: middle;\n",
              "    }\n",
              "\n",
              "    .dataframe tbody tr th {\n",
              "        vertical-align: top;\n",
              "    }\n",
              "\n",
              "    .dataframe thead th {\n",
              "        text-align: right;\n",
              "    }\n",
              "</style>\n",
              "<table border=\"1\" class=\"dataframe\">\n",
              "  <thead>\n",
              "    <tr style=\"text-align: right;\">\n",
              "      <th></th>\n",
              "      <th>0</th>\n",
              "    </tr>\n",
              "  </thead>\n",
              "  <tbody>\n",
              "    <tr>\n",
              "      <th>Edad</th>\n",
              "      <td>0</td>\n",
              "    </tr>\n",
              "    <tr>\n",
              "      <th>Genero</th>\n",
              "      <td>0</td>\n",
              "    </tr>\n",
              "    <tr>\n",
              "      <th>Articulo Comprado</th>\n",
              "      <td>0</td>\n",
              "    </tr>\n",
              "    <tr>\n",
              "      <th>Categoria</th>\n",
              "      <td>0</td>\n",
              "    </tr>\n",
              "    <tr>\n",
              "      <th>Monto de compra (USD)</th>\n",
              "      <td>0</td>\n",
              "    </tr>\n",
              "    <tr>\n",
              "      <th>Ciudad</th>\n",
              "      <td>0</td>\n",
              "    </tr>\n",
              "    <tr>\n",
              "      <th>Tamaño</th>\n",
              "      <td>0</td>\n",
              "    </tr>\n",
              "    <tr>\n",
              "      <th>Color</th>\n",
              "      <td>0</td>\n",
              "    </tr>\n",
              "    <tr>\n",
              "      <th>Calificacion_cliente</th>\n",
              "      <td>0</td>\n",
              "    </tr>\n",
              "    <tr>\n",
              "      <th>Suscripcion</th>\n",
              "      <td>0</td>\n",
              "    </tr>\n",
              "    <tr>\n",
              "      <th>Envio</th>\n",
              "      <td>0</td>\n",
              "    </tr>\n",
              "    <tr>\n",
              "      <th>Descuento aplicado</th>\n",
              "      <td>0</td>\n",
              "    </tr>\n",
              "    <tr>\n",
              "      <th>Codigo promocional usado</th>\n",
              "      <td>0</td>\n",
              "    </tr>\n",
              "    <tr>\n",
              "      <th>Compas anteriores</th>\n",
              "      <td>0</td>\n",
              "    </tr>\n",
              "    <tr>\n",
              "      <th>Metodo de pago</th>\n",
              "      <td>0</td>\n",
              "    </tr>\n",
              "    <tr>\n",
              "      <th>Frecuencia de compras</th>\n",
              "      <td>0</td>\n",
              "    </tr>\n",
              "  </tbody>\n",
              "</table>\n",
              "</div><br><label><b>dtype:</b> int64</label>"
            ]
          },
          "metadata": {},
          "execution_count": 7
        }
      ]
    },
    {
      "cell_type": "markdown",
      "source": [
        "5) Verificar si hay datos duplicados"
      ],
      "metadata": {
        "id": "IEJQrg7prP8E"
      }
    },
    {
      "cell_type": "code",
      "source": [
        "df_tend_de_compras.duplicated().sum()"
      ],
      "metadata": {
        "colab": {
          "base_uri": "https://localhost:8080/"
        },
        "id": "4N-w26I8nbOO",
        "outputId": "2b0734a6-5571-43aa-c22c-a7151f62e849"
      },
      "execution_count": 8,
      "outputs": [
        {
          "output_type": "execute_result",
          "data": {
            "text/plain": [
              "0"
            ]
          },
          "metadata": {},
          "execution_count": 8
        }
      ]
    },
    {
      "cell_type": "markdown",
      "source": [
        "6) Analisis estadistico:\n",
        "\n",
        "**Count** (El número de valores no nulos en la columna)\n",
        "\n",
        "**Mean** (La media aritmética de la columna)\n",
        "\n",
        "**Std** (La desviación estándar de la columna)\n",
        "\n",
        "**Min** (El valor mínimo en la columna)\n",
        "\n",
        "**25%** (El primer cuartil (percentil 25) de la columna)\n",
        "\n",
        "**50%** (La mediana (percentil 50) de la columna)\n",
        "\n",
        "**75%** (El tercer cuartil (percentil 75) de la columna)\n",
        "\n",
        "**Max** (El valor máximo en la columna)"
      ],
      "metadata": {
        "id": "7St5mc0orU7b"
      }
    },
    {
      "cell_type": "code",
      "source": [
        "df_tend_de_compras.describe().T"
      ],
      "metadata": {
        "colab": {
          "base_uri": "https://localhost:8080/",
          "height": 175
        },
        "id": "kpGfZE5rr0zj",
        "outputId": "509c4cd4-4f84-4719-f97c-d4489de5d3a3"
      },
      "execution_count": 9,
      "outputs": [
        {
          "output_type": "execute_result",
          "data": {
            "text/plain": [
              "                        count       mean        std   min   25%   50%   75%  \\\n",
              "Edad                   3900.0  44.068462  15.207589  18.0  31.0  44.0  57.0   \n",
              "Monto de compra (USD)  3900.0  59.764359  23.685392  20.0  39.0  60.0  81.0   \n",
              "Calificacion_cliente   3900.0   3.749949   0.716223   2.5   3.1   3.7   4.4   \n",
              "Compas anteriores      3900.0  25.351538  14.447125   1.0  13.0  25.0  38.0   \n",
              "\n",
              "                         max  \n",
              "Edad                    70.0  \n",
              "Monto de compra (USD)  100.0  \n",
              "Calificacion_cliente     5.0  \n",
              "Compas anteriores       50.0  "
            ],
            "text/html": [
              "\n",
              "  <div id=\"df-cb00793d-1ba5-4015-8de6-83743bc76954\" class=\"colab-df-container\">\n",
              "    <div>\n",
              "<style scoped>\n",
              "    .dataframe tbody tr th:only-of-type {\n",
              "        vertical-align: middle;\n",
              "    }\n",
              "\n",
              "    .dataframe tbody tr th {\n",
              "        vertical-align: top;\n",
              "    }\n",
              "\n",
              "    .dataframe thead th {\n",
              "        text-align: right;\n",
              "    }\n",
              "</style>\n",
              "<table border=\"1\" class=\"dataframe\">\n",
              "  <thead>\n",
              "    <tr style=\"text-align: right;\">\n",
              "      <th></th>\n",
              "      <th>count</th>\n",
              "      <th>mean</th>\n",
              "      <th>std</th>\n",
              "      <th>min</th>\n",
              "      <th>25%</th>\n",
              "      <th>50%</th>\n",
              "      <th>75%</th>\n",
              "      <th>max</th>\n",
              "    </tr>\n",
              "  </thead>\n",
              "  <tbody>\n",
              "    <tr>\n",
              "      <th>Edad</th>\n",
              "      <td>3900.0</td>\n",
              "      <td>44.068462</td>\n",
              "      <td>15.207589</td>\n",
              "      <td>18.0</td>\n",
              "      <td>31.0</td>\n",
              "      <td>44.0</td>\n",
              "      <td>57.0</td>\n",
              "      <td>70.0</td>\n",
              "    </tr>\n",
              "    <tr>\n",
              "      <th>Monto de compra (USD)</th>\n",
              "      <td>3900.0</td>\n",
              "      <td>59.764359</td>\n",
              "      <td>23.685392</td>\n",
              "      <td>20.0</td>\n",
              "      <td>39.0</td>\n",
              "      <td>60.0</td>\n",
              "      <td>81.0</td>\n",
              "      <td>100.0</td>\n",
              "    </tr>\n",
              "    <tr>\n",
              "      <th>Calificacion_cliente</th>\n",
              "      <td>3900.0</td>\n",
              "      <td>3.749949</td>\n",
              "      <td>0.716223</td>\n",
              "      <td>2.5</td>\n",
              "      <td>3.1</td>\n",
              "      <td>3.7</td>\n",
              "      <td>4.4</td>\n",
              "      <td>5.0</td>\n",
              "    </tr>\n",
              "    <tr>\n",
              "      <th>Compas anteriores</th>\n",
              "      <td>3900.0</td>\n",
              "      <td>25.351538</td>\n",
              "      <td>14.447125</td>\n",
              "      <td>1.0</td>\n",
              "      <td>13.0</td>\n",
              "      <td>25.0</td>\n",
              "      <td>38.0</td>\n",
              "      <td>50.0</td>\n",
              "    </tr>\n",
              "  </tbody>\n",
              "</table>\n",
              "</div>\n",
              "    <div class=\"colab-df-buttons\">\n",
              "\n",
              "  <div class=\"colab-df-container\">\n",
              "    <button class=\"colab-df-convert\" onclick=\"convertToInteractive('df-cb00793d-1ba5-4015-8de6-83743bc76954')\"\n",
              "            title=\"Convert this dataframe to an interactive table.\"\n",
              "            style=\"display:none;\">\n",
              "\n",
              "  <svg xmlns=\"http://www.w3.org/2000/svg\" height=\"24px\" viewBox=\"0 -960 960 960\">\n",
              "    <path d=\"M120-120v-720h720v720H120Zm60-500h600v-160H180v160Zm220 220h160v-160H400v160Zm0 220h160v-160H400v160ZM180-400h160v-160H180v160Zm440 0h160v-160H620v160ZM180-180h160v-160H180v160Zm440 0h160v-160H620v160Z\"/>\n",
              "  </svg>\n",
              "    </button>\n",
              "\n",
              "  <style>\n",
              "    .colab-df-container {\n",
              "      display:flex;\n",
              "      gap: 12px;\n",
              "    }\n",
              "\n",
              "    .colab-df-convert {\n",
              "      background-color: #E8F0FE;\n",
              "      border: none;\n",
              "      border-radius: 50%;\n",
              "      cursor: pointer;\n",
              "      display: none;\n",
              "      fill: #1967D2;\n",
              "      height: 32px;\n",
              "      padding: 0 0 0 0;\n",
              "      width: 32px;\n",
              "    }\n",
              "\n",
              "    .colab-df-convert:hover {\n",
              "      background-color: #E2EBFA;\n",
              "      box-shadow: 0px 1px 2px rgba(60, 64, 67, 0.3), 0px 1px 3px 1px rgba(60, 64, 67, 0.15);\n",
              "      fill: #174EA6;\n",
              "    }\n",
              "\n",
              "    .colab-df-buttons div {\n",
              "      margin-bottom: 4px;\n",
              "    }\n",
              "\n",
              "    [theme=dark] .colab-df-convert {\n",
              "      background-color: #3B4455;\n",
              "      fill: #D2E3FC;\n",
              "    }\n",
              "\n",
              "    [theme=dark] .colab-df-convert:hover {\n",
              "      background-color: #434B5C;\n",
              "      box-shadow: 0px 1px 3px 1px rgba(0, 0, 0, 0.15);\n",
              "      filter: drop-shadow(0px 1px 2px rgba(0, 0, 0, 0.3));\n",
              "      fill: #FFFFFF;\n",
              "    }\n",
              "  </style>\n",
              "\n",
              "    <script>\n",
              "      const buttonEl =\n",
              "        document.querySelector('#df-cb00793d-1ba5-4015-8de6-83743bc76954 button.colab-df-convert');\n",
              "      buttonEl.style.display =\n",
              "        google.colab.kernel.accessAllowed ? 'block' : 'none';\n",
              "\n",
              "      async function convertToInteractive(key) {\n",
              "        const element = document.querySelector('#df-cb00793d-1ba5-4015-8de6-83743bc76954');\n",
              "        const dataTable =\n",
              "          await google.colab.kernel.invokeFunction('convertToInteractive',\n",
              "                                                    [key], {});\n",
              "        if (!dataTable) return;\n",
              "\n",
              "        const docLinkHtml = 'Like what you see? Visit the ' +\n",
              "          '<a target=\"_blank\" href=https://colab.research.google.com/notebooks/data_table.ipynb>data table notebook</a>'\n",
              "          + ' to learn more about interactive tables.';\n",
              "        element.innerHTML = '';\n",
              "        dataTable['output_type'] = 'display_data';\n",
              "        await google.colab.output.renderOutput(dataTable, element);\n",
              "        const docLink = document.createElement('div');\n",
              "        docLink.innerHTML = docLinkHtml;\n",
              "        element.appendChild(docLink);\n",
              "      }\n",
              "    </script>\n",
              "  </div>\n",
              "\n",
              "\n",
              "<div id=\"df-1864c796-535b-458d-bf28-0a8a29acd0cf\">\n",
              "  <button class=\"colab-df-quickchart\" onclick=\"quickchart('df-1864c796-535b-458d-bf28-0a8a29acd0cf')\"\n",
              "            title=\"Suggest charts\"\n",
              "            style=\"display:none;\">\n",
              "\n",
              "<svg xmlns=\"http://www.w3.org/2000/svg\" height=\"24px\"viewBox=\"0 0 24 24\"\n",
              "     width=\"24px\">\n",
              "    <g>\n",
              "        <path d=\"M19 3H5c-1.1 0-2 .9-2 2v14c0 1.1.9 2 2 2h14c1.1 0 2-.9 2-2V5c0-1.1-.9-2-2-2zM9 17H7v-7h2v7zm4 0h-2V7h2v10zm4 0h-2v-4h2v4z\"/>\n",
              "    </g>\n",
              "</svg>\n",
              "  </button>\n",
              "\n",
              "<style>\n",
              "  .colab-df-quickchart {\n",
              "      --bg-color: #E8F0FE;\n",
              "      --fill-color: #1967D2;\n",
              "      --hover-bg-color: #E2EBFA;\n",
              "      --hover-fill-color: #174EA6;\n",
              "      --disabled-fill-color: #AAA;\n",
              "      --disabled-bg-color: #DDD;\n",
              "  }\n",
              "\n",
              "  [theme=dark] .colab-df-quickchart {\n",
              "      --bg-color: #3B4455;\n",
              "      --fill-color: #D2E3FC;\n",
              "      --hover-bg-color: #434B5C;\n",
              "      --hover-fill-color: #FFFFFF;\n",
              "      --disabled-bg-color: #3B4455;\n",
              "      --disabled-fill-color: #666;\n",
              "  }\n",
              "\n",
              "  .colab-df-quickchart {\n",
              "    background-color: var(--bg-color);\n",
              "    border: none;\n",
              "    border-radius: 50%;\n",
              "    cursor: pointer;\n",
              "    display: none;\n",
              "    fill: var(--fill-color);\n",
              "    height: 32px;\n",
              "    padding: 0;\n",
              "    width: 32px;\n",
              "  }\n",
              "\n",
              "  .colab-df-quickchart:hover {\n",
              "    background-color: var(--hover-bg-color);\n",
              "    box-shadow: 0 1px 2px rgba(60, 64, 67, 0.3), 0 1px 3px 1px rgba(60, 64, 67, 0.15);\n",
              "    fill: var(--button-hover-fill-color);\n",
              "  }\n",
              "\n",
              "  .colab-df-quickchart-complete:disabled,\n",
              "  .colab-df-quickchart-complete:disabled:hover {\n",
              "    background-color: var(--disabled-bg-color);\n",
              "    fill: var(--disabled-fill-color);\n",
              "    box-shadow: none;\n",
              "  }\n",
              "\n",
              "  .colab-df-spinner {\n",
              "    border: 2px solid var(--fill-color);\n",
              "    border-color: transparent;\n",
              "    border-bottom-color: var(--fill-color);\n",
              "    animation:\n",
              "      spin 1s steps(1) infinite;\n",
              "  }\n",
              "\n",
              "  @keyframes spin {\n",
              "    0% {\n",
              "      border-color: transparent;\n",
              "      border-bottom-color: var(--fill-color);\n",
              "      border-left-color: var(--fill-color);\n",
              "    }\n",
              "    20% {\n",
              "      border-color: transparent;\n",
              "      border-left-color: var(--fill-color);\n",
              "      border-top-color: var(--fill-color);\n",
              "    }\n",
              "    30% {\n",
              "      border-color: transparent;\n",
              "      border-left-color: var(--fill-color);\n",
              "      border-top-color: var(--fill-color);\n",
              "      border-right-color: var(--fill-color);\n",
              "    }\n",
              "    40% {\n",
              "      border-color: transparent;\n",
              "      border-right-color: var(--fill-color);\n",
              "      border-top-color: var(--fill-color);\n",
              "    }\n",
              "    60% {\n",
              "      border-color: transparent;\n",
              "      border-right-color: var(--fill-color);\n",
              "    }\n",
              "    80% {\n",
              "      border-color: transparent;\n",
              "      border-right-color: var(--fill-color);\n",
              "      border-bottom-color: var(--fill-color);\n",
              "    }\n",
              "    90% {\n",
              "      border-color: transparent;\n",
              "      border-bottom-color: var(--fill-color);\n",
              "    }\n",
              "  }\n",
              "</style>\n",
              "\n",
              "  <script>\n",
              "    async function quickchart(key) {\n",
              "      const quickchartButtonEl =\n",
              "        document.querySelector('#' + key + ' button');\n",
              "      quickchartButtonEl.disabled = true;  // To prevent multiple clicks.\n",
              "      quickchartButtonEl.classList.add('colab-df-spinner');\n",
              "      try {\n",
              "        const charts = await google.colab.kernel.invokeFunction(\n",
              "            'suggestCharts', [key], {});\n",
              "      } catch (error) {\n",
              "        console.error('Error during call to suggestCharts:', error);\n",
              "      }\n",
              "      quickchartButtonEl.classList.remove('colab-df-spinner');\n",
              "      quickchartButtonEl.classList.add('colab-df-quickchart-complete');\n",
              "    }\n",
              "    (() => {\n",
              "      let quickchartButtonEl =\n",
              "        document.querySelector('#df-1864c796-535b-458d-bf28-0a8a29acd0cf button');\n",
              "      quickchartButtonEl.style.display =\n",
              "        google.colab.kernel.accessAllowed ? 'block' : 'none';\n",
              "    })();\n",
              "  </script>\n",
              "</div>\n",
              "\n",
              "    </div>\n",
              "  </div>\n"
            ],
            "application/vnd.google.colaboratory.intrinsic+json": {
              "type": "dataframe",
              "summary": "{\n  \"name\": \"df_tend_de_compras\",\n  \"rows\": 4,\n  \"fields\": [\n    {\n      \"column\": \"count\",\n      \"properties\": {\n        \"dtype\": \"number\",\n        \"std\": 0.0,\n        \"min\": 3900.0,\n        \"max\": 3900.0,\n        \"num_unique_values\": 1,\n        \"samples\": [\n          3900.0\n        ],\n        \"semantic_type\": \"\",\n        \"description\": \"\"\n      }\n    },\n    {\n      \"column\": \"mean\",\n      \"properties\": {\n        \"dtype\": \"number\",\n        \"std\": 24.170836306926653,\n        \"min\": 3.7499487179487176,\n        \"max\": 59.76435897435898,\n        \"num_unique_values\": 4,\n        \"samples\": [\n          59.76435897435898\n        ],\n        \"semantic_type\": \"\",\n        \"description\": \"\"\n      }\n    },\n    {\n      \"column\": \"std\",\n      \"properties\": {\n        \"dtype\": \"number\",\n        \"std\": 9.504021743691833,\n        \"min\": 0.7162228139312449,\n        \"max\": 23.685392250875307,\n        \"num_unique_values\": 4,\n        \"samples\": [\n          23.685392250875307\n        ],\n        \"semantic_type\": \"\",\n        \"description\": \"\"\n      }\n    },\n    {\n      \"column\": \"min\",\n      \"properties\": {\n        \"dtype\": \"number\",\n        \"std\": 10.011451776174455,\n        \"min\": 1.0,\n        \"max\": 20.0,\n        \"num_unique_values\": 4,\n        \"samples\": [\n          20.0\n        ],\n        \"semantic_type\": \"\",\n        \"description\": \"\"\n      }\n    },\n    {\n      \"column\": \"25%\",\n      \"properties\": {\n        \"dtype\": \"number\",\n        \"std\": 16.404343936896716,\n        \"min\": 3.1,\n        \"max\": 39.0,\n        \"num_unique_values\": 4,\n        \"samples\": [\n          39.0\n        ],\n        \"semantic_type\": \"\",\n        \"description\": \"\"\n      }\n    },\n    {\n      \"column\": \"50%\",\n      \"properties\": {\n        \"dtype\": \"number\",\n        \"std\": 24.306154913245056,\n        \"min\": 3.7,\n        \"max\": 60.0,\n        \"num_unique_values\": 4,\n        \"samples\": [\n          60.0\n        ],\n        \"semantic_type\": \"\",\n        \"description\": \"\"\n      }\n    },\n    {\n      \"column\": \"75%\",\n      \"properties\": {\n        \"dtype\": \"number\",\n        \"std\": 32.33841884405194,\n        \"min\": 4.4,\n        \"max\": 81.0,\n        \"num_unique_values\": 4,\n        \"samples\": [\n          81.0\n        ],\n        \"semantic_type\": \"\",\n        \"description\": \"\"\n      }\n    },\n    {\n      \"column\": \"max\",\n      \"properties\": {\n        \"dtype\": \"number\",\n        \"std\": 39.869579046352285,\n        \"min\": 5.0,\n        \"max\": 100.0,\n        \"num_unique_values\": 4,\n        \"samples\": [\n          100.0\n        ],\n        \"semantic_type\": \"\",\n        \"description\": \"\"\n      }\n    }\n  ]\n}"
            }
          },
          "metadata": {},
          "execution_count": 9
        }
      ]
    },
    {
      "cell_type": "markdown",
      "source": [
        "7) Exploración detallada de las columnas no numéricas\n",
        "\n",
        "**Contar la cantidad de valores únicos:** Identifica la diversidad de valores dentro de cada columna\n",
        "\n",
        "**Analizar la frecuencia de cada valor:** Permite detectar valores atípicos o patrones recurrentes"
      ],
      "metadata": {
        "id": "wWD38HeH09TH"
      }
    },
    {
      "cell_type": "markdown",
      "source": [
        "*a) Articulos comprados*\n",
        "\n",
        "\n"
      ],
      "metadata": {
        "id": "DkxsUhRr2x_e"
      }
    },
    {
      "cell_type": "code",
      "source": [
        "print(f\"Cantidad de articulos diferentes: {df_tend_de_compras['Articulo Comprado'].nunique()}\")\n"
      ],
      "metadata": {
        "colab": {
          "base_uri": "https://localhost:8080/"
        },
        "id": "HmW7ia10r8Rz",
        "outputId": "457839d3-820d-46ec-db88-830e81e92bf7"
      },
      "execution_count": 10,
      "outputs": [
        {
          "output_type": "stream",
          "name": "stdout",
          "text": [
            "Cantidad de articulos diferentes: 25\n"
          ]
        }
      ]
    },
    {
      "cell_type": "code",
      "source": [
        "print(f\"Cantidad de valores por articulo: {df_tend_de_compras['Articulo Comprado'].value_counts()}\")"
      ],
      "metadata": {
        "colab": {
          "base_uri": "https://localhost:8080/"
        },
        "id": "KJMPh9yp1xjG",
        "outputId": "b31c7f1b-13be-407b-a46d-717f408587b5"
      },
      "execution_count": 11,
      "outputs": [
        {
          "output_type": "stream",
          "name": "stdout",
          "text": [
            "Cantidad de valores por articulo: Articulo Comprado\n",
            "Blusa                   171\n",
            "Joyería                 171\n",
            "Pantalón                171\n",
            "Camisa                  169\n",
            "Vestido                 166\n",
            "Suéter                  164\n",
            "Chaqueta                163\n",
            "Cinturón                161\n",
            "Gafas de sol            161\n",
            "Abrigo                  161\n",
            "Sandalias               160\n",
            "Calcetines              159\n",
            "Falda                   158\n",
            "Shorts                  157\n",
            "Bufanda                 157\n",
            "Tiene                   154\n",
            "Bolso                   153\n",
            "Sudadera con capucha    151\n",
            "Calzado                 150\n",
            "Camiseta                147\n",
            "Zapatos deportivos      145\n",
            "Botas                   144\n",
            "Mochila                 143\n",
            "Guantes                 140\n",
            "Vaqueros                124\n",
            "Name: count, dtype: int64\n"
          ]
        }
      ]
    },
    {
      "cell_type": "markdown",
      "source": [
        "*b) Categoria*"
      ],
      "metadata": {
        "id": "JZ3TXFLc3Lc-"
      }
    },
    {
      "cell_type": "code",
      "source": [
        "print(f\"Cantidad de categorias diferentes: {df_tend_de_compras['Categoria'].nunique()}\")"
      ],
      "metadata": {
        "colab": {
          "base_uri": "https://localhost:8080/"
        },
        "id": "AVbwghVZ3QoN",
        "outputId": "57ea9f0f-b6fa-4dc4-beea-af85af24f6d6"
      },
      "execution_count": 12,
      "outputs": [
        {
          "output_type": "stream",
          "name": "stdout",
          "text": [
            "Cantidad de categorias diferentes: 4\n"
          ]
        }
      ]
    },
    {
      "cell_type": "code",
      "source": [
        "print(f\"Cantidad de valores por categoria: {df_tend_de_compras['Categoria'].value_counts()}\")"
      ],
      "metadata": {
        "colab": {
          "base_uri": "https://localhost:8080/"
        },
        "id": "BDjmxG953bTO",
        "outputId": "c154503a-6d5f-4eb4-c397-b36e89766c08"
      },
      "execution_count": 13,
      "outputs": [
        {
          "output_type": "stream",
          "name": "stdout",
          "text": [
            "Cantidad de valores por categoria: Categoria\n",
            "Ropa          1737\n",
            "Accesorios    1240\n",
            "Calzado        599\n",
            "Abrigos        324\n",
            "Name: count, dtype: int64\n"
          ]
        }
      ]
    },
    {
      "cell_type": "markdown",
      "source": [
        "*c) Ciudad*"
      ],
      "metadata": {
        "id": "UJqDfPpW3qpO"
      }
    },
    {
      "cell_type": "code",
      "source": [
        "print(f\"Cantidad de ciudades diferentes: {df_tend_de_compras['Ciudad'].nunique()}\")"
      ],
      "metadata": {
        "colab": {
          "base_uri": "https://localhost:8080/"
        },
        "id": "E9Y4WA-R3k2W",
        "outputId": "a94e15a4-7a35-4b6f-f631-f8033a474d6b"
      },
      "execution_count": null,
      "outputs": [
        {
          "output_type": "stream",
          "name": "stdout",
          "text": [
            "Cantidad de ciudades diferentes: 50\n"
          ]
        }
      ]
    },
    {
      "cell_type": "code",
      "source": [
        "print(f\"Cantidad de valores por ciudad: {df_tend_de_compras['Ciudad'].value_counts()}\")"
      ],
      "metadata": {
        "colab": {
          "base_uri": "https://localhost:8080/"
        },
        "id": "WcmRDnfd36B1",
        "outputId": "2e920729-5411-406d-86c1-97ffd7b66a87"
      },
      "execution_count": null,
      "outputs": [
        {
          "output_type": "stream",
          "name": "stdout",
          "text": [
            "Cantidad de valores por ciudad: Ciudad\n",
            "Montana                96\n",
            "California             95\n",
            "Idaho                  93\n",
            "Illinois               92\n",
            "Alabama                89\n",
            "Minnesota              88\n",
            "Nebraska               87\n",
            "Nueva York             87\n",
            "Nevada                 87\n",
            "Maryland               86\n",
            "Delaware               86\n",
            "Vermont                85\n",
            "Luisiana               84\n",
            "Dakota del Norte       83\n",
            "Misuri                 81\n",
            "Virginia Occidental    81\n",
            "Nuevo México           81\n",
            "Misisipi               80\n",
            "Indiana                79\n",
            "Georgia                79\n",
            "Kentucky               79\n",
            "Arkansas               79\n",
            "Carolina del Norte     78\n",
            "Connecticut            78\n",
            "Virginia               77\n",
            "Ohio                   77\n",
            "Tennessee              77\n",
            "Texas                  77\n",
            "Maine                  77\n",
            "Carolina del Sur       76\n",
            "Colorado               75\n",
            "Oklahoma               75\n",
            "Wisconsin              75\n",
            "Oregón                 74\n",
            "Pensilvania            74\n",
            "Washington             73\n",
            "Míchigan               73\n",
            "Alaska                 72\n",
            "Massachusetts          72\n",
            "Wyoming                71\n",
            "Utah                   71\n",
            "Nuevo Hampshire        71\n",
            "Dakota del Sur         70\n",
            "Iowa                   69\n",
            "Florida                68\n",
            "New Jersey             67\n",
            "Hawai                  65\n",
            "Arizona                65\n",
            "Kansas                 63\n",
            "Rhode Island           63\n",
            "Name: count, dtype: int64\n"
          ]
        }
      ]
    },
    {
      "cell_type": "markdown",
      "source": [
        "*d) Tamaño*"
      ],
      "metadata": {
        "id": "LZHs_8a74IxO"
      }
    },
    {
      "cell_type": "code",
      "source": [
        "print(f\"Cantidad de tamaños diferentes de cada articulo: {df_tend_de_compras['Tamaño'].nunique()}\")"
      ],
      "metadata": {
        "colab": {
          "base_uri": "https://localhost:8080/"
        },
        "id": "nocYOrgX4AxF",
        "outputId": "fd0afed8-4d61-49b5-897f-27f63d5ccd29"
      },
      "execution_count": null,
      "outputs": [
        {
          "output_type": "stream",
          "name": "stdout",
          "text": [
            "Cantidad de tamaños diferentes de cada articulo: 4\n"
          ]
        }
      ]
    },
    {
      "cell_type": "code",
      "source": [
        "print(f\"Cantidad de valores por tamaño: {df_tend_de_compras['Tamaño'].value_counts()}\")"
      ],
      "metadata": {
        "colab": {
          "base_uri": "https://localhost:8080/"
        },
        "id": "Nl4hl4J24mcO",
        "outputId": "961120b4-e23e-41b5-9f4a-68b1f29e07f1"
      },
      "execution_count": null,
      "outputs": [
        {
          "output_type": "stream",
          "name": "stdout",
          "text": [
            "Cantidad de valores por tamaño: Tamaño\n",
            "M     1755\n",
            "L     1053\n",
            "S      663\n",
            "XL     429\n",
            "Name: count, dtype: int64\n"
          ]
        }
      ]
    },
    {
      "cell_type": "markdown",
      "source": [
        "*e) Color*"
      ],
      "metadata": {
        "id": "tKqzH91Y4xal"
      }
    },
    {
      "cell_type": "code",
      "source": [
        "print(f\"Cantidad de colores difernetes: {df_tend_de_compras['Color'].nunique()}\")"
      ],
      "metadata": {
        "colab": {
          "base_uri": "https://localhost:8080/"
        },
        "id": "rti7VyfE4rD8",
        "outputId": "fa9bf54c-b94f-42b8-d71e-da44bb36d096"
      },
      "execution_count": null,
      "outputs": [
        {
          "output_type": "stream",
          "name": "stdout",
          "text": [
            "Cantidad de colores difernetes: 24\n"
          ]
        }
      ]
    },
    {
      "cell_type": "code",
      "source": [
        "print(f\"Cantidad de valores por color: {df_tend_de_compras['Color'].value_counts()}\")"
      ],
      "metadata": {
        "colab": {
          "base_uri": "https://localhost:8080/"
        },
        "id": "PKEhwm-T452M",
        "outputId": "73019431-7686-4c2e-9c08-582b722bd001"
      },
      "execution_count": null,
      "outputs": [
        {
          "output_type": "stream",
          "name": "stdout",
          "text": [
            "Cantidad de valores por color: Color\n",
            "Marrón       299\n",
            "Aceituna     177\n",
            "Amarillo     174\n",
            "Plata        173\n",
            "Cerceta      172\n",
            "Verde        169\n",
            "Negro        167\n",
            "Cian         166\n",
            "Violeta      166\n",
            "Gris         159\n",
            "Naranja      154\n",
            "Carbón       153\n",
            "Rosado       153\n",
            "Magenta      152\n",
            "Azul         152\n",
            "Morado       151\n",
            "Melocotón    149\n",
            "Rojo         148\n",
            "Beige        147\n",
            "Añil         147\n",
            "Lavanda      147\n",
            "Turquesa     145\n",
            "Blanco       142\n",
            "Oro          138\n",
            "Name: count, dtype: int64\n"
          ]
        }
      ]
    },
    {
      "cell_type": "markdown",
      "source": [
        "*f) Envio*"
      ],
      "metadata": {
        "id": "ehWUbQTN5iGF"
      }
    },
    {
      "cell_type": "code",
      "source": [
        "print(f\"Tipos de envios difernetes: {df_tend_de_compras['Envio'].nunique()}\")"
      ],
      "metadata": {
        "colab": {
          "base_uri": "https://localhost:8080/"
        },
        "id": "j-3oN1rO49As",
        "outputId": "f27d8e9d-037a-4959-c2f2-07eb893b3484"
      },
      "execution_count": null,
      "outputs": [
        {
          "output_type": "stream",
          "name": "stdout",
          "text": [
            "Tipos de envios difernetes: 6\n"
          ]
        }
      ]
    },
    {
      "cell_type": "code",
      "source": [
        "print(f\"Cantidad de valores por envios: {df_tend_de_compras['Envio'].value_counts()}\")"
      ],
      "metadata": {
        "colab": {
          "base_uri": "https://localhost:8080/"
        },
        "id": "yiypU_1X59-M",
        "outputId": "f39cc18d-67d7-4d7d-da98-d32e9a529f74"
      },
      "execution_count": null,
      "outputs": [
        {
          "output_type": "stream",
          "name": "stdout",
          "text": [
            "Cantidad de valores por envios: Envio\n",
            "Envío Gratis             675\n",
            "Estándar                 654\n",
            "Recogida en tienda       650\n",
            "Aire al día siguiente    648\n",
            "Expres                   646\n",
            "Envío en 2 días          627\n",
            "Name: count, dtype: int64\n"
          ]
        }
      ]
    },
    {
      "cell_type": "markdown",
      "source": [
        "*g) Metodo de pago*"
      ],
      "metadata": {
        "id": "aDmxsF_46SYk"
      }
    },
    {
      "cell_type": "code",
      "source": [
        "print(f\"Tipos de metodos de pago diferentes: {df_tend_de_compras['Metodo de pago'].nunique()}\")"
      ],
      "metadata": {
        "colab": {
          "base_uri": "https://localhost:8080/"
        },
        "id": "IEDRqxZw6fVr",
        "outputId": "88910b99-cc60-40a4-9ddd-c0c3bc666476"
      },
      "execution_count": null,
      "outputs": [
        {
          "output_type": "stream",
          "name": "stdout",
          "text": [
            "Tipos de metodos de pago diferentes: 6\n"
          ]
        }
      ]
    },
    {
      "cell_type": "code",
      "source": [
        "print(f\"Cantidad de valores por meotodo de pago: {df_tend_de_compras['Metodo de pago'].value_counts()}\")"
      ],
      "metadata": {
        "colab": {
          "base_uri": "https://localhost:8080/"
        },
        "id": "MpvfsV6Q6nrb",
        "outputId": "2ed20578-9009-47dc-ae20-eb6a28d2ad3a"
      },
      "execution_count": null,
      "outputs": [
        {
          "output_type": "stream",
          "name": "stdout",
          "text": [
            "Cantidad de valores por meotodo de pago: Metodo de pago\n",
            "PayPal                    677\n",
            "Tarjeta de crédito        671\n",
            "Efectivo                  670\n",
            "Tarjeta de débito         636\n",
            "Venmo                     634\n",
            "Transferencia bancaria    612\n",
            "Name: count, dtype: int64\n"
          ]
        }
      ]
    },
    {
      "cell_type": "markdown",
      "source": [
        "*h) Frecuencia de compras*"
      ],
      "metadata": {
        "id": "TqeT6yB166wb"
      }
    },
    {
      "cell_type": "code",
      "source": [
        "print(f\"Tipos de frecuencia de compras diferentes: {df_tend_de_compras['Frecuencia de compras'].nunique()}\")"
      ],
      "metadata": {
        "colab": {
          "base_uri": "https://localhost:8080/"
        },
        "id": "dlySfcMF7UdD",
        "outputId": "34887edc-435d-4fa7-879e-e62ebbbd9fec"
      },
      "execution_count": null,
      "outputs": [
        {
          "output_type": "stream",
          "name": "stdout",
          "text": [
            "Tipos de frecuencia de compras diferentes: 5\n"
          ]
        }
      ]
    },
    {
      "cell_type": "code",
      "source": [
        "print(f\"Cantidad de valores por frecuencia de compras: {df_tend_de_compras['Frecuencia de compras'].value_counts()}\")"
      ],
      "metadata": {
        "colab": {
          "base_uri": "https://localhost:8080/"
        },
        "id": "Ofkf-hZJ6sNT",
        "outputId": "203d88c8-85fd-47f5-be82-64cde5a2028d"
      },
      "execution_count": null,
      "outputs": [
        {
          "output_type": "stream",
          "name": "stdout",
          "text": [
            "Cantidad de valores por frecuencia de compras: Frecuencia de compras\n",
            "Trimestral    1147\n",
            "Quincenal     1089\n",
            "Anualmente     572\n",
            "Mensual        553\n",
            "Semanal        539\n",
            "Name: count, dtype: int64\n"
          ]
        }
      ]
    },
    {
      "cell_type": "markdown",
      "source": [
        "## Manipulacion del data set"
      ],
      "metadata": {
        "id": "_HU3pbo38HPb"
      }
    },
    {
      "cell_type": "markdown",
      "source": [
        "Luego de la exploracion del data set, no se hallaron datos nulos, ni duplicados, tampoco se detectaron valores atipicos o 0 que podrian afectar el desarrollo del proyecto.\n",
        "\n",
        "Sin embargo, hay nombres en las columnas que contienen espacios y otras que contienen \"_\" entre cada palabra. Para poder corregir esto, se realizara una copia del archivo CSV y posteriormente se modificaran los nombres de las columnas que contengan espacios.\n",
        "\n",
        "Finalmente el desarrollo del proyecto se realizara con este nuevo archivo corregido."
      ],
      "metadata": {
        "id": "Hbx_ZN2lE9km"
      }
    },
    {
      "cell_type": "markdown",
      "source": [
        "Creacion de copia del archivo original"
      ],
      "metadata": {
        "id": "9mNSkuCzGESl"
      }
    },
    {
      "cell_type": "code",
      "source": [
        "df_tend_de_compras_corregido = df_tend_de_compras.copy()"
      ],
      "metadata": {
        "id": "Pb47rhWJ7OEb"
      },
      "execution_count": 14,
      "outputs": []
    },
    {
      "cell_type": "markdown",
      "source": [
        "Modificacion de los nombres de las columnas sobre el nuevo archivo"
      ],
      "metadata": {
        "id": "XRDjbP27GHF9"
      }
    },
    {
      "cell_type": "code",
      "source": [
        "df_tend_de_compras_corregido.columns = df_tend_de_compras_corregido.columns.str.replace(' ', '_')"
      ],
      "metadata": {
        "id": "aE05pHfLGCA1"
      },
      "execution_count": 15,
      "outputs": []
    },
    {
      "cell_type": "markdown",
      "source": [
        "Vista previa del nuevo dara set con los nombres corregidos."
      ],
      "metadata": {
        "id": "NSocU6OWLDVU"
      }
    },
    {
      "cell_type": "code",
      "source": [
        "df_tend_de_compras_corregido.head()"
      ],
      "metadata": {
        "colab": {
          "base_uri": "https://localhost:8080/",
          "height": 327
        },
        "id": "E28IbMpKGdh0",
        "outputId": "e4a20de3-5fb6-4143-e7af-f7589e6d4065"
      },
      "execution_count": 16,
      "outputs": [
        {
          "output_type": "execute_result",
          "data": {
            "text/plain": [
              "            Edad  Genero Articulo_Comprado Categoria  Monto_de_compra_(USD)  \\\n",
              "Cliente_ID                                                                    \n",
              "1             55  Hombre             Blusa      Ropa                     53   \n",
              "2             19  Hombre            Suéter      Ropa                     64   \n",
              "3             50  Hombre          Vaqueros      Ropa                     73   \n",
              "4             21  Hombre         Sandalias   Calzado                     90   \n",
              "5             45  Hombre             Blusa      Ropa                     49   \n",
              "\n",
              "                   Ciudad Tamaño     Color  Calificacion_cliente Suscripcion  \\\n",
              "Cliente_ID                                                                     \n",
              "1                Kentucky      L      Gris                   3.1          Si   \n",
              "2                   Maine      L    Marrón                   3.1          Si   \n",
              "3           Massachusetts      S    Marrón                   3.1          Si   \n",
              "4            Rhode Island      M    Marrón                   3.5          Si   \n",
              "5                  Oregón      M  Turquesa                   2.7          Si   \n",
              "\n",
              "                            Envio Descuento_aplicado Codigo_promocional_usado  \\\n",
              "Cliente_ID                                                                      \n",
              "1                          Expres                 Si                       Si   \n",
              "2                          Expres                 Si                       Si   \n",
              "3                    Envío Gratis                 Si                       Si   \n",
              "4           Aire al día siguiente                 Si                       Si   \n",
              "5                    Envío Gratis                 Si                       Si   \n",
              "\n",
              "            Compas_anteriores      Metodo_de_pago Frecuencia_de_compras  \n",
              "Cliente_ID                                                               \n",
              "1                          14               Venmo             Quincenal  \n",
              "2                           2            Efectivo             Quincenal  \n",
              "3                          23  Tarjeta de crédito               Semanal  \n",
              "4                          49              PayPal               Semanal  \n",
              "5                          31              PayPal            Anualmente  "
            ],
            "text/html": [
              "\n",
              "  <div id=\"df-dddb70f4-7448-45e0-98b2-70ec3b512d19\" class=\"colab-df-container\">\n",
              "    <div>\n",
              "<style scoped>\n",
              "    .dataframe tbody tr th:only-of-type {\n",
              "        vertical-align: middle;\n",
              "    }\n",
              "\n",
              "    .dataframe tbody tr th {\n",
              "        vertical-align: top;\n",
              "    }\n",
              "\n",
              "    .dataframe thead th {\n",
              "        text-align: right;\n",
              "    }\n",
              "</style>\n",
              "<table border=\"1\" class=\"dataframe\">\n",
              "  <thead>\n",
              "    <tr style=\"text-align: right;\">\n",
              "      <th></th>\n",
              "      <th>Edad</th>\n",
              "      <th>Genero</th>\n",
              "      <th>Articulo_Comprado</th>\n",
              "      <th>Categoria</th>\n",
              "      <th>Monto_de_compra_(USD)</th>\n",
              "      <th>Ciudad</th>\n",
              "      <th>Tamaño</th>\n",
              "      <th>Color</th>\n",
              "      <th>Calificacion_cliente</th>\n",
              "      <th>Suscripcion</th>\n",
              "      <th>Envio</th>\n",
              "      <th>Descuento_aplicado</th>\n",
              "      <th>Codigo_promocional_usado</th>\n",
              "      <th>Compas_anteriores</th>\n",
              "      <th>Metodo_de_pago</th>\n",
              "      <th>Frecuencia_de_compras</th>\n",
              "    </tr>\n",
              "    <tr>\n",
              "      <th>Cliente_ID</th>\n",
              "      <th></th>\n",
              "      <th></th>\n",
              "      <th></th>\n",
              "      <th></th>\n",
              "      <th></th>\n",
              "      <th></th>\n",
              "      <th></th>\n",
              "      <th></th>\n",
              "      <th></th>\n",
              "      <th></th>\n",
              "      <th></th>\n",
              "      <th></th>\n",
              "      <th></th>\n",
              "      <th></th>\n",
              "      <th></th>\n",
              "      <th></th>\n",
              "    </tr>\n",
              "  </thead>\n",
              "  <tbody>\n",
              "    <tr>\n",
              "      <th>1</th>\n",
              "      <td>55</td>\n",
              "      <td>Hombre</td>\n",
              "      <td>Blusa</td>\n",
              "      <td>Ropa</td>\n",
              "      <td>53</td>\n",
              "      <td>Kentucky</td>\n",
              "      <td>L</td>\n",
              "      <td>Gris</td>\n",
              "      <td>3.1</td>\n",
              "      <td>Si</td>\n",
              "      <td>Expres</td>\n",
              "      <td>Si</td>\n",
              "      <td>Si</td>\n",
              "      <td>14</td>\n",
              "      <td>Venmo</td>\n",
              "      <td>Quincenal</td>\n",
              "    </tr>\n",
              "    <tr>\n",
              "      <th>2</th>\n",
              "      <td>19</td>\n",
              "      <td>Hombre</td>\n",
              "      <td>Suéter</td>\n",
              "      <td>Ropa</td>\n",
              "      <td>64</td>\n",
              "      <td>Maine</td>\n",
              "      <td>L</td>\n",
              "      <td>Marrón</td>\n",
              "      <td>3.1</td>\n",
              "      <td>Si</td>\n",
              "      <td>Expres</td>\n",
              "      <td>Si</td>\n",
              "      <td>Si</td>\n",
              "      <td>2</td>\n",
              "      <td>Efectivo</td>\n",
              "      <td>Quincenal</td>\n",
              "    </tr>\n",
              "    <tr>\n",
              "      <th>3</th>\n",
              "      <td>50</td>\n",
              "      <td>Hombre</td>\n",
              "      <td>Vaqueros</td>\n",
              "      <td>Ropa</td>\n",
              "      <td>73</td>\n",
              "      <td>Massachusetts</td>\n",
              "      <td>S</td>\n",
              "      <td>Marrón</td>\n",
              "      <td>3.1</td>\n",
              "      <td>Si</td>\n",
              "      <td>Envío Gratis</td>\n",
              "      <td>Si</td>\n",
              "      <td>Si</td>\n",
              "      <td>23</td>\n",
              "      <td>Tarjeta de crédito</td>\n",
              "      <td>Semanal</td>\n",
              "    </tr>\n",
              "    <tr>\n",
              "      <th>4</th>\n",
              "      <td>21</td>\n",
              "      <td>Hombre</td>\n",
              "      <td>Sandalias</td>\n",
              "      <td>Calzado</td>\n",
              "      <td>90</td>\n",
              "      <td>Rhode Island</td>\n",
              "      <td>M</td>\n",
              "      <td>Marrón</td>\n",
              "      <td>3.5</td>\n",
              "      <td>Si</td>\n",
              "      <td>Aire al día siguiente</td>\n",
              "      <td>Si</td>\n",
              "      <td>Si</td>\n",
              "      <td>49</td>\n",
              "      <td>PayPal</td>\n",
              "      <td>Semanal</td>\n",
              "    </tr>\n",
              "    <tr>\n",
              "      <th>5</th>\n",
              "      <td>45</td>\n",
              "      <td>Hombre</td>\n",
              "      <td>Blusa</td>\n",
              "      <td>Ropa</td>\n",
              "      <td>49</td>\n",
              "      <td>Oregón</td>\n",
              "      <td>M</td>\n",
              "      <td>Turquesa</td>\n",
              "      <td>2.7</td>\n",
              "      <td>Si</td>\n",
              "      <td>Envío Gratis</td>\n",
              "      <td>Si</td>\n",
              "      <td>Si</td>\n",
              "      <td>31</td>\n",
              "      <td>PayPal</td>\n",
              "      <td>Anualmente</td>\n",
              "    </tr>\n",
              "  </tbody>\n",
              "</table>\n",
              "</div>\n",
              "    <div class=\"colab-df-buttons\">\n",
              "\n",
              "  <div class=\"colab-df-container\">\n",
              "    <button class=\"colab-df-convert\" onclick=\"convertToInteractive('df-dddb70f4-7448-45e0-98b2-70ec3b512d19')\"\n",
              "            title=\"Convert this dataframe to an interactive table.\"\n",
              "            style=\"display:none;\">\n",
              "\n",
              "  <svg xmlns=\"http://www.w3.org/2000/svg\" height=\"24px\" viewBox=\"0 -960 960 960\">\n",
              "    <path d=\"M120-120v-720h720v720H120Zm60-500h600v-160H180v160Zm220 220h160v-160H400v160Zm0 220h160v-160H400v160ZM180-400h160v-160H180v160Zm440 0h160v-160H620v160ZM180-180h160v-160H180v160Zm440 0h160v-160H620v160Z\"/>\n",
              "  </svg>\n",
              "    </button>\n",
              "\n",
              "  <style>\n",
              "    .colab-df-container {\n",
              "      display:flex;\n",
              "      gap: 12px;\n",
              "    }\n",
              "\n",
              "    .colab-df-convert {\n",
              "      background-color: #E8F0FE;\n",
              "      border: none;\n",
              "      border-radius: 50%;\n",
              "      cursor: pointer;\n",
              "      display: none;\n",
              "      fill: #1967D2;\n",
              "      height: 32px;\n",
              "      padding: 0 0 0 0;\n",
              "      width: 32px;\n",
              "    }\n",
              "\n",
              "    .colab-df-convert:hover {\n",
              "      background-color: #E2EBFA;\n",
              "      box-shadow: 0px 1px 2px rgba(60, 64, 67, 0.3), 0px 1px 3px 1px rgba(60, 64, 67, 0.15);\n",
              "      fill: #174EA6;\n",
              "    }\n",
              "\n",
              "    .colab-df-buttons div {\n",
              "      margin-bottom: 4px;\n",
              "    }\n",
              "\n",
              "    [theme=dark] .colab-df-convert {\n",
              "      background-color: #3B4455;\n",
              "      fill: #D2E3FC;\n",
              "    }\n",
              "\n",
              "    [theme=dark] .colab-df-convert:hover {\n",
              "      background-color: #434B5C;\n",
              "      box-shadow: 0px 1px 3px 1px rgba(0, 0, 0, 0.15);\n",
              "      filter: drop-shadow(0px 1px 2px rgba(0, 0, 0, 0.3));\n",
              "      fill: #FFFFFF;\n",
              "    }\n",
              "  </style>\n",
              "\n",
              "    <script>\n",
              "      const buttonEl =\n",
              "        document.querySelector('#df-dddb70f4-7448-45e0-98b2-70ec3b512d19 button.colab-df-convert');\n",
              "      buttonEl.style.display =\n",
              "        google.colab.kernel.accessAllowed ? 'block' : 'none';\n",
              "\n",
              "      async function convertToInteractive(key) {\n",
              "        const element = document.querySelector('#df-dddb70f4-7448-45e0-98b2-70ec3b512d19');\n",
              "        const dataTable =\n",
              "          await google.colab.kernel.invokeFunction('convertToInteractive',\n",
              "                                                    [key], {});\n",
              "        if (!dataTable) return;\n",
              "\n",
              "        const docLinkHtml = 'Like what you see? Visit the ' +\n",
              "          '<a target=\"_blank\" href=https://colab.research.google.com/notebooks/data_table.ipynb>data table notebook</a>'\n",
              "          + ' to learn more about interactive tables.';\n",
              "        element.innerHTML = '';\n",
              "        dataTable['output_type'] = 'display_data';\n",
              "        await google.colab.output.renderOutput(dataTable, element);\n",
              "        const docLink = document.createElement('div');\n",
              "        docLink.innerHTML = docLinkHtml;\n",
              "        element.appendChild(docLink);\n",
              "      }\n",
              "    </script>\n",
              "  </div>\n",
              "\n",
              "\n",
              "<div id=\"df-b816654a-766c-4832-84ac-9a5affc17c56\">\n",
              "  <button class=\"colab-df-quickchart\" onclick=\"quickchart('df-b816654a-766c-4832-84ac-9a5affc17c56')\"\n",
              "            title=\"Suggest charts\"\n",
              "            style=\"display:none;\">\n",
              "\n",
              "<svg xmlns=\"http://www.w3.org/2000/svg\" height=\"24px\"viewBox=\"0 0 24 24\"\n",
              "     width=\"24px\">\n",
              "    <g>\n",
              "        <path d=\"M19 3H5c-1.1 0-2 .9-2 2v14c0 1.1.9 2 2 2h14c1.1 0 2-.9 2-2V5c0-1.1-.9-2-2-2zM9 17H7v-7h2v7zm4 0h-2V7h2v10zm4 0h-2v-4h2v4z\"/>\n",
              "    </g>\n",
              "</svg>\n",
              "  </button>\n",
              "\n",
              "<style>\n",
              "  .colab-df-quickchart {\n",
              "      --bg-color: #E8F0FE;\n",
              "      --fill-color: #1967D2;\n",
              "      --hover-bg-color: #E2EBFA;\n",
              "      --hover-fill-color: #174EA6;\n",
              "      --disabled-fill-color: #AAA;\n",
              "      --disabled-bg-color: #DDD;\n",
              "  }\n",
              "\n",
              "  [theme=dark] .colab-df-quickchart {\n",
              "      --bg-color: #3B4455;\n",
              "      --fill-color: #D2E3FC;\n",
              "      --hover-bg-color: #434B5C;\n",
              "      --hover-fill-color: #FFFFFF;\n",
              "      --disabled-bg-color: #3B4455;\n",
              "      --disabled-fill-color: #666;\n",
              "  }\n",
              "\n",
              "  .colab-df-quickchart {\n",
              "    background-color: var(--bg-color);\n",
              "    border: none;\n",
              "    border-radius: 50%;\n",
              "    cursor: pointer;\n",
              "    display: none;\n",
              "    fill: var(--fill-color);\n",
              "    height: 32px;\n",
              "    padding: 0;\n",
              "    width: 32px;\n",
              "  }\n",
              "\n",
              "  .colab-df-quickchart:hover {\n",
              "    background-color: var(--hover-bg-color);\n",
              "    box-shadow: 0 1px 2px rgba(60, 64, 67, 0.3), 0 1px 3px 1px rgba(60, 64, 67, 0.15);\n",
              "    fill: var(--button-hover-fill-color);\n",
              "  }\n",
              "\n",
              "  .colab-df-quickchart-complete:disabled,\n",
              "  .colab-df-quickchart-complete:disabled:hover {\n",
              "    background-color: var(--disabled-bg-color);\n",
              "    fill: var(--disabled-fill-color);\n",
              "    box-shadow: none;\n",
              "  }\n",
              "\n",
              "  .colab-df-spinner {\n",
              "    border: 2px solid var(--fill-color);\n",
              "    border-color: transparent;\n",
              "    border-bottom-color: var(--fill-color);\n",
              "    animation:\n",
              "      spin 1s steps(1) infinite;\n",
              "  }\n",
              "\n",
              "  @keyframes spin {\n",
              "    0% {\n",
              "      border-color: transparent;\n",
              "      border-bottom-color: var(--fill-color);\n",
              "      border-left-color: var(--fill-color);\n",
              "    }\n",
              "    20% {\n",
              "      border-color: transparent;\n",
              "      border-left-color: var(--fill-color);\n",
              "      border-top-color: var(--fill-color);\n",
              "    }\n",
              "    30% {\n",
              "      border-color: transparent;\n",
              "      border-left-color: var(--fill-color);\n",
              "      border-top-color: var(--fill-color);\n",
              "      border-right-color: var(--fill-color);\n",
              "    }\n",
              "    40% {\n",
              "      border-color: transparent;\n",
              "      border-right-color: var(--fill-color);\n",
              "      border-top-color: var(--fill-color);\n",
              "    }\n",
              "    60% {\n",
              "      border-color: transparent;\n",
              "      border-right-color: var(--fill-color);\n",
              "    }\n",
              "    80% {\n",
              "      border-color: transparent;\n",
              "      border-right-color: var(--fill-color);\n",
              "      border-bottom-color: var(--fill-color);\n",
              "    }\n",
              "    90% {\n",
              "      border-color: transparent;\n",
              "      border-bottom-color: var(--fill-color);\n",
              "    }\n",
              "  }\n",
              "</style>\n",
              "\n",
              "  <script>\n",
              "    async function quickchart(key) {\n",
              "      const quickchartButtonEl =\n",
              "        document.querySelector('#' + key + ' button');\n",
              "      quickchartButtonEl.disabled = true;  // To prevent multiple clicks.\n",
              "      quickchartButtonEl.classList.add('colab-df-spinner');\n",
              "      try {\n",
              "        const charts = await google.colab.kernel.invokeFunction(\n",
              "            'suggestCharts', [key], {});\n",
              "      } catch (error) {\n",
              "        console.error('Error during call to suggestCharts:', error);\n",
              "      }\n",
              "      quickchartButtonEl.classList.remove('colab-df-spinner');\n",
              "      quickchartButtonEl.classList.add('colab-df-quickchart-complete');\n",
              "    }\n",
              "    (() => {\n",
              "      let quickchartButtonEl =\n",
              "        document.querySelector('#df-b816654a-766c-4832-84ac-9a5affc17c56 button');\n",
              "      quickchartButtonEl.style.display =\n",
              "        google.colab.kernel.accessAllowed ? 'block' : 'none';\n",
              "    })();\n",
              "  </script>\n",
              "</div>\n",
              "\n",
              "    </div>\n",
              "  </div>\n"
            ],
            "application/vnd.google.colaboratory.intrinsic+json": {
              "type": "dataframe",
              "variable_name": "df_tend_de_compras_corregido",
              "summary": "{\n  \"name\": \"df_tend_de_compras_corregido\",\n  \"rows\": 3900,\n  \"fields\": [\n    {\n      \"column\": \"Cliente_ID\",\n      \"properties\": {\n        \"dtype\": \"number\",\n        \"std\": 1125,\n        \"min\": 1,\n        \"max\": 3900,\n        \"num_unique_values\": 3900,\n        \"samples\": [\n          840,\n          1718,\n          322\n        ],\n        \"semantic_type\": \"\",\n        \"description\": \"\"\n      }\n    },\n    {\n      \"column\": \"Edad\",\n      \"properties\": {\n        \"dtype\": \"number\",\n        \"std\": 15,\n        \"min\": 18,\n        \"max\": 70,\n        \"num_unique_values\": 53,\n        \"samples\": [\n          56,\n          24,\n          51\n        ],\n        \"semantic_type\": \"\",\n        \"description\": \"\"\n      }\n    },\n    {\n      \"column\": \"Genero\",\n      \"properties\": {\n        \"dtype\": \"category\",\n        \"num_unique_values\": 2,\n        \"samples\": [\n          \"Mujer\",\n          \"Hombre\"\n        ],\n        \"semantic_type\": \"\",\n        \"description\": \"\"\n      }\n    },\n    {\n      \"column\": \"Articulo_Comprado\",\n      \"properties\": {\n        \"dtype\": \"category\",\n        \"num_unique_values\": 25,\n        \"samples\": [\n          \"Bolso\",\n          \"Joyer\\u00eda\"\n        ],\n        \"semantic_type\": \"\",\n        \"description\": \"\"\n      }\n    },\n    {\n      \"column\": \"Categoria\",\n      \"properties\": {\n        \"dtype\": \"category\",\n        \"num_unique_values\": 4,\n        \"samples\": [\n          \"Calzado\",\n          \"Accesorios\"\n        ],\n        \"semantic_type\": \"\",\n        \"description\": \"\"\n      }\n    },\n    {\n      \"column\": \"Monto_de_compra_(USD)\",\n      \"properties\": {\n        \"dtype\": \"number\",\n        \"std\": 23,\n        \"min\": 20,\n        \"max\": 100,\n        \"num_unique_values\": 81,\n        \"samples\": [\n          60,\n          53\n        ],\n        \"semantic_type\": \"\",\n        \"description\": \"\"\n      }\n    },\n    {\n      \"column\": \"Ciudad\",\n      \"properties\": {\n        \"dtype\": \"category\",\n        \"num_unique_values\": 50,\n        \"samples\": [\n          \"Nuevo Hampshire\",\n          \"Connecticut\"\n        ],\n        \"semantic_type\": \"\",\n        \"description\": \"\"\n      }\n    },\n    {\n      \"column\": \"Tama\\u00f1o\",\n      \"properties\": {\n        \"dtype\": \"category\",\n        \"num_unique_values\": 4,\n        \"samples\": [\n          \"S\",\n          \"XL\"\n        ],\n        \"semantic_type\": \"\",\n        \"description\": \"\"\n      }\n    },\n    {\n      \"column\": \"Color\",\n      \"properties\": {\n        \"dtype\": \"category\",\n        \"num_unique_values\": 24,\n        \"samples\": [\n          \"Aceituna\",\n          \"Rojo\"\n        ],\n        \"semantic_type\": \"\",\n        \"description\": \"\"\n      }\n    },\n    {\n      \"column\": \"Calificacion_cliente\",\n      \"properties\": {\n        \"dtype\": \"number\",\n        \"std\": 0.7162228139312449,\n        \"min\": 2.5,\n        \"max\": 5.0,\n        \"num_unique_values\": 26,\n        \"samples\": [\n          4.9,\n          5.0\n        ],\n        \"semantic_type\": \"\",\n        \"description\": \"\"\n      }\n    },\n    {\n      \"column\": \"Suscripcion\",\n      \"properties\": {\n        \"dtype\": \"category\",\n        \"num_unique_values\": 2,\n        \"samples\": [\n          \"No\",\n          \"Si\"\n        ],\n        \"semantic_type\": \"\",\n        \"description\": \"\"\n      }\n    },\n    {\n      \"column\": \"Envio\",\n      \"properties\": {\n        \"dtype\": \"category\",\n        \"num_unique_values\": 6,\n        \"samples\": [\n          \"Expres\",\n          \"Env\\u00edo Gratis\"\n        ],\n        \"semantic_type\": \"\",\n        \"description\": \"\"\n      }\n    },\n    {\n      \"column\": \"Descuento_aplicado\",\n      \"properties\": {\n        \"dtype\": \"category\",\n        \"num_unique_values\": 2,\n        \"samples\": [\n          \"No\",\n          \"Si\"\n        ],\n        \"semantic_type\": \"\",\n        \"description\": \"\"\n      }\n    },\n    {\n      \"column\": \"Codigo_promocional_usado\",\n      \"properties\": {\n        \"dtype\": \"category\",\n        \"num_unique_values\": 2,\n        \"samples\": [\n          \"No\",\n          \"Si\"\n        ],\n        \"semantic_type\": \"\",\n        \"description\": \"\"\n      }\n    },\n    {\n      \"column\": \"Compas_anteriores\",\n      \"properties\": {\n        \"dtype\": \"number\",\n        \"std\": 14,\n        \"min\": 1,\n        \"max\": 50,\n        \"num_unique_values\": 50,\n        \"samples\": [\n          36,\n          47\n        ],\n        \"semantic_type\": \"\",\n        \"description\": \"\"\n      }\n    },\n    {\n      \"column\": \"Metodo_de_pago\",\n      \"properties\": {\n        \"dtype\": \"category\",\n        \"num_unique_values\": 6,\n        \"samples\": [\n          \"Venmo\",\n          \"Efectivo\"\n        ],\n        \"semantic_type\": \"\",\n        \"description\": \"\"\n      }\n    },\n    {\n      \"column\": \"Frecuencia_de_compras\",\n      \"properties\": {\n        \"dtype\": \"category\",\n        \"num_unique_values\": 5,\n        \"samples\": [\n          \"Semanal\",\n          \"Mensual\"\n        ],\n        \"semantic_type\": \"\",\n        \"description\": \"\"\n      }\n    }\n  ]\n}"
            }
          },
          "metadata": {},
          "execution_count": 16
        }
      ]
    },
    {
      "cell_type": "markdown",
      "source": [
        "# Visualizacion de los datos"
      ],
      "metadata": {
        "id": "nvzKQcpvL6Sx"
      }
    },
    {
      "cell_type": "markdown",
      "source": [
        "A partir de la exploración de los datos, se buscara a continuación responder alguna de las siguientes preguntas a traves de diferentes visualizaciones:\n",
        "\n",
        "1- ¿Cuál es la relación entre la edad de los clientes y las categorías de productos comprados?\n",
        "\n",
        "2- ¿Qué ciudades generan mayores ingresos para el ecommerce, y qué categorías son las más compradas en cada ciudad?\n",
        "\n",
        "3- ¿La cantidad de compras anteriores proviene de clientes suscriptos al plan de fidelizacion? En que porcentaje si y cual no.\n",
        "\n",
        "4 - ¿Cual fue el color mas vendido de una categoria determinada?\n",
        "\n",
        "5- ¿El genero del cliente influye directamente en la categoria de producto comprada?"
      ],
      "metadata": {
        "id": "pl-8udfpME3p"
      }
    },
    {
      "cell_type": "markdown",
      "source": [
        "## 1) ¿Cuál es la relación entre la edad de los clientes y las categorías de productos comprados?"
      ],
      "metadata": {
        "id": "-nCAAHlMQ6dV"
      }
    },
    {
      "cell_type": "markdown",
      "source": [
        "A continuacion, se crearan grupos de edades y una tabla de frecuencia con el conteo de categorias por grupo de edad"
      ],
      "metadata": {
        "id": "Ty6RU1wvRXLG"
      }
    },
    {
      "cell_type": "markdown",
      "source": [
        "Creacion de data frame con grupo de edades:"
      ],
      "metadata": {
        "id": "g-2PxyK4Rxht"
      }
    },
    {
      "cell_type": "code",
      "source": [
        "bins = [18, 25, 35, 45, 55, 70]\n",
        "labels = ['18-25', '26-35', '36-45', '46-55', '56-70']\n",
        "df_tend_de_compras_corregido['grupo_edad'] = pd.cut(df_tend_de_compras_corregido['Edad'], bins=bins, labels=labels)"
      ],
      "metadata": {
        "id": "KQiQe5P4Q7rl"
      },
      "execution_count": 17,
      "outputs": []
    },
    {
      "cell_type": "markdown",
      "source": [
        "Se crea una tabla de frecuencia: Conteo de categorias por grupo de edad"
      ],
      "metadata": {
        "id": "Jy66BlwTSa8t"
      }
    },
    {
      "cell_type": "code",
      "source": [
        "tabla_frecuencia = df_tend_de_compras_corregido.groupby(['grupo_edad', 'Categoria'],observed=False).size().unstack(fill_value=0)"
      ],
      "metadata": {
        "id": "iry0Vl9qSQlU"
      },
      "execution_count": null,
      "outputs": []
    },
    {
      "cell_type": "markdown",
      "source": [
        "Para poder responder la pregunta planteada, se opto por utilizar un grafico de calor que muestre segun el rango de edad, las categorias de productos mas compradas."
      ],
      "metadata": {
        "id": "IVzfVDwNUibG"
      }
    },
    {
      "cell_type": "code",
      "source": [
        "plt.figure(figsize=(12, 6))\n",
        "sns.heatmap(tabla_frecuencia, annot=True, fmt='d', cmap='YlGnBu', cbar=True)\n",
        "plt.title('Relación entre Edad y Categorías de Productos Comprados')\n",
        "plt.xlabel('Categoría')\n",
        "plt.ylabel('Grupo de Edad')\n",
        "plt.tight_layout()\n",
        "plt.show()"
      ],
      "metadata": {
        "colab": {
          "base_uri": "https://localhost:8080/",
          "height": 607
        },
        "id": "mxEEn4YMS2WE",
        "outputId": "266cb846-35f7-4848-d93c-57c87a50e719"
      },
      "execution_count": null,
      "outputs": [
        {
          "output_type": "display_data",
          "data": {
            "text/plain": [
              "<Figure size 1200x600 with 2 Axes>"
            ],
            "image/png": "[encoded data removed]"
          },
          "metadata": {}
        }
      ]
    },
    {
      "cell_type": "markdown",
      "source": [
        "Categoría \"Ropa\":\n",
        "\n",
        "Es la categoría más popular en general, especialmente para el grupo de edad 56-70.\n",
        "Atrae consistentemente la mayor cantidad de compras en todos los grupos de edad.\n",
        "Categoría \"Accesorios\":\n",
        "\n",
        "También es popular, particularmente entre los grupos de edad 26-35 y 56-70.\n",
        "Categoría \"Abrigos\":\n",
        "\n",
        "Tiene una menor cantidad de compras en comparación con otras categorías, pero su popularidad crece entre los grupos de mayor edad (56-70).\n",
        "Categoría \"Calzado\":\n",
        "\n",
        "Es más popular en el grupo de edad 56-70, aunque tiene un menor número de compras en otros grupos.\n",
        "Tendencias según la edad:\n",
        "\n",
        "Los grupos de edad 56-70 y 46-55 parecen ser los mayores compradores en la mayoría de las categorías, lo que podría indicar que estos grupos tienen una mayor disposición o capacidad de compra.\n",
        "Los jóvenes de 18-25 tienen la menor participación en todas las categorías.\n",
        "Posibles conclusiones:\n",
        "Segmentación de clientes:\n",
        "\n",
        "Los clientes mayores de 45 años parecen ser los compradores más activos, por lo que podrían ser el enfoque principal para campañas de marketing específicas.\n",
        "Las categorías \"Ropa\" y \"Accesorios\" deberían recibir mayor atención en términos de inventario y promociones, ya que son las más populares.\n",
        "Oportunidades para productos menos populares:\n",
        "\n",
        "Las categorías \"Abrigos\" y \"Calzado\" tienen un desempeño más bajo en grupos jóvenes. Se podrían realizar campañas para aumentar su atractivo en estos segmentos.\n",
        "Diversificación de estrategias:\n",
        "\n",
        "Para los grupos jóvenes (18-25), podría ser útil ofrecer descuentos o promociones para fomentar el interés en categorías menos populares como \"Abrigos\"."
      ],
      "metadata": {
        "id": "vRiLnGU8V3jC"
      }
    },
    {
      "cell_type": "code",
      "source": [],
      "metadata": {
        "id": "tNTD3P69V9OZ"
      },
      "execution_count": null,
      "outputs": []
    },
    {
      "cell_type": "markdown",
      "source": [
        "## 2) ¿Qué ciudades y categorias generan mayores ingresos para el ecommerce?"
      ],
      "metadata": {
        "id": "VP6ChxBWWBTq"
      }
    },
    {
      "cell_type": "markdown",
      "source": [
        "A continuacion, se utilizaran 2 visualizaciones para poder responder a ambos interrogantes, en este caso, para que la informacion se presente de manera mas clara, se optaran por 2 graficos de barras"
      ],
      "metadata": {
        "id": "2ykzbRJFZWL4"
      }
    },
    {
      "cell_type": "markdown",
      "source": [
        "**Ciudad que genera mayores ingresos:**"
      ],
      "metadata": {
        "id": "0BjbksC_Z9fX"
      }
    },
    {
      "cell_type": "markdown",
      "source": [
        "Se agrupan los datos por ciudad y se calculan los ingresos totales"
      ],
      "metadata": {
        "id": "l4WgqWkOajA_"
      }
    },
    {
      "cell_type": "code",
      "source": [
        "ingresos_por_ciudad = df_tend_de_compras_corregido.groupby('Ciudad')['Monto_de_compra_(USD)'].sum().sort_values(ascending=False)\n"
      ],
      "metadata": {
        "id": "z3JGi67FYByn"
      },
      "execution_count": null,
      "outputs": []
    },
    {
      "cell_type": "markdown",
      "source": [
        "Se crea un gráfico de barras\n"
      ],
      "metadata": {
        "id": "g4ZM03qzapHu"
      }
    },
    {
      "cell_type": "code",
      "source": [
        "plt.figure(figsize=(10, 12))\n",
        "ingresos_por_ciudad.plot(kind='barh', color='skyblue')\n",
        "\n",
        "#Se ajustan las etiquetas\n",
        "plt.title('Ingresos Totales por Ciudad', fontsize=16)\n",
        "plt.xlabel('Ingresos Totales (USD)', fontsize=12)\n",
        "plt.ylabel('Ciudad', fontsize=12)\n",
        "plt.tight_layout()"
      ],
      "metadata": {
        "colab": {
          "base_uri": "https://localhost:8080/",
          "height": 1000
        },
        "id": "N8ubV85yadqO",
        "outputId": "ca5e1aa2-0b6d-465d-f363-a57c2d17f131"
      },
      "execution_count": null,
      "outputs": [
        {
          "output_type": "display_data",
          "data": {
            "text/plain": [
              "<Figure size 1000x1200 with 1 Axes>"
            ],
            "image/png": "[encoded data removed]"
          },
          "metadata": {}
        }
      ]
    },
    {
      "cell_type": "markdown",
      "source": [
        "**Categoria mas comprada:**"
      ],
      "metadata": {
        "id": "ZoeCA_57c5Fd"
      }
    },
    {
      "cell_type": "markdown",
      "source": [
        "Agrupar los datos por ciudad y categoria para contar el numero de compras"
      ],
      "metadata": {
        "id": "BhwCWQzGdeD8"
      }
    },
    {
      "cell_type": "code",
      "source": [
        "ingresos_por_categoria = df_tend_de_compras_corregido.groupby('Categoria')['Monto_de_compra_(USD)'].sum().sort_values(ascending=False)\n"
      ],
      "metadata": {
        "id": "1or0Gm3wdGpc"
      },
      "execution_count": null,
      "outputs": []
    },
    {
      "cell_type": "markdown",
      "source": [
        "Creacion del grafico de barras"
      ],
      "metadata": {
        "id": "k356kfR3fpMb"
      }
    },
    {
      "cell_type": "code",
      "source": [
        "#Se definen colores\n",
        "colores = ['skyblue', 'salmon', 'lightgreen', 'gold']\n",
        "\n",
        "#Se crea el grafico\n",
        "plt.figure(figsize=(10, 6))\n",
        "ingresos_por_categoria.plot(kind='bar', color= colores)\n",
        "\n",
        "#Se ajustan las etiquetas\n",
        "plt.title('Ingresos Totales por Categoria', fontsize=16)\n",
        "plt.xlabel('Ingresos Totales (USD)', fontsize=12)\n",
        "plt.ylabel('Categoria', fontsize=12)\n",
        "plt.tight_layout()"
      ],
      "metadata": {
        "colab": {
          "base_uri": "https://localhost:8080/",
          "height": 607
        },
        "id": "m_XXxypEdY-j",
        "outputId": "a952980a-ea7d-419a-8e1a-339804e9a4be"
      },
      "execution_count": null,
      "outputs": [
        {
          "output_type": "display_data",
          "data": {
            "text/plain": [
              "<Figure size 1000x600 with 1 Axes>"
            ],
            "image/png": "[encoded data removed]"
          },
          "metadata": {}
        }
      ]
    },
    {
      "cell_type": "code",
      "source": [],
      "metadata": {
        "id": "e4oNgnJUeOh7"
      },
      "execution_count": null,
      "outputs": []
    },
    {
      "cell_type": "markdown",
      "source": [
        "## 3) ¿La cantidad de compras anteriores proviene de clientes suscriptos al plan de fidelizacion? En que porcentaje si y cual no."
      ],
      "metadata": {
        "id": "QXyHcUHHhVny"
      }
    },
    {
      "cell_type": "markdown",
      "source": [
        "A continuacion, se utilizara un grafico de torta para determinar si el porncentaje de compras anteriores es mayor en los clientes suscriptos al plan de fidelizacion o es mayor en clientes que no estan suscriptos."
      ],
      "metadata": {
        "id": "ttDZVSJpnGR-"
      }
    },
    {
      "cell_type": "markdown",
      "source": [
        "Se agrupa por suscripcion y se suman las compras anteriores"
      ],
      "metadata": {
        "id": "zA6HyRfFn-JV"
      }
    },
    {
      "cell_type": "code",
      "source": [
        "compras_agrupadas = df_tend_de_compras_corregido.groupby('Suscripcion')['Compas_anteriores'].sum()\n",
        "\n"
      ],
      "metadata": {
        "id": "iuJE6woohbvw"
      },
      "execution_count": null,
      "outputs": []
    },
    {
      "cell_type": "markdown",
      "source": [
        "Se calcula el porcentaje del total"
      ],
      "metadata": {
        "id": "txi087eroC0N"
      }
    },
    {
      "cell_type": "code",
      "source": [
        "porcentajes = (compras_agrupadas / compras_agrupadas.sum()) * 100\n"
      ],
      "metadata": {
        "id": "ESNlJjECktYY"
      },
      "execution_count": null,
      "outputs": []
    },
    {
      "cell_type": "markdown",
      "source": [
        "Se crea el grafico de torta"
      ],
      "metadata": {
        "id": "0KGjGufXoG-V"
      }
    },
    {
      "cell_type": "code",
      "source": [
        "# Creacion el gráfico de torta\n",
        "plt.figure(figsize=(8, 6))\n",
        "plt.pie(\n",
        "    compras_agrupadas,\n",
        "    labels=compras_agrupadas.index,\n",
        "    autopct='%1.1f%%',\n",
        "    startangle=90,\n",
        "    colors=['skyblue', 'salmon'],  # Colores para cada segmento\n",
        ")\n",
        "\n",
        "#Configuracion del titulo\n",
        "plt.title('Porcentaje de Compras Anteriores por Clientes Suscritos y No Suscritos', fontsize=14)\n",
        "plt.axis('equal')  # Asegura que el gráfico sea un círculo perfecto\n",
        "plt.tight_layout()"
      ],
      "metadata": {
        "colab": {
          "base_uri": "https://localhost:8080/",
          "height": 607
        },
        "id": "e4AFOtqoibT7",
        "outputId": "a71cff56-19f4-4131-fa6c-8db93c976df1"
      },
      "execution_count": null,
      "outputs": [
        {
          "output_type": "display_data",
          "data": {
            "text/plain": [
              "<Figure size 800x600 with 1 Axes>"
            ],
            "image/png": "[encoded data removed]"
          },
          "metadata": {}
        }
      ]
    },
    {
      "cell_type": "code",
      "source": [],
      "metadata": {
        "id": "d6PhNOxejYjH"
      },
      "execution_count": null,
      "outputs": []
    },
    {
      "cell_type": "markdown",
      "source": [
        "## 4)¿Cual fue el color mas elegido de una categoria determinada?"
      ],
      "metadata": {
        "id": "l1PFbt3fm8xm"
      }
    },
    {
      "cell_type": "markdown",
      "source": [
        "Con respescto a la pregunta N°4, se realizara un grafico de barras para determinar cual fue el color mas elegido por los clientes en la categoria de \"ropa\""
      ],
      "metadata": {
        "id": "nrrnlJ9Yow98"
      }
    },
    {
      "cell_type": "markdown",
      "source": [
        "Se filtra la categoria para elegir \"ropa\""
      ],
      "metadata": {
        "id": "_6s-680trgH7"
      }
    },
    {
      "cell_type": "code",
      "source": [
        "filtro_ropa = df_tend_de_compras_corregido['Categoria'] == 'Ropa'\n"
      ],
      "metadata": {
        "id": "YKUVBCMVnBKc"
      },
      "execution_count": null,
      "outputs": []
    },
    {
      "cell_type": "markdown",
      "source": [
        "Se agrupa por color y se realiza conteo de ventas"
      ],
      "metadata": {
        "id": "UKQYC2m0roj6"
      }
    },
    {
      "cell_type": "code",
      "source": [
        "colores_vendidos_ropa = df_tend_de_compras_corregido[filtro_ropa].groupby('Color').size().sort_values(ascending=False)\n",
        "\n"
      ],
      "metadata": {
        "id": "3dHnqGKVpGOz"
      },
      "execution_count": null,
      "outputs": []
    },
    {
      "cell_type": "markdown",
      "source": [
        "Se  crea el grafico de barras"
      ],
      "metadata": {
        "id": "ZkQcZUadr6PC"
      }
    },
    {
      "cell_type": "code",
      "source": [
        "plt.figure(figsize=(10, 6))\n",
        "colores_vendidos_ropa.plot(kind='bar', color='skyblue', edgecolor='black')\n",
        "\n",
        "#Configuracion de los titulos\n",
        "plt.title('Colores más vendidos en la categoría \"Ropa\"', fontsize=14)\n",
        "plt.xlabel('Color', fontsize=12)\n",
        "plt.ylabel('Cantidad Vendida', fontsize=12)\n",
        "plt.xticks(rotation=45, ha='right')\n",
        "plt.tight_layout()"
      ],
      "metadata": {
        "colab": {
          "base_uri": "https://localhost:8080/",
          "height": 607
        },
        "id": "6rcRfdwXpVQb",
        "outputId": "969c26d9-c97a-4939-e907-82498862f904"
      },
      "execution_count": null,
      "outputs": [
        {
          "output_type": "display_data",
          "data": {
            "text/plain": [
              "<Figure size 1000x600 with 1 Axes>"
            ],
            "image/png": "[encoded data removed]"
          },
          "metadata": {}
        }
      ]
    },
    {
      "cell_type": "markdown",
      "source": [
        "## 5) ¿El genero del cliente influye directamente en la categoria de producto comprada?"
      ],
      "metadata": {
        "id": "95cW_HdoGq4U"
      }
    },
    {
      "cell_type": "markdown",
      "source": [
        "Para finalizar con la exploracion de este data set y darle una conclusion a las hipotesis planteadas al comienzo de esta notebook, se realizara un grafico de barras apiladas normalizada para determinar si el genero del cliente influye directamente en la eleccion de la categoria a comprar"
      ],
      "metadata": {
        "id": "UGJLyd9tG8WT"
      }
    },
    {
      "cell_type": "markdown",
      "source": [
        "Se crea la tabla de frecuencias"
      ],
      "metadata": {
        "id": "kQBkpIW3Hcv7"
      }
    },
    {
      "cell_type": "code",
      "source": [
        "tabla_frecuencias = pd.crosstab(df_tend_de_compras_corregido['Genero'], df_tend_de_compras_corregido['Categoria'])\n"
      ],
      "metadata": {
        "id": "oFPzEiEFBeYw"
      },
      "execution_count": 23,
      "outputs": []
    },
    {
      "cell_type": "markdown",
      "source": [
        "Se realiza la normalizacion de las barras para que ambas esten al 100%"
      ],
      "metadata": {
        "id": "G-fkwVkSHgDT"
      }
    },
    {
      "cell_type": "code",
      "source": [
        "tabla_frecuencias_normalizada = tabla_frecuencias.div(tabla_frecuencias.sum(axis=1), axis=0)"
      ],
      "metadata": {
        "id": "rwOxRD2xEoku"
      },
      "execution_count": 27,
      "outputs": []
    },
    {
      "cell_type": "markdown",
      "source": [
        "Se crea el gráfico de barras apiladas normalizadas\n"
      ],
      "metadata": {
        "id": "3_Mv8gv2JR_S"
      }
    },
    {
      "cell_type": "code",
      "source": [
        "ax = tabla_frecuencias_normalizada.plot(kind='bar', stacked=True, figsize=(10, 6), colormap='Set3')\n",
        "\n",
        "#Ciclo for para agregar etiquetas de porcentaje a cada sección de las barras\n",
        "for i, barra in enumerate(ax.patches):\n",
        "    x = barra.get_x() + barra.get_width() / 2\n",
        "    y = barra.get_y() + barra.get_height() / 2\n",
        "    porcentaje = f\"{barra.get_height() * 100:.1f}%\"\n",
        "    if barra.get_height() > 0:  # Solo mostrar etiquetas para valores > 0\n",
        "        ax.text(x, y, porcentaje, ha='center', va='center', fontsize=10, color='black')\n",
        "\n",
        "#Personalizacion del grafico\n",
        "plt.title('Distribución Proporcional de Categorías por Género', fontsize=16)\n",
        "plt.xlabel('Género', fontsize=12)\n",
        "plt.ylabel('Proporción (%)', fontsize=12)\n",
        "plt.xticks(rotation=0)\n",
        "plt.legend(title='Categoría', bbox_to_anchor=(1.05, 1), loc='upper left')\n",
        "plt.tight_layout()"
      ],
      "metadata": {
        "colab": {
          "base_uri": "https://localhost:8080/",
          "height": 607
        },
        "id": "A_J2HP3eFfjs",
        "outputId": "158a945a-31ad-4097-80a3-600bce13b4fe"
      },
      "execution_count": 32,
      "outputs": [
        {
          "output_type": "display_data",
          "data": {
            "text/plain": [
              "<Figure size 1000x600 with 1 Axes>"
            ],
            "image/png": "[encoded data removed]"
          },
          "metadata": {}
        }
      ]
    },
    {
      "cell_type": "code",
      "source": [],
      "metadata": {
        "id": "dA3EJTYDJV7J"
      },
      "execution_count": null,
      "outputs": []
    }
  ]
}